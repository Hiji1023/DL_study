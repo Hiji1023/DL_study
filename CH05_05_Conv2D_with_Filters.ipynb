{
  "nbformat": 4,
  "nbformat_minor": 0,
  "metadata": {
    "colab": {
      "name": "CH05_05_Conv2D_with_Filters.ipynb",
      "provenance": [],
      "collapsed_sections": [],
      "include_colab_link": true
    },
    "kernelspec": {
      "name": "python3",
      "display_name": "Python 3"
    },
    "language_info": {
      "name": "python"
    }
  },
  "cells": [
    {
      "cell_type": "markdown",
      "metadata": {
        "id": "view-in-github",
        "colab_type": "text"
      },
      "source": [
        "<a href=\"https://colab.research.google.com/github/Hiji1023/dl_network_cla_/blob/main/CH05_05_Conv2D_with_Filters.ipynb\" target=\"_parent\"><img src=\"https://colab.research.google.com/assets/colab-badge.svg\" alt=\"Open In Colab\"/></a>"
      ]
    },
    {
      "cell_type": "markdown",
      "source": [
        "#**5-2: Conv Layer with Filters**#"
      ],
      "metadata": {
        "id": "tER91SJwQ7Es"
      }
    },
    {
      "cell_type": "markdown",
      "source": [
        "##**Code5-2-1: Shapes with Filters**##"
      ],
      "metadata": {
        "id": "GZky_9eTQ7y4"
      }
    },
    {
      "cell_type": "code",
      "source": [
        "import tensorflow as tf\n",
        "from tensorflow.keras.layers import Conv2D\n",
        "# N = datasample의 갯수\n",
        "N, n_H, n_W, n_C = 32, 28, 28, 3\n",
        "# filter 1개당 output image 1장\n",
        "n_filter = 5\n",
        "# window size = k_size by k_size by n_C \n",
        "k_size = 3\n",
        "\n",
        "images = tf.random.uniform(minval=0, maxval=1, shape=(N, n_H, n_W, n_C))\n",
        "\n",
        "conv = Conv2D(filters=n_filter, kernel_size=k_size)\n",
        "\n",
        "Y = conv(images)\n",
        "\n",
        "W, B = conv.get_weights()\n",
        "print(\"Input Image: {}\".format(images.shape))\n",
        "# W = 3 by 3 by 3이 5개, B = filter갯수\n",
        "print(\"W/B : {} / {}\".format(W.shape, B.shape))\n",
        "print(\"Output Image: {}\".format(Y.shape))"
      ],
      "metadata": {
        "id": "LvJGOaSoQ76t",
        "colab": {
          "base_uri": "https://localhost:8080/"
        },
        "outputId": "7cd9820c-1a20-49e3-d290-7d2393ea9281"
      },
      "execution_count": null,
      "outputs": [
        {
          "output_type": "stream",
          "name": "stdout",
          "text": [
            "Input Image: (32, 28, 28, 3)\n",
            "W/B : (3, 3, 3, 5) / (5,)\n",
            "Output Image: (32, 26, 26, 5)\n"
          ]
        }
      ]
    },
    {
      "cell_type": "markdown",
      "source": [
        "##**Code5-2-2: computations with Filters**##"
      ],
      "metadata": {
        "id": "_bfOmrLCQ8CN"
      }
    },
    {
      "cell_type": "code",
      "source": [
        "import numpy as np\n",
        "import tensorflow as tf\n",
        "\n",
        "from tensorflow.keras.layers import Conv2D\n",
        "\n",
        "N, n_H, n_W, n_C = 1, 5, 5, 3\n",
        "n_filter = 3\n",
        "k_size = 4\n",
        "\n",
        "images = tf.random.uniform(minval=0, maxval=1, shape=(N, n_H, n_W, n_C))\n",
        "\n",
        "# Forward Propagation(Tensorflow)\n",
        "conv = Conv2D(filters=n_filter, kernel_size=k_size)\n",
        "Y = conv(images)\n",
        "# print(Y.numpy().squeeze().shape)\n",
        "# np.swapaxes() = 배열의 두 축 교환\n",
        "# print(Y.numpy().squeeze().swapaxes(0,-1).shape)\n",
        "\n",
        "# np.transpose() = 행렬의 축, 뱡향 바꿈\n",
        "# shape(2, 2, 3) -> shape(3, 2, 2)\n",
        "# n_C가 가장 앞으로 오도록\n",
        "Y = np.transpose(Y.numpy().squeeze(),(2,0,1))\n",
        "\n",
        "print(\"Y(Tensorflow): \\n\",Y)\n",
        "\n",
        "W, B = conv.get_weights()\n",
        "\n",
        "#Forward Propagation(Manual)\n",
        "images = images.numpy().squeeze()\n",
        "\n",
        "Y_man = np.zeros(shape=(n_H - k_size + 1, n_W - k_size + 1, n_filter))\n",
        "for c in range(n_filter):\n",
        "  # weight의 갯수 = k_size by k_size by n_C by n_filter\n",
        "  c_W = W[:, :, :, c]\n",
        "  # bias의 갯수 = n_filter \n",
        "  c_B = B[c]\n",
        "\n",
        "  # output의 n_H, n_B 사이즈 만큼\n",
        "  for h in range(n_H - k_size + 1):\n",
        "    for w in range(n_W - k_size + 1):\n",
        "      window = images[h:h + k_size, w:w + k_size,:]\n",
        "      conv = np.sum(window * c_W) + c_B\n",
        "\n",
        "      Y_man[h, w, c] = conv\n",
        "\n",
        "print(\"Y(Manual): \\n\",np.transpose(Y_man, (2, 0, 1)))"
      ],
      "metadata": {
        "id": "C3i1kM4mQ8Ka",
        "colab": {
          "base_uri": "https://localhost:8080/"
        },
        "outputId": "d2622d60-7028-4e76-a7df-6c9f484ebb35"
      },
      "execution_count": 10,
      "outputs": [
        {
          "output_type": "stream",
          "name": "stdout",
          "text": [
            "Y(Tensorflow): \n",
            " [[[-0.15665042 -0.18671992]\n",
            "  [ 0.48171073  0.10545997]]\n",
            "\n",
            " [[ 0.0552998   0.10727382]\n",
            "  [-0.7468574  -0.13787341]]\n",
            "\n",
            " [[ 0.36121714  0.4150228 ]\n",
            "  [ 0.07460253  0.6223297 ]]]\n",
            "Y(Manual): \n",
            " [[[-0.15665044 -0.18671983]\n",
            "  [ 0.48171067  0.10545993]]\n",
            "\n",
            " [[ 0.05529979  0.10727387]\n",
            "  [-0.74685729 -0.1378734 ]]\n",
            "\n",
            " [[ 0.36121711  0.41502282]\n",
            "  [ 0.07460251  0.62232983]]]\n"
          ]
        }
      ]
    },
    {
      "cell_type": "code",
      "source": [
        "# channel이 가장 앞에 오면 좀 더 다루기 쉬운 모양이 됨\n",
        "import numpy as np\n",
        "\n",
        "# 0~10 사이의 2 by 3 by 4 tensor\n",
        "images = np.random.randint(low=0,high=10, size=(2,3,4))\n",
        "print(images.shape)\n",
        "for c in range(4):\n",
        "  print(images[:,:,c])\n",
        "print('\\n')\n",
        "# 차원 재배치\n",
        "# channel(4)을 맨 앞으로 나머지(2,3)는 뒤로 밀림 -> (4,2,3)\n",
        "images = np.transpose(images, (2, 0, 1))\n",
        "for c in range(4):\n",
        "  print(images[c, :, :])\n",
        "print(images.shape)\n",
        "\n",
        "# 처음의 images의 shape과 2,3번째 shape을 비교하면 transpose가 되어 channel이 가장 앞으로 온다."
      ],
      "metadata": {
        "colab": {
          "base_uri": "https://localhost:8080/"
        },
        "id": "Rx7W7hsu7So4",
        "outputId": "7e8383b6-ebb0-4064-b411-e4753bb90b9a"
      },
      "execution_count": 12,
      "outputs": [
        {
          "output_type": "stream",
          "name": "stdout",
          "text": [
            "(2, 3, 4)\n",
            "[[2 5 0]\n",
            " [6 9 9]]\n",
            "[[0 2 0]\n",
            " [7 0 9]]\n",
            "[[2 1 4]\n",
            " [1 3 4]]\n",
            "[[4 1 9]\n",
            " [5 7 6]]\n",
            "\n",
            "\n",
            "[[2 5 0]\n",
            " [6 9 9]]\n",
            "[[0 2 0]\n",
            " [7 0 9]]\n",
            "[[2 1 4]\n",
            " [1 3 4]]\n",
            "[[4 1 9]\n",
            " [5 7 6]]\n",
            "(4, 2, 3)\n"
          ]
        }
      ]
    },
    {
      "cell_type": "markdown",
      "source": [
        "#**5-3: Conv Layers with Activation Functions**#"
      ],
      "metadata": {
        "id": "XF9qz2MxRWAg"
      }
    },
    {
      "cell_type": "markdown",
      "source": [
        "##**5-3-1: Conv Layers with Activation Functions**##"
      ],
      "metadata": {
        "id": "pi0u13xzRXef"
      }
    },
    {
      "cell_type": "code",
      "source": [
        "import numpy as np\n",
        "import tensorflow as tf\n",
        "\n",
        "from tensorflow.keras.layers import Conv2D\n",
        "\n",
        "N, n_H, n_W, n_C = 1, 5, 5, 3\n",
        "n_filter = 3\n",
        "k_size = 4\n",
        "\n",
        "images = tf.random.uniform(minval=0, maxval=1, shape=(N, n_H, n_W, n_C))\n",
        "\n",
        "# Forward Propagation(Tensorflow)\n",
        "conv = Conv2D(filters=n_filter, kernel_size=k_size, activation='sigmoid')\n",
        "Y = conv(images)\n",
        "\n",
        "# shape(2, 2, 3) -> shape(3, 2, 2)\n",
        "# n_C가 가장 앞으로 오도록\n",
        "Y = np.transpose(Y.numpy().squeeze(),(2,0,1))\n",
        "\n",
        "print(\"Y(Tensorflow): \\n\",Y)\n",
        "\n",
        "W, B = conv.get_weights()\n",
        "\n",
        "#Forward Propagation(Manual)\n",
        "images = images.numpy().squeeze()\n",
        "\n",
        "Y_man = np.zeros(shape=(n_H - k_size + 1, n_W - k_size + 1, n_filter))\n",
        "for c in range(n_filter):\n",
        "  # weight의 갯수 = k_size by k_size by n_C by n_filter\n",
        "  c_W = W[:, :, :, c]\n",
        "  # bias의 갯수 = n_filter \n",
        "  c_B = B[c]\n",
        "\n",
        "  # output의 n_H, n_B 사이즈 만큼\n",
        "  for h in range(n_H - k_size + 1):\n",
        "    for w in range(n_W - k_size + 1):\n",
        "      window = images[h:h + k_size, w:w + k_size,:]\n",
        "      conv = np.sum(window * c_W) + c_B\n",
        "      # activation = sigmoid\n",
        "      conv = 1 / (1 + np.exp(-conv))\n",
        "\n",
        "      Y_man[h, w, c] = conv\n",
        "\n",
        "print(\"Y(Manual): \\n\",np.transpose(Y_man, (2, 0, 1)))"
      ],
      "metadata": {
        "id": "rjhp6bbJRWKH",
        "colab": {
          "base_uri": "https://localhost:8080/"
        },
        "outputId": "8582e369-37cc-4308-a849-0bfc086ad66c"
      },
      "execution_count": 15,
      "outputs": [
        {
          "output_type": "stream",
          "name": "stdout",
          "text": [
            "Y(Tensorflow): \n",
            " [[[0.4381765  0.41805097]\n",
            "  [0.5159454  0.41421336]]\n",
            "\n",
            " [[0.6743414  0.655199  ]\n",
            "  [0.6629704  0.72552526]]\n",
            "\n",
            " [[0.40749657 0.3964018 ]\n",
            "  [0.37281477 0.3364318 ]]]\n",
            "Y(Manual): \n",
            " [[[0.43817651 0.41805096]\n",
            "  [0.51594537 0.41421336]]\n",
            "\n",
            " [[0.67434141 0.65519899]\n",
            "  [0.66297043 0.72552526]]\n",
            "\n",
            " [[0.40749656 0.39640179]\n",
            "  [0.37281474 0.33643177]]]\n"
          ]
        }
      ]
    }
  ]
}