{
  "nbformat": 4,
  "nbformat_minor": 0,
  "metadata": {
    "colab": {
      "name": "CH07_04_LeNet_Implementation.ipynb",
      "provenance": [],
      "collapsed_sections": [],
      "include_colab_link": true
    },
    "kernelspec": {
      "name": "python3",
      "display_name": "Python 3"
    },
    "language_info": {
      "name": "python"
    }
  },
  "cells": [
    {
      "cell_type": "markdown",
      "metadata": {
        "id": "view-in-github",
        "colab_type": "text"
      },
      "source": [
        "<a href=\"https://colab.research.google.com/github/Hiji1023/dl_network_cla_/blob/main/CH07_04_LeNet_Implementation.ipynb\" target=\"_parent\"><img src=\"https://colab.research.google.com/assets/colab-badge.svg\" alt=\"Open In Colab\"/></a>"
      ]
    },
    {
      "cell_type": "markdown",
      "source": [
        "#**7-4: Implementation of LeNet**#"
      ],
      "metadata": {
        "id": "kNVNeS4VRPFX"
      }
    },
    {
      "cell_type": "markdown",
      "source": [
        "##**Code7-4-1: LeNet with Model Sub-classing**##"
      ],
      "metadata": {
        "id": "mHfppMFiRP_5"
      }
    },
    {
      "cell_type": "code",
      "source": [
        "import tensorflow as tf\n",
        "\n",
        "from tensorflow.keras.models import Model\n",
        "\n",
        "from tensorflow.keras.layers import Conv2D\n",
        "from tensorflow.keras.layers import AveragePooling2D\n",
        "from tensorflow.keras.layers import Flatten\n",
        "from tensorflow.keras.layers import Dense\n",
        "\n",
        "class LeNet(Model):\n",
        "  def __init__(self):\n",
        "    super(LeNet, self).__init__()\n",
        "\n",
        "    # feature extractor\n",
        "    self.conv1 = Conv2D(filters = 6, kernel_size = 5, padding = 'same', activation = 'tanh')\n",
        "    self.conv1_pool = AveragePooling2D(pool_size = 2, strides = 2)\n",
        "    self.conv2 = Conv2D(filters = 16, kernel_size = 5, padding = 'valid',activation = 'tanh')\n",
        "    self.conv2_pool = AveragePooling2D(pool_size = 2, strides = 2)\n",
        "    self.conv3 = Conv2D(filters = 120, kernel_size = 5, padding = 'valid',activation = 'tanh')\n",
        "    self.flatten = Flatten()\n",
        "\n",
        "    # classifier\n",
        "    self.dense1 = Dense(units = 84, activation = 'tanh')\n",
        "    self.dense2 = Dense(units = 10, activation = 'softmax')\n",
        "\n",
        "  def call(self, x):\n",
        "    print(\"x: {}\".format(x.shape))\n",
        "\n",
        "    x = self.conv1(x)\n",
        "    print(\"x: {}\".format(x.shape))\n",
        "    x = self.conv1_pool(x)\n",
        "    print(\"x: {}\".format(x.shape))\n",
        "    x = self.conv2(x)\n",
        "    print(\"x: {}\".format(x.shape))\n",
        "    x = self.conv2_pool(x)\n",
        "    print(\"x: {}\".format(x.shape))\n",
        "    x = self.conv3(x)\n",
        "    print(\"x: {}\".format(x.shape))\n",
        "    x = self.flatten(x)\n",
        "    print(\"x: {}\".format(x.shape))\n",
        "\n",
        "    x = self.dense1(x)\n",
        "    print(\"x: {}\".format(x.shape))\n",
        "    x = self.dense2(x)\n",
        "    print(\"x: {}\".format(x.shape))\n",
        "    return x\n",
        "\n",
        "model = LeNet()\n",
        "x = tf.random.normal(shape=(32, 28, 28, 1))\n",
        "predictions = model(x)"
      ],
      "metadata": {
        "id": "Wel4D-B7RQQo",
        "colab": {
          "base_uri": "https://localhost:8080/"
        },
        "outputId": "c0f1aea6-ad62-4f2d-8cc0-3c5bf43a12d9"
      },
      "execution_count": 4,
      "outputs": [
        {
          "output_type": "stream",
          "name": "stdout",
          "text": [
            "x: (32, 28, 28, 1)\n",
            "x: (32, 28, 28, 6)\n",
            "x: (32, 14, 14, 6)\n",
            "x: (32, 10, 10, 16)\n",
            "x: (32, 5, 5, 16)\n",
            "x: (32, 1, 1, 120)\n",
            "x: (32, 120)\n",
            "x: (32, 84)\n",
            "x: (32, 10)\n"
          ]
        }
      ]
    },
    {
      "cell_type": "markdown",
      "source": [
        "##**Code7-4-2: LeNet with Hybrid Method**##"
      ],
      "metadata": {
        "id": "-FcDKyJkRpga"
      }
    },
    {
      "cell_type": "code",
      "source": [
        "import tensorflow as tf\n",
        "\n",
        "from tensorflow.keras.models import Model\n",
        "from tensorflow.keras.layers import Layer\n",
        "from tensorflow.keras.layers import Conv2D\n",
        "from tensorflow.keras.layers import AveragePooling2D\n",
        "from tensorflow.keras.layers import Flatten\n",
        "from tensorflow.keras.layers import Dense\n",
        "\n",
        "class ConvLayer(Layer):\n",
        "  # filters와 padding은 바뀜\n",
        "  # conv3는 pooling layer가 없으므로 조건넣어줌\n",
        "  def __init__(self, filters, padding, pool=True):\n",
        "    super(ConvLayer, self).__init__()\n",
        "    self.pool = pool\n",
        "    \n",
        "    self.conv = Conv2D(filters = 6, kernel_size = 5, padding = 'same', activation = 'tanh')\n",
        "    if pool == True:\n",
        "      self.conv_pool = AveragePooling2D(pool_size = 2, strides = 2)\n",
        "\n",
        "  def call(self, x):\n",
        "    x = self.conv(x)\n",
        "    if self.pool == True:\n",
        "      x = self.conv_pool(x)\n",
        "    return x\n",
        "\n",
        "class LeNet(Model):\n",
        "  def __init__(self):\n",
        "    super(LeNet, self).__init__()\n",
        "\n",
        "    # feature extractor\n",
        "    self.conv1 = ConvLayer(filters = 6, padding = 'same')\n",
        "   \n",
        "    self.conv2 = ConvLayer(filters = 16, padding = 'valid')\n",
        "    self.conv3 = ConvLayer(filters = 120, padding = 'valid', pool = False)\n",
        "    self.flatten = Flatten()\n",
        "\n",
        "    # classifier\n",
        "    self.dense1 = Dense(units = 84, activation = 'tanh')\n",
        "    self.dense2 = Dense(units = 10, activation = 'softmax')\n",
        "\n",
        "  def call(self, x):\n",
        "    x = self.conv1(x)\n",
        "    x = self.conv2(x)\n",
        "    x = self.conv3(x)\n",
        "    x = self.flatten(x)\n",
        "\n",
        "    x = self.dense1(x)\n",
        "    x = self.dense2(x)\n",
        "    return x\n",
        "\n",
        "model = LeNet()\n",
        "x = tf.random.normal(shape=(32, 28, 28, 1))\n",
        "predictions = model(x)"
      ],
      "metadata": {
        "id": "7tSvcNniRpvX"
      },
      "execution_count": 16,
      "outputs": []
    },
    {
      "cell_type": "markdown",
      "source": [
        "##**Code7-4-3: Forward Propagation of LeNet**##"
      ],
      "metadata": {
        "id": "u01DMWjtRp9e"
      }
    },
    {
      "cell_type": "code",
      "source": [
        "import tensorflow as tf\n",
        "import numpy as np\n",
        "\n",
        "from tensorflow.keras.models import Model\n",
        "from tensorflow.keras.layers import Layer\n",
        "from tensorflow.keras.layers import Conv2D\n",
        "from tensorflow.keras.layers import AveragePooling2D\n",
        "from tensorflow.keras.layers import Flatten\n",
        "from tensorflow.keras.layers import Dense\n",
        "\n",
        "from tensorflow.keras.datasets import mnist\n",
        "\n",
        "from tensorflow.keras.losses import SparseCategoricalCrossentropy\n",
        "\n",
        "#### LeNet Implementation ####\n",
        "class ConvLayer(Layer):\n",
        "  def __init__(self, filters, padding, pool=True):\n",
        "    super(ConvLayer, self).__init__()\n",
        "    self.pool = pool\n",
        "\n",
        "    self.conv = Conv2D(filters = 6, kernel_size = 5, padding = 'same', activation = 'tanh')\n",
        "    if pool == True:\n",
        "      self.conv_pool = AveragePooling2D(pool_size = 2, strides = 2)\n",
        "\n",
        "  def call(self, x):\n",
        "    x = self.conv(x)\n",
        "    if self.pool == True:\n",
        "      x = self.conv_pool(x)\n",
        "    return x\n",
        "\n",
        "class LeNet(Model):\n",
        "  def __init__(self):\n",
        "    super(LeNet, self).__init__()\n",
        "\n",
        "    # feature extractor\n",
        "    self.conv1 = ConvLayer(filters = 6, padding = 'same')\n",
        "   \n",
        "    self.conv2 = ConvLayer(filters = 16, padding = 'valid')\n",
        "    self.conv3 = ConvLayer(filters = 120, padding = 'valid', pool = False)\n",
        "    self.flatten = Flatten()\n",
        "\n",
        "    # classifier\n",
        "    self.dense1 = Dense(units = 84, activation = 'tanh')\n",
        "    self.dense2 = Dense(units = 10, activation = 'softmax')\n",
        "\n",
        "  def call(self, x):\n",
        "    x = self.conv1(x)\n",
        "    x = self.conv2(x)\n",
        "    x = self.conv3(x)\n",
        "    x = self.flatten(x)\n",
        "\n",
        "    x = self.dense1(x)\n",
        "    x = self.dense2(x)\n",
        "    return x\n",
        "\n",
        "###Dataset Preparation ####\n",
        "(train_images, train_labels), _ = mnist.load_data()\n",
        "# 마지막 컬러 채널 추가\n",
        "train_images = np.expand_dims(train_images, axis=3).astype(np.float32)\n",
        "train_labels = train_labels.astype(np.int32)\n",
        "\n",
        "# dataset만들기\n",
        "train_ds = tf.data.Dataset.from_tensor_slices((train_images, train_labels))\n",
        "train_ds = train_ds.batch(32)\n",
        "\n",
        "####Forward Propagation ####\n",
        "model = LeNet()\n",
        "loss_object = SparseCategoricalCrossentropy()\n",
        "\n",
        "for images, labels in train_ds:\n",
        "  predictions = model(images)\n",
        "  loss = loss_object(labels, predictions)\n",
        "  print(loss)\n",
        "\n",
        "  break"
      ],
      "metadata": {
        "id": "AhhEd1hKRqMz",
        "colab": {
          "base_uri": "https://localhost:8080/"
        },
        "outputId": "04e41d6b-5bb2-4c40-f4d7-1bec5cb775ec"
      },
      "execution_count": 26,
      "outputs": [
        {
          "output_type": "stream",
          "name": "stdout",
          "text": [
            "tf.Tensor(2.4046702, shape=(), dtype=float32)\n"
          ]
        }
      ]
    }
  ]
}