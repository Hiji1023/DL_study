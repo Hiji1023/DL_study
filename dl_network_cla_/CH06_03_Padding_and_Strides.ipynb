{
  "nbformat": 4,
  "nbformat_minor": 0,
  "metadata": {
    "colab": {
      "name": "CH06_03_Padding_and_Strides.ipynb",
      "provenance": [],
      "collapsed_sections": [],
      "include_colab_link": true
    },
    "kernelspec": {
      "name": "python3",
      "display_name": "Python 3"
    },
    "language_info": {
      "name": "python"
    }
  },
  "cells": [
    {
      "cell_type": "markdown",
      "metadata": {
        "id": "view-in-github",
        "colab_type": "text"
      },
      "source": [
        "<a href=\"https://colab.research.google.com/github/Hiji1023/dl_network_cla_/blob/main/CH06_03_Padding_and_Strides.ipynb\" target=\"_parent\"><img src=\"https://colab.research.google.com/assets/colab-badge.svg\" alt=\"Open In Colab\"/></a>"
      ]
    },
    {
      "cell_type": "markdown",
      "source": [
        "#**6-3: 3D  Max/Avg Pooling**#"
      ],
      "metadata": {
        "id": "p0NyO6v_Guku"
      }
    },
    {
      "cell_type": "markdown",
      "source": [
        "##**Code6-3-1: 3D MaxPooling**##"
      ],
      "metadata": {
        "id": "FR8jkoG4Gvhj"
      }
    },
    {
      "cell_type": "code",
      "source": [
        "from re import S\n",
        "#multi channel input\n",
        "import math # gauss func\n",
        "import numpy as np\n",
        "import tensorflow as tf\n",
        "\n",
        "from tensorflow.keras.layers import MaxPooling2D\n",
        "\n",
        "N, n_H, n_W, n_C = 1, 5, 5, 3\n",
        "f, s = 2,2\n",
        "\n",
        "x = tf.random.normal(shape=(N, n_H, n_W, n_C))\n",
        "#channel wise로 보기위해 transpose\n",
        "# x.numpy().squeeze = (5, 5, 3)\n",
        "# np.transpose(x.numpy().squeeze(), (2,0,1)) = (3, 5, 5)\n",
        "print(\"x: {}\\n{}\".format(x.shape, np.transpose(x.numpy().squeeze(), (2,0,1))))\n",
        "pool_max = MaxPooling2D(pool_size = f, strides = s)\n",
        "pooled_max = pool_max(x)\n",
        "\n",
        "pooled_max_t = np.transpose(pooled_max.numpy().squeeze(),(2,0,1))\n",
        "print(\"pooled_max(Tensorflow): {}\\n{}\".format(pooled_max.shape,pooled_max_t))\n",
        "\n",
        "x = x.numpy().squeeze()\n",
        "n_H_ = math.floor((n_H - f)/s + 1)\n",
        "n_W_ = math.floor((n_W - f)/s + 1)\n",
        "pooled_max_man = np.zeros(shape=(n_H_,n_W_,n_C))\n",
        "\n",
        "# channel별로 들어옴\n",
        "for c in range(n_C):\n",
        "  c_image = x[:, :, c]\n",
        "\n",
        "# input image의 index와 output image의 index가 달라 변수설정\n",
        "  h_ = 0\n",
        "  for h in range(0, n_H - f + 1, s):\n",
        "    w_ = 0\n",
        "    for w in range(0, n_W - f + 1, s):\n",
        "      window = c_image[h:h+f, w:w+f]\n",
        "      pooled_max_man[h_, w_, c] = np.max(window)\n",
        "\n",
        "      w_ += 1\n",
        "    h_ += 1 \n",
        "\n",
        "pooled_max_t = np.transpose(pooled_max_man,(2,0,1))\n",
        "print(\"pooled_max(Manual): {}\\n{}\".format(pooled_max_man.shape,pooled_max_t))"
      ],
      "metadata": {
        "colab": {
          "base_uri": "https://localhost:8080/"
        },
        "id": "Zjlc8Un2GvoN",
        "outputId": "512fbd16-80d7-42d3-d786-48b2b833798d"
      },
      "execution_count": 9,
      "outputs": [
        {
          "output_type": "stream",
          "name": "stdout",
          "text": [
            "x: (1, 5, 5, 3)\n",
            "[[[-0.04165245 -0.69489294  0.2628172  -1.4416945   0.32234243]\n",
            "  [-0.79485124 -1.2013087  -1.2264383   0.8739131  -0.7393973 ]\n",
            "  [-0.8175927  -0.32816795 -0.712461   -1.6772014  -0.36527568]\n",
            "  [-1.825489    1.2413286   0.14806442 -2.4312792  -0.9400049 ]\n",
            "  [-0.5953234  -0.6701633   1.246382    0.0760054  -0.66434175]]\n",
            "\n",
            " [[ 0.69569916 -0.4265282   1.0689193  -2.368038   -2.049476  ]\n",
            "  [ 0.3202273  -0.09945048  0.10267391  1.9018568  -0.40930164]\n",
            "  [-0.332641    0.9687359  -0.5321431   1.397498   -2.3049204 ]\n",
            "  [-0.8621706  -0.30300015 -0.02255699 -0.5857848   0.8662503 ]\n",
            "  [ 0.01320763 -1.2768902   1.6485813   0.7326172  -0.6582798 ]]\n",
            "\n",
            " [[-0.44493952  0.9499523  -0.9830161   0.78371817 -0.88013387]\n",
            "  [ 0.5741747  -0.5608523   0.11236259  0.20844218 -1.5184106 ]\n",
            "  [ 0.05717982 -0.05508999  0.00551856  0.48005813 -0.87953824]\n",
            "  [-1.1947052   0.86224306  0.17340192 -0.6662103   2.0635462 ]\n",
            "  [-1.9396527   0.80733216 -0.391985   -0.8547198  -2.0354655 ]]]\n",
            "pooled_max(Tensorflow): (1, 2, 2, 3)\n",
            "[[[-0.04165245  0.8739131 ]\n",
            "  [ 1.2413286   0.14806442]]\n",
            "\n",
            " [[ 0.69569916  1.9018568 ]\n",
            "  [ 0.9687359   1.397498  ]]\n",
            "\n",
            " [[ 0.9499523   0.78371817]\n",
            "  [ 0.86224306  0.48005813]]]\n",
            "pooled_max(Manual): (2, 2, 3)\n",
            "[[[-0.04165245  0.87391311]\n",
            "  [ 1.2413286   0.14806442]]\n",
            "\n",
            " [[ 0.69569916  1.90185678]\n",
            "  [ 0.96873587  1.39749801]]\n",
            "\n",
            " [[ 0.9499523   0.78371817]\n",
            "  [ 0.86224306  0.48005813]]]\n"
          ]
        }
      ]
    },
    {
      "cell_type": "markdown",
      "source": [
        "#**6-4: Padding**#"
      ],
      "metadata": {
        "id": "GbnnIZ1WGv4C"
      }
    },
    {
      "cell_type": "markdown",
      "source": [
        "##**Code6-4-1: Zero Padding 2D Layer**##"
      ],
      "metadata": {
        "id": "b097UsKqG79I"
      }
    },
    {
      "cell_type": "code",
      "source": [
        "import tensorflow as tf\n",
        "\n",
        "from tensorflow.keras.layers import ZeroPadding2D\n",
        "\n",
        "images = tf.random.normal(shape=(1, 28, 28, 3))\n",
        "print(images.shape)\n",
        "# print(np.transpose(images.numpy().squeeze(), (2, 0, 1)))\n",
        "\n",
        "zero_padding = ZeroPadding2D(padding=1)\n",
        "y = zero_padding(images)\n",
        "\n",
        "print(y.shape)\n",
        "# print(np.transpose(y.numpy().squeeze(),(2, 0, 1)))\n"
      ],
      "metadata": {
        "colab": {
          "base_uri": "https://localhost:8080/"
        },
        "id": "vvGl5FpTGv-m",
        "outputId": "dc5580d5-5deb-4657-fa9c-ea9c9dd281f6"
      },
      "execution_count": 13,
      "outputs": [
        {
          "output_type": "stream",
          "name": "stdout",
          "text": [
            "(1, 28, 28, 3)\n",
            "(1, 30, 30, 3)\n"
          ]
        }
      ]
    },
    {
      "cell_type": "markdown",
      "source": [
        "##**Code6-4-2: Zero Padding with COnv2D Layers**##"
      ],
      "metadata": {
        "id": "NP1gFA6THTUs"
      }
    },
    {
      "cell_type": "code",
      "source": [
        "import tensorflow as tf\n",
        "\n",
        "from tensorflow.keras.layers import Conv2D\n",
        "\n",
        "images = tf.random.normal(shape=(1, 28, 28, 3))\n",
        "# padding = 'vaild' or 'same'\n",
        "# same은  input shape = output shape 하도록 padding을 해줌 -> (f-1)/2 = padding size\n",
        "conv = Conv2D(filters = 1, kernel_size = 3, padding='same')\n",
        "y = conv(images)\n",
        "print(y.shape)"
      ],
      "metadata": {
        "colab": {
          "base_uri": "https://localhost:8080/"
        },
        "id": "gp1LHSwqHTdk",
        "outputId": "f6feaf3b-8f86-46fa-8959-5a45d49b0d38"
      },
      "execution_count": 18,
      "outputs": [
        {
          "output_type": "stream",
          "name": "stdout",
          "text": [
            "(1, 28, 28, 1)\n"
          ]
        }
      ]
    },
    {
      "cell_type": "markdown",
      "source": [
        "#**6-5: Strides**#"
      ],
      "metadata": {
        "id": "1sInAV78HTla"
      }
    },
    {
      "cell_type": "markdown",
      "source": [
        "##**Code6-5-1: Strides in Conv2D Layers**##"
      ],
      "metadata": {
        "id": "Av4a7CP6HjrD"
      }
    },
    {
      "cell_type": "code",
      "source": [
        "import tensorflow as tf\n",
        "\n",
        "from tensorflow.keras.layers import Conv2D\n",
        "\n",
        "images = tf.random.normal(shape=(1, 28, 28, 3))\n",
        "# valid = no padding\n",
        "conv = Conv2D(filters=1, kernel_size = 3, padding='valid',strides=2)\n",
        "y = conv(images)\n",
        "\n",
        "# n_H_ = [(n_H + 2p - f)/s + 1]\n",
        "print(images.shape)\n",
        "print(y.shape)\n",
        "\n",
        "# conv layer는 filter의 갯수에 따라 channel의 수가 정해짐"
      ],
      "metadata": {
        "colab": {
          "base_uri": "https://localhost:8080/"
        },
        "id": "YWlM7tzeHTrR",
        "outputId": "137425d3-44b1-4a79-ea8f-71405e54152b"
      },
      "execution_count": 20,
      "outputs": [
        {
          "output_type": "stream",
          "name": "stdout",
          "text": [
            "(1, 28, 28, 3)\n",
            "(1, 13, 13, 1)\n"
          ]
        }
      ]
    },
    {
      "cell_type": "markdown",
      "source": [
        "##**Code6-5-2: Strides in Pooling Layers**##"
      ],
      "metadata": {
        "id": "YbLjTJRUH0tj"
      }
    },
    {
      "cell_type": "code",
      "source": [
        "import tensorflow as tf\n",
        "\n",
        "from tensorflow.keras.layers import MaxPooling2D\n",
        "\n",
        "images = tf.random.normal(shape=(1, 28, 28, 3))\n",
        "pool = MaxPooling2D(pool_size = 3, strides =2)\n",
        "y = pool(images)\n",
        "\n",
        "# n_H_ = [(n_H + 2p - f)/s + 1]\n",
        "print(images.shape)\n",
        "print(y.shape)\n"
      ],
      "metadata": {
        "colab": {
          "base_uri": "https://localhost:8080/"
        },
        "id": "mvDtKT7zH4V8",
        "outputId": "3e75b42f-5a44-4479-90e3-e2e89002c5f1"
      },
      "execution_count": 22,
      "outputs": [
        {
          "output_type": "stream",
          "name": "stdout",
          "text": [
            "(1, 28, 28, 3)\n",
            "(1, 13, 13, 3)\n"
          ]
        }
      ]
    }
  ]
}