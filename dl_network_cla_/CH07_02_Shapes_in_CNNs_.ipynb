{
  "nbformat": 4,
  "nbformat_minor": 0,
  "metadata": {
    "colab": {
      "name": "CH07_02_Shapes_in_CNNs..ipynb",
      "provenance": [],
      "collapsed_sections": [],
      "include_colab_link": true
    },
    "kernelspec": {
      "name": "python3",
      "display_name": "Python 3"
    },
    "language_info": {
      "name": "python"
    }
  },
  "cells": [
    {
      "cell_type": "markdown",
      "metadata": {
        "id": "view-in-github",
        "colab_type": "text"
      },
      "source": [
        "<a href=\"https://colab.research.google.com/github/Hiji1023/dl_network_cla_/blob/main/CH07_02_Shapes_in_CNNs_.ipynb\" target=\"_parent\"><img src=\"https://colab.research.google.com/assets/colab-badge.svg\" alt=\"Open In Colab\"/></a>"
      ]
    },
    {
      "cell_type": "markdown",
      "source": [
        "#**7-1: Shapes in CNNs**#"
      ],
      "metadata": {
        "id": "d_06qRhkaRDV"
      }
    },
    {
      "cell_type": "markdown",
      "source": [
        "##**Code7-1-1: Shapes in the Feature Extrators**##"
      ],
      "metadata": {
        "id": "fg0zbHZYaSPu"
      }
    },
    {
      "cell_type": "code",
      "source": [
        "import tensorflow as tf\n",
        "\n",
        "from tensorflow.keras.layers import Conv2D\n",
        "from tensorflow.keras.layers import MaxPooling2D\n",
        "from tensorflow.keras.layers import Flatten\n",
        "\n",
        "N, n_H, n_W, n_C = 32, 28, 28, 3\n",
        "n_conv_filter = 5\n",
        "k_size = 3\n",
        "pool_size, pool_strides = 2, 2\n",
        "batch_size = 32\n",
        "\n",
        "x = tf.random.normal(shape=(N, n_H, n_W, n_C))\n",
        "\n",
        "conv1 = Conv2D(filters = n_conv_filter, kernel_size = k_size, padding='same',activation = 'relu')\n",
        "conv1_pool = MaxPooling2D(pool_size=pool_size, strides = pool_strides)\n",
        "conv2 = Conv2D(filters = n_conv_filter, kernel_size = k_size, padding='same',activation = 'relu')\n",
        "conv2_pool = MaxPooling2D(pool_size=pool_size, strides = pool_strides)\n",
        "\n",
        "flatten = Flatten()\n",
        "\n",
        "print(\"Input: {}\\n\".format(x.shape))\n",
        "\n",
        "#conv layer는 padding = 'same'이라 input,output shape이 같다\n",
        "#pooling layer의 output shape = (n_H + 2p -f)/s+1\n",
        "x = conv1(x)\n",
        "W, B = conv1.get_weights()\n",
        "# W = (kernel_size, kernel_size, channel, filter), B = (filter)\n",
        "print(\"W/B: {}/{}\".format(W.shape, B.shape))\n",
        "print(\"After conv1: {}\".format(x.shape))\n",
        "x = conv1_pool(x)\n",
        "print(\"After conv1_pool: {}\".format(x.shape))\n",
        "\n",
        "\n",
        "x = conv2(x)\n",
        "W, B = conv2.get_weights()\n",
        "print(\"W/B: {}/{}\".format(W.shape, B.shape))\n",
        "print(\"After conv2: {}\".format(x.shape))\n",
        "x = conv2_pool(x)\n",
        "print(\"After conv2_pool: {}\".format(x.shape))\n",
        "\n",
        "# 32개의 vector가 만들어짐\n",
        "x = flatten(x)\n",
        "print(\"After flatten: {}\".format(x.shape))"
      ],
      "metadata": {
        "colab": {
          "base_uri": "https://localhost:8080/"
        },
        "id": "7Mq_6wGhaSZl",
        "outputId": "1d2282f0-6777-4fd2-ecc0-80b6976e3b16"
      },
      "execution_count": 10,
      "outputs": [
        {
          "output_type": "stream",
          "name": "stdout",
          "text": [
            "Input: (32, 28, 28, 3)\n",
            "\n",
            "W/B: (3, 3, 3, 5)/(5,)\n",
            "After conv1: (32, 28, 28, 5)\n",
            "After conv1_pool: (32, 14, 14, 5)\n",
            "W/B: (3, 3, 5, 5)/(5,)\n",
            "After conv2: (32, 14, 14, 5)\n",
            "After conv2_pool: (32, 7, 7, 5)\n",
            "After flatten: (32, 245)\n"
          ]
        }
      ]
    },
    {
      "cell_type": "markdown",
      "source": [
        "##**Code7-1-2: Shapes in the Classifier**##"
      ],
      "metadata": {
        "id": "lVLCr0ObaSrp"
      }
    },
    {
      "cell_type": "code",
      "source": [
        "from tensorflow.keras.layers import Dense\n",
        "\n",
        "n_neurons = [50, 25, 10]\n",
        "\n",
        "dense1 = Dense(units=n_neurons[0], activation='relu')\n",
        "dense2 = Dense(units=n_neurons[1], activation='relu')\n",
        "dense3 = Dense(units=n_neurons[2], activation='softmax')\n",
        "\n",
        "print(\"Input feature: {}\".format(x.shape))\n",
        "\n",
        "# input shape = (32, 245)\n",
        "# W, B = (245, neuron의 갯수), (neuron의 갯수)\n",
        "# output shape = (32, neuron의 갯수)\n",
        "x = dense1(x)\n",
        "W, B = dense1.get_weights()\n",
        "print(\"W/B: {}/{}\".format(W.shape, B.shape))\n",
        "print(\"After dense1: {}\\n\".format(x.shape))\n",
        "\n",
        "x = dense2(x)\n",
        "W, B = dense2.get_weights()\n",
        "print(\"W/B: {}/{}\".format(W.shape, B.shape))\n",
        "print(\"After dense2: {}\\n\".format(x.shape))\n",
        "\n",
        "x = dense3(x)\n",
        "W, B = dense3.get_weights()\n",
        "print(\"W/B: {}/{}\".format(W.shape, B.shape))\n",
        "print(\"After dense3: {}\\n\".format(x.shape))\n",
        "\n"
      ],
      "metadata": {
        "colab": {
          "base_uri": "https://localhost:8080/"
        },
        "id": "VikuZt87aSz9",
        "outputId": "58555164-411f-47e9-af24-08768c0abd0a"
      },
      "execution_count": 11,
      "outputs": [
        {
          "output_type": "stream",
          "name": "stdout",
          "text": [
            "Input feature: (32, 245)\n",
            "W/B: (245, 50)/(50,)\n",
            "After dense1: (32, 50)\n",
            "\n",
            "W/B: (50, 25)/(25,)\n",
            "After dense2: (32, 25)\n",
            "\n",
            "W/B: (25, 10)/(10,)\n",
            "After dense3: (32, 10)\n",
            "\n"
          ]
        }
      ]
    },
    {
      "cell_type": "markdown",
      "source": [
        "##**Code7-1-3: Shapes in the Loss Functions**##"
      ],
      "metadata": {
        "id": "4fy2H5XvaS6D"
      }
    },
    {
      "cell_type": "code",
      "source": [
        "from tensorflow.keras.losses import CategoricalCrossentropy\n",
        "\n",
        "# input = (32,10), class 10개\n",
        "y = tf.random.uniform(minval = 0, maxval = 10, shape=(32, ), dtype=tf.int32)\n",
        "print(y)\n",
        "# depth = class의 갯수\n",
        "y = tf.one_hot(y, depth=10)\n",
        "print(y.shape)\n",
        "loss_object = CategoricalCrossentropy()\n",
        "loss = loss_object(y,x)\n",
        "print(loss.shape)\n",
        "print(loss)\n"
      ],
      "metadata": {
        "colab": {
          "base_uri": "https://localhost:8080/"
        },
        "id": "f7XRonMxaTBS",
        "outputId": "b1ee7281-0398-4ae0-ef69-d2da08165e5d"
      },
      "execution_count": 17,
      "outputs": [
        {
          "output_type": "stream",
          "name": "stdout",
          "text": [
            "tf.Tensor([3 5 6 3 8 7 9 9 1 0 5 6 4 2 6 6 1 6 6 2 6 7 5 1 7 0 1 1 3 7 9 6], shape=(32,), dtype=int32)\n",
            "(32, 10)\n",
            "()\n",
            "tf.Tensor(3.3937004, shape=(), dtype=float32)\n"
          ]
        }
      ]
    },
    {
      "cell_type": "code",
      "source": [],
      "metadata": {
        "id": "tntu54y3mUAL"
      },
      "execution_count": null,
      "outputs": []
    }
  ]
}