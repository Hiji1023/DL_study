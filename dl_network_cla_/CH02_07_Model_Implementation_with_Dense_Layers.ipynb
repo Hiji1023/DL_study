{
  "nbformat": 4,
  "nbformat_minor": 0,
  "metadata": {
    "colab": {
      "name": "CH02_07. [구현강의]_Model_Implementation_with_Dense_Layers.ipynb. [구현강의]_Model_Implementation_with_Dense_Layers",
      "provenance": [],
      "collapsed_sections": [],
      "include_colab_link": true
    },
    "kernelspec": {
      "name": "python3",
      "display_name": "Python 3"
    },
    "language_info": {
      "name": "python"
    }
  },
  "cells": [
    {
      "cell_type": "markdown",
      "metadata": {
        "id": "view-in-github",
        "colab_type": "text"
      },
      "source": [
        "<a href=\"https://colab.research.google.com/github/Hiji1023/dl_network_cla_/blob/main/CH02_07_Model_Implementation_with_Dense_Layers.ipynb\" target=\"_parent\"><img src=\"https://colab.research.google.com/assets/colab-badge.svg\" alt=\"Open In Colab\"/></a>"
      ]
    },
    {
      "cell_type": "markdown",
      "source": [
        "#**2-3: Model Implementation**#"
      ],
      "metadata": {
        "id": "LYL_jC92NLKi"
      }
    },
    {
      "cell_type": "markdown",
      "source": [
        "##**Code2-3-1: Model Implementation with Sequential Method**##"
      ],
      "metadata": {
        "id": "u4pDFHTKNWyx"
      }
    },
    {
      "cell_type": "code",
      "source": [
        "import tensorflow as tf\n",
        "from tensorflow.keras.layers import Dense\n",
        "from tensorflow.keras.models import Sequential\n",
        "\n",
        "n_neurons = [3, 4, 5, 6]\n",
        "\n",
        "model = list()\n",
        "for n_neuron in n_neuron:\n",
        "  model.append(Dense(units= n_neuron, activation = 'sigmoid'))\n",
        "\n",
        "model = Sequential()\n",
        "for n_neuron in n_neurons:\n",
        "  model.add(Dense(units= n_neuron, activation = 'sigmoid'))\n",
        "\n",
        "#model = Sequential()\n",
        "#model.add(Dense(units=10, activation = 'sigmoid'))\n",
        "#model.add(Dense(units=20, activation = 'sigmoid'))\n"
      ],
      "metadata": {
        "id": "sCInQu4JNXq_"
      },
      "execution_count": null,
      "outputs": []
    },
    {
      "cell_type": "markdown",
      "source": [
        "##**Code2-3-2: Model Implementation with Model- subclassing**##"
      ],
      "metadata": {
        "id": "-31sb1orNYG7"
      }
    },
    {
      "cell_type": "code",
      "source": [
        "from tensorflow.keras.layers import Dense\n",
        "from tensorflow.keras.models import Model\n",
        "\n",
        "class TestModel(Model):  # 설계도라 생각\n",
        "  def __init__(self):\n",
        "    super(TestModel,self).__init__()\n",
        "\n",
        "    self.dense1 = Dense(units=10, activation = 'sigmoid')\n",
        "    self.dense2 = Dense(units=20, activation = 'sigmoid')\n",
        "\n",
        "model = TestModel()\n",
        "print(model.dense1)\n",
        "print(model.dense2)"
      ],
      "metadata": {
        "colab": {
          "base_uri": "https://localhost:8080/"
        },
        "id": "nSZ53RHkNYdt",
        "outputId": "5c289af2-4587-4e92-dcd9-53853fedee8b"
      },
      "execution_count": 2,
      "outputs": [
        {
          "output_type": "stream",
          "name": "stdout",
          "text": [
            "<keras.layers.core.dense.Dense object at 0x7f0c029a6190>\n",
            "<keras.layers.core.dense.Dense object at 0x7f0c029a6bd0>\n"
          ]
        }
      ]
    },
    {
      "cell_type": "markdown",
      "source": [
        "##**Code2-3-3: Forward Propagation of Models**##"
      ],
      "metadata": {
        "id": "bJy8o0YDNZaO"
      }
    },
    {
      "cell_type": "code",
      "source": [
        "import tensorflow as tf\n",
        "\n",
        "from tensorflow.keras.layers import Dense\n",
        "from tensorflow.keras.models import Sequential\n",
        "from tensorflow.keras.models import Model\n",
        "\n",
        "X = tf.random.normal(shape=(4, 10))\n",
        "\n",
        "# sequential method\n",
        "model = Sequential()\n",
        "model.add(Dense(units=10, activation = 'sigmoid'))\n",
        "model.add(Dense(units=20, activation = 'sigmoid'))\n",
        "\n",
        "Y = model(X)\n",
        "print(Y.numpy())\n",
        "\n",
        "# Model-subclassing\n",
        "class TestModel(Model):  # 설계도라 생각\n",
        "  def __init__(self):\n",
        "    super(TestModel,self).__init__()\n",
        "\n",
        "    self.dense1 = Dense(units=10, activation = 'sigmoid')\n",
        "    self.dense2 = Dense(units=20, activation = 'sigmoid')\n",
        "  \n",
        "  def call(self, x):\n",
        "    x = self.dense1(x)\n",
        "    x = self.dense2(x)\n",
        "    return x\n",
        "\n",
        "model = TestModel()\n",
        "Y = model(X)\n"
      ],
      "metadata": {
        "colab": {
          "base_uri": "https://localhost:8080/"
        },
        "id": "HGh8nTIWNZqS",
        "outputId": "3022b18c-9152-46c6-bb4e-3dee58cd3f43"
      },
      "execution_count": 4,
      "outputs": [
        {
          "output_type": "stream",
          "name": "stdout",
          "text": [
            "[[0.5232007  0.64074767 0.36536226 0.30108815 0.58070755 0.5120782\n",
            "  0.48013958 0.58206683 0.5364419  0.4358024  0.5406245  0.6098647\n",
            "  0.6751575  0.5503564  0.5323866  0.26647294 0.6469922  0.38107336\n",
            "  0.3930555  0.5784199 ]\n",
            " [0.5384041  0.5362085  0.4329753  0.37000173 0.5465986  0.5423477\n",
            "  0.5419811  0.52791876 0.55087334 0.48362494 0.43772942 0.5869831\n",
            "  0.5717683  0.49605146 0.455847   0.35826334 0.62515104 0.4517272\n",
            "  0.45805895 0.5443989 ]\n",
            " [0.5732486  0.5964418  0.3675974  0.38903415 0.49344292 0.54912156\n",
            "  0.48882222 0.5005045  0.49516785 0.44504124 0.5124263  0.60084486\n",
            "  0.5762782  0.52189773 0.43032947 0.3685134  0.5633185  0.40854636\n",
            "  0.444508   0.48828343]\n",
            " [0.5254113  0.5350684  0.43079597 0.36164266 0.58639663 0.5053666\n",
            "  0.52127284 0.54663104 0.54650617 0.4872191  0.47226804 0.5854177\n",
            "  0.59754115 0.5040644  0.52353805 0.36693716 0.6407946  0.47711605\n",
            "  0.4380384  0.5782225 ]]\n"
          ]
        }
      ]
    },
    {
      "cell_type": "code",
      "source": [
        "class TestModel(Model):  # 설계도라 생각\n",
        "  def __init__(self, n_neurons):\n",
        "    super(TestModel,self).__init__()\n",
        "    self.n_neurons = n_neurons\n",
        "\n",
        "    self.dense_layers =  list()\n",
        "    for n_neuron in self.n_neurons:\n",
        "      self.dense_layers.append(Dense(units=n_neuron, activation = 'sigmoid'))\n",
        "\n",
        "  def call(self, x):\n",
        "    for dense in self.dense_layers:\n",
        "      x = dense(x)\n",
        "    return x\n",
        "\n",
        "class TestModel(Model):  # 설계도라 생각\n",
        "  def __init__(self, n_neurons):\n",
        "    super(TestModel,self).__init__()\n",
        "    self.n_neurons = n_neurons\n",
        "    \n",
        "    self.model = Sequential()\n",
        "    self.model.add(Dense(units=10, activation = 'sigmoid'))\n",
        "    self.model.add(Dense(units=20, activation = 'sigmoid'))\n",
        "\n",
        "    \n",
        "    self.dense_layers =  list()\n",
        "    for n_neuron in self.n_neurons:\n",
        "      self.dense_layers.append(Dense(units=n_neuron, activation = 'sigmoid'))\n",
        "\n",
        "  \n",
        "  def call(self, x):\n",
        "    x = self.model(x)\n",
        "    return x\n",
        "    \n",
        "n_neurons = [3, 4, 5]\n",
        "model = TestModel(n_neurons)\n"
      ],
      "metadata": {
        "id": "94gc3xoIYhcC"
      },
      "execution_count": null,
      "outputs": []
    },
    {
      "cell_type": "markdown",
      "source": [
        "##**Code2-3-4: Layers in Models**##"
      ],
      "metadata": {
        "id": "rbSB3v50NaEB"
      }
    },
    {
      "cell_type": "code",
      "source": [
        "import tensorflow as tf\n",
        "\n",
        "from tensorflow.keras.layers import Dense\n",
        "from tensorflow.keras.models import Sequential\n",
        "from tensorflow.keras.models import Model\n",
        "\n",
        "X = tf.random.normal(shape=(4, 10))\n",
        "\n",
        "model = Sequential()\n",
        "model.add(Dense(units=10, activation = 'sigmoid'))\n",
        "model.add(Dense(units=20, activation = 'sigmoid'))\n",
        "\n",
        "Y = model(X)\n",
        "\n",
        "print(type(model.layers))\n",
        "print(model.layers)\n",
        "\n",
        "#dense1 = model.layers[0]\n",
        "#for tmp in dir(dense1):    #어떤 객체를 인자로 넣어주면 해당 객체가 어떤 변수와 메소드(method)를 가지고 있는지 나열\n",
        "#  print(tmp)\n",
        "\n",
        "for layer in model.layers:\n",
        "  w, b = layer.get_weights()\n",
        "  print(w.shape, b.shape)"
      ],
      "metadata": {
        "colab": {
          "base_uri": "https://localhost:8080/"
        },
        "id": "3I4tkeReNaXC",
        "outputId": "239da652-cedf-48b0-a4b4-cf57d1b7f4c4"
      },
      "execution_count": 7,
      "outputs": [
        {
          "output_type": "stream",
          "name": "stdout",
          "text": [
            "<class 'list'>\n",
            "[<keras.layers.core.dense.Dense object at 0x7f0c022a2b10>, <keras.layers.core.dense.Dense object at 0x7f0c01155290>]\n",
            "(10, 10) (10,)\n",
            "(10, 20) (20,)\n"
          ]
        }
      ]
    },
    {
      "cell_type": "markdown",
      "source": [
        "##**Code2-3-5: Tranable Variables in Models**##"
      ],
      "metadata": {
        "id": "ri7lyFo2Nanw"
      }
    },
    {
      "cell_type": "code",
      "source": [
        "import tensorflow as tf\n",
        "\n",
        "from tensorflow.keras.layers import Dense\n",
        "from tensorflow.keras.models import Sequential\n",
        "from tensorflow.keras.models import Model\n",
        "\n",
        "X = tf.random.normal(shape=(4, 10))\n",
        "\n",
        "model = Sequential()\n",
        "model.add(Dense(units=10, activation = 'sigmoid'))\n",
        "model.add(Dense(units=20, activation = 'sigmoid'))\n",
        "\n",
        "Y = model(X)\n",
        "\n",
        "print(type(model.trainable_variables))  # model안의 weight,bias등 학습에 대상이 되는 variable들이 들어가있게됨\n",
        "print(len(model.trainable_variables))\n",
        "\n",
        "for train_var in model.trainable_variables :  # trainable_variables가 list형이므로 하나씩 접근가능\n",
        "  print(train_var.shape)"
      ],
      "metadata": {
        "colab": {
          "base_uri": "https://localhost:8080/"
        },
        "id": "M7yvjkkiNa4K",
        "outputId": "149dc019-db2d-4e0d-dd77-7217ad164e2f"
      },
      "execution_count": 11,
      "outputs": [
        {
          "output_type": "stream",
          "name": "stdout",
          "text": [
            "<class 'list'>\n",
            "4\n",
            "(10, 10)\n",
            "(10,)\n",
            "(10, 20)\n",
            "(20,)\n"
          ]
        }
      ]
    }
  ]
}