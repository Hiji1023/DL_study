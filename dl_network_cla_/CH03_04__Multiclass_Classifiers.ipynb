{
  "nbformat": 4,
  "nbformat_minor": 0,
  "metadata": {
    "colab": {
      "name": "CH03_04. _Multiclass_Classifiers.ipynb",
      "provenance": [],
      "collapsed_sections": [],
      "include_colab_link": true
    },
    "kernelspec": {
      "name": "python3",
      "display_name": "Python 3"
    },
    "language_info": {
      "name": "python"
    }
  },
  "cells": [
    {
      "cell_type": "markdown",
      "metadata": {
        "id": "view-in-github",
        "colab_type": "text"
      },
      "source": [
        "<a href=\"https://colab.research.google.com/github/Hiji1023/dl_network_cla_/blob/main/CH03_04__Multiclass_Classifiers.ipynb\" target=\"_parent\"><img src=\"https://colab.research.google.com/assets/colab-badge.svg\" alt=\"Open In Colab\"/></a>"
      ]
    },
    {
      "cell_type": "markdown",
      "source": [
        "#**3-4: Softmax Layers**#"
      ],
      "metadata": {
        "id": "2FyZF3KOTn_-"
      }
    },
    {
      "cell_type": "markdown",
      "source": [
        "##**Code3-4-1: IO of Softmax**##"
      ],
      "metadata": {
        "id": "oS5ENr_XToIC"
      }
    },
    {
      "cell_type": "code",
      "source": [
        "import tensorflow as tf\n",
        "\n",
        "from tensorflow.keras.layers import Activation\n",
        "\n",
        "logit = tf.random.uniform(shape=(8, 5), minval = -10, maxval = 10)\n",
        "softmax_value = Activation('softmax')(logit)\n",
        "# axis = 1 -> 열\n",
        "softmax_sum = tf.reduce_sum(softmax_value, axis=1) \n",
        "\n",
        "print(\"Logits: \\n\",logit.numpy())\n",
        "print(\"Probabilities : \\n\", softmax_value.numpy())\n",
        "print(\"Sum of softmax values: \\n\", softmax_sum)  # sum = 1이여야함"
      ],
      "metadata": {
        "colab": {
          "base_uri": "https://localhost:8080/"
        },
        "id": "Ett3I1OwVaRg",
        "outputId": "3e585942-12ed-4770-dbcb-1b9056204773"
      },
      "execution_count": null,
      "outputs": [
        {
          "output_type": "stream",
          "name": "stdout",
          "text": [
            "Logits: \n",
            " [[-1.916687   -5.733509    3.7484627  -7.279396   -4.2998385 ]\n",
            " [-9.271793    8.50437     1.3734322   8.120691    2.5568504 ]\n",
            " [-6.518402   -8.907463   -1.1298084  -9.354267   -3.547089  ]\n",
            " [-5.0065923   1.9698887  -2.3188806   8.167702    3.2706976 ]\n",
            " [ 2.5599842   0.04105759 -5.241158   -0.03053665 -1.3174458 ]\n",
            " [-3.8684416   6.427862   -5.7993507  -8.006101    4.8766327 ]\n",
            " [ 1.5249968  -1.7952442   0.8241539  -0.648551    1.1239719 ]\n",
            " [ 1.5017242   3.2117252   3.6775284  -4.457059   -6.321852  ]]\n",
            "Probabilities : \n",
            " [[3.4512498e-03 7.5919204e-05 9.9613827e-01 1.6180109e-05 3.1840993e-04]\n",
            " [1.1307632e-08 5.9355533e-01 4.7482588e-04 4.0441921e-01 1.5505522e-03]\n",
            " [4.1742632e-03 3.8284578e-04 9.1372675e-01 2.4489468e-04 8.1471302e-02]\n",
            " [1.8808609e-06 2.0146689e-03 2.7644903e-05 9.9055743e-01 7.3984000e-03]\n",
            " [8.4987754e-01 6.8454251e-02 3.4782704e-04 6.3724644e-02 1.7595837e-02]\n",
            " [2.7852233e-05 8.2506454e-01 4.0390278e-06 4.4452636e-07 1.7490311e-01]\n",
            " [4.3183157e-01 1.5608173e-02 2.1426055e-01 4.9130887e-02 2.8916886e-01]\n",
            " [6.5183885e-02 3.6039951e-01 5.7422215e-01 1.6837344e-04 2.6085811e-05]]\n",
            "Sum of softmax values: \n",
            " tf.Tensor(\n",
            "[1.         0.9999999  1.0000001  1.         1.0000001  0.99999994\n",
            " 1.         1.        ], shape=(8,), dtype=float32)\n"
          ]
        }
      ]
    },
    {
      "cell_type": "markdown",
      "source": [
        "##**Code3-4-2: Softmax in Dense Layers**##"
      ],
      "metadata": {
        "id": "yv-fvqRlVayn"
      }
    },
    {
      "cell_type": "code",
      "source": [
        "from os import access\n",
        "import tensorflow as tf\n",
        "\n",
        "from tensorflow.keras.layers import Dense\n",
        "\n",
        "# 균등분포, 8 by 5 matrix\n",
        "logit = tf.random.uniform(shape=(8, 5), minval = -10, maxval = 10)\n",
        "# unit은 neuron의 갯수\n",
        "dense = Dense(units=8, activation='softmax')\n",
        "\n",
        "Y = dense(logit)\n",
        "print(tf.reduce_sum(Y, axis=1))"
      ],
      "metadata": {
        "colab": {
          "base_uri": "https://localhost:8080/"
        },
        "id": "fVI5Al5pVbUH",
        "outputId": "73db6a5e-bad3-44eb-8ae1-0c3635184ff9"
      },
      "execution_count": null,
      "outputs": [
        {
          "output_type": "stream",
          "name": "stdout",
          "text": [
            "tf.Tensor(\n",
            "[0.9999999  0.9999999  1.         1.         1.         0.99999994\n",
            " 1.         1.        ], shape=(8,), dtype=float32)\n"
          ]
        }
      ]
    },
    {
      "cell_type": "markdown",
      "source": [
        "#**3-5: Multi-class Classifiers**#"
      ],
      "metadata": {
        "id": "fDC3hW2bVif_"
      }
    },
    {
      "cell_type": "markdown",
      "source": [
        "##**Code3-5-1: Multi-class Classifiers**##"
      ],
      "metadata": {
        "id": "BtS5P-FRVi2n"
      }
    },
    {
      "cell_type": "code",
      "source": [
        "import tensorflow as tf\n",
        "\n",
        "from tensorflow.keras.models import Model\n",
        "from tensorflow.keras.layers import Dense\n",
        "\n",
        "class TestModel(Model):\n",
        "  def __init__(self):\n",
        "    super(TestModel, self).__init__()\n",
        "\n",
        "    self.dense1 = Dense(units=8, activation='relu')\n",
        "    self.dense2 = Dense(units=5, activation='relu')\n",
        "    self.dense3 = Dense(units=3, activation='softmax')\n",
        "\n",
        "  def call(self, x):\n",
        "    print(\"X : {}\\n{}\\n\".format(x.shape, x.numpy()))\n",
        "\n",
        "    x = self.dense1(x)\n",
        "    print(\"A1: {}\\n{}\\n\".format(x.shape, x.numpy()))\n",
        "    \n",
        "    x = self.dense2(x)\n",
        "    print(\"A2: {}\\n{}\\n\".format(x.shape, x.numpy()))\n",
        "    \n",
        "    x = self.dense3(x)\n",
        "    print(\"Y: {}\\n{}\\n\".format(x.shape, x.numpy()))\n",
        "    print(\"Sum of vectors: {}\\n\".format(tf.reduce_sum(x, axis=1)))\n",
        "    return x\n",
        "\n",
        "model = TestModel()\n",
        "\n",
        "X = tf.random.uniform(shape=(8, 5), minval = -10, maxval = 10)\n",
        "Y = model(X)"
      ],
      "metadata": {
        "colab": {
          "base_uri": "https://localhost:8080/"
        },
        "id": "gPIXTNUCVjJG",
        "outputId": "4761dfc0-fe28-43e8-f650-8c0d3480342f"
      },
      "execution_count": 3,
      "outputs": [
        {
          "output_type": "stream",
          "name": "stdout",
          "text": [
            "X : (8, 5)\n",
            "[[ 2.7306414  -4.5043635   9.202312   -9.729929    4.5601654 ]\n",
            " [-9.43515    -3.2731962   2.7073717  -1.8210602   6.039503  ]\n",
            " [-2.608459    9.926994   -3.7898111  -9.658632    8.525955  ]\n",
            " [-8.141861    7.6586723  -1.4186335  -7.7409053   7.511627  ]\n",
            " [ 7.6202927  -7.5814915   9.817312   -1.3243027  -8.664522  ]\n",
            " [ 5.2555637  -4.334736   -2.3588896   0.70489883  2.0085258 ]\n",
            " [ 4.0495033  -4.555273    7.438957    8.257582   -3.7457752 ]\n",
            " [ 1.2603779  -6.1622357  -9.3884735   7.5500984   3.566759  ]]\n",
            "\n",
            "A1: (8, 8)\n",
            "[[ 0.          0.          4.223045    0.          0.          2.1976156\n",
            "   0.          0.        ]\n",
            " [ 4.4849157   0.          0.          3.895809    0.          6.2977552\n",
            "   3.4857292   0.        ]\n",
            " [ 3.232225    0.          0.          0.          0.          0.\n",
            "   6.2667346   0.        ]\n",
            " [ 6.5099583   0.          0.          3.0640934   0.          0.24818487\n",
            "   8.033037    0.        ]\n",
            " [ 0.          0.         11.908857    0.          0.83686936  0.45559946\n",
            "   0.          5.3130994 ]\n",
            " [ 0.          5.422878    1.9798303   0.          0.          0.\n",
            "   0.          1.1099018 ]\n",
            " [ 0.          0.18014723  7.4350653   0.87399757  5.889718    1.4400728\n",
            "   0.          5.6244946 ]\n",
            " [ 0.          9.480818    0.          0.8532674   0.          1.7257781\n",
            "   0.          0.27880406]]\n",
            "\n",
            "A2: (8, 5)\n",
            "[[0.6331496  1.002812   0.88288766 1.0736346  0.        ]\n",
            " [0.         3.8800874  2.0037718  2.707113   0.        ]\n",
            " [0.         0.67626435 0.         0.8038477  4.263638  ]\n",
            " [0.         3.3368769  0.         4.0273914  4.902274  ]\n",
            " [0.         3.1042101  2.0191374  3.3771036  0.        ]\n",
            " [0.         0.         1.7897258  3.6184292  0.        ]\n",
            " [0.         4.0904217  2.7249293  0.         0.        ]\n",
            " [0.         0.         2.8164947  5.191123   0.        ]]\n",
            "\n",
            "Y: (8, 3)\n",
            "[[0.5043968  0.32740808 0.16819513]\n",
            " [0.85681885 0.09126266 0.05191846]\n",
            " [0.9698344  0.02114226 0.00902322]\n",
            " [0.984922   0.01275515 0.0023229 ]\n",
            " [0.8029191  0.16710743 0.02997344]\n",
            " [0.42978847 0.56092685 0.00928471]\n",
            " [0.9140235  0.01608065 0.06989583]\n",
            " [0.44923264 0.5494427  0.00132473]]\n",
            "\n",
            "Sum of vectors: [1.         0.99999994 0.9999998  1.         0.99999994 1.\n",
            " 1.         1.0000001 ]\n",
            "\n"
          ]
        }
      ]
    }
  ]
}