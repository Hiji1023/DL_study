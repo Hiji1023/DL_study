{
  "nbformat": 4,
  "nbformat_minor": 0,
  "metadata": {
    "colab": {
      "name": "CH05_04_Conv2D_Layers.ipynb",
      "provenance": [],
      "collapsed_sections": [],
      "include_colab_link": true
    },
    "kernelspec": {
      "name": "python3",
      "display_name": "Python 3"
    },
    "language_info": {
      "name": "python"
    }
  },
  "cells": [
    {
      "cell_type": "markdown",
      "metadata": {
        "id": "view-in-github",
        "colab_type": "text"
      },
      "source": [
        "<a href=\"https://colab.research.google.com/github/Hiji1023/dl_network_cla_/blob/main/CH05_04_Conv2D_Layers.ipynb\" target=\"_parent\"><img src=\"https://colab.research.google.com/assets/colab-badge.svg\" alt=\"Open In Colab\"/></a>"
      ]
    },
    {
      "cell_type": "markdown",
      "source": [
        "##**5-1: Conv Layers**##"
      ],
      "metadata": {
        "id": "k8jNXFGlQWu3"
      }
    },
    {
      "cell_type": "markdown",
      "source": [
        "##**Code5-1-1: Shapes of Conv Layers**##"
      ],
      "metadata": {
        "id": "YHdR9Q6fQXs_"
      }
    },
    {
      "cell_type": "code",
      "source": [
        "import tensorflow as tf\n",
        "from tensorflow.keras.layers import Conv2D\n",
        "\n",
        "# 4D tensor\n",
        "# input image가 32장 들어옴\n",
        "N, n_H, n_W, n_c = 32, 28, 28, 3\n",
        "# neuron의 갯수\n",
        "n_filter = 10\n",
        "#kernel size\n",
        "k_size = 3\n",
        "\n",
        "images = tf.random.uniform(minval=0, maxval=1, shape=((N, n_H, n_W, n_c)))\n",
        "\n",
        "conv = Conv2D(filters=n_filter, kernel_size=k_size)\n",
        "# 통과한 후에 kernel이 초기화됨\n",
        "\n",
        "y = conv(images)\n",
        "\n",
        "# W = kernel_size, B =  scalar 1개 \n",
        "W, B = conv.get_weights()\n",
        "\n",
        "print(images.shape)\n",
        "print(W.shape)\n",
        "print(B.shape)\n",
        "# 28 - 3 + 1 = 26\n",
        "print(y.shape)"
      ],
      "metadata": {
        "id": "Q1TCla_aQX_2",
        "colab": {
          "base_uri": "https://localhost:8080/"
        },
        "outputId": "7e7f4162-e54a-41da-8349-7bbb02994031"
      },
      "execution_count": 11,
      "outputs": [
        {
          "output_type": "stream",
          "name": "stdout",
          "text": [
            "(32, 28, 28, 3)\n",
            "(3, 3, 3, 10)\n",
            "(10,)\n",
            "(32, 26, 26, 10)\n"
          ]
        }
      ]
    },
    {
      "cell_type": "markdown",
      "source": [
        "##**Code5-1-2: Correlation Calculation**##"
      ],
      "metadata": {
        "id": "Olp3yK_vQYKC"
      }
    },
    {
      "cell_type": "code",
      "source": [
        "import numpy as np\n",
        "import tensorflow as tf\n",
        "\n",
        "from tensorflow.keras.layers import Conv2D\n",
        "\n",
        "N, n_H, n_W, n_c = 1, 5, 5, 1\n",
        "# neuron의 갯수\n",
        "n_filter = 1\n",
        "#kernel size\n",
        "k_size = 3\n",
        "\n",
        "images = tf.random.uniform(minval=0, maxval=1, shape=((N, n_H, n_W, n_c)))\n",
        "\n",
        "conv = Conv2D(filters=n_filter, kernel_size=k_size)\n",
        "# 통과한 후에 kernel이 초기화됨\n",
        "\n",
        "y = conv(images)\n",
        "# squeeze() = 쓸모없는 dimension을 날려줌\n",
        "print(\"Y(Tensorflow) : \\n\", y.numpy().squeeze())\n",
        "W, B = conv.get_weights()\n",
        "\n",
        "####\n",
        "images = images.numpy().squeeze()\n",
        "W = W.squeeze()\n",
        "\n",
        "y_man = np.zeros(shape=(n_H - k_size + 1, n_W - k_size + 1))\n",
        "for i in range(n_H - k_size + 1):\n",
        "  for j in range(n_W - k_size + 1):\n",
        "   # window extration\n",
        "   window =  images[i : i+k_size, j : j+k_size]\n",
        "   y_man[i,j] = np.sum(window*W) + B\n",
        "\n",
        "print(\"Y(Manual): \\n\",y_man)"
      ],
      "metadata": {
        "id": "RG70POrxQYRE",
        "colab": {
          "base_uri": "https://localhost:8080/"
        },
        "outputId": "3b3503b6-1df0-470c-ae05-214bedda8e20"
      },
      "execution_count": 23,
      "outputs": [
        {
          "output_type": "stream",
          "name": "stdout",
          "text": [
            "Y(Tensorflow) : \n",
            " [[-0.71185434 -0.11861598 -0.5858892 ]\n",
            " [-0.6100012  -0.3226073  -0.62453073]\n",
            " [-0.682446   -0.16878973 -0.67579913]]\n",
            "Y(Manual): \n",
            " [[-0.71185434 -0.11861599 -0.58588922]\n",
            " [-0.61000121 -0.32260728 -0.62453073]\n",
            " [-0.682446   -0.16878974 -0.67579913]]\n"
          ]
        }
      ]
    },
    {
      "cell_type": "markdown",
      "source": [
        "##**Code5-1-3: Correlation with n-channel**##"
      ],
      "metadata": {
        "id": "cYRBYrPGQYY7"
      }
    },
    {
      "cell_type": "code",
      "source": [
        "import numpy as np\n",
        "import tensorflow as tf\n",
        "\n",
        "from tensorflow.keras.layers import Conv2D\n",
        "\n",
        "N, n_H, n_W, n_c = 1, 5, 5, 3\n",
        "# neuron의 갯수\n",
        "n_filter = 1\n",
        "#kernel size\n",
        "k_size = 3\n",
        "\n",
        "images = tf.random.uniform(minval=0, maxval=1, shape=((N, n_H, n_W, n_c)))\n",
        "\n",
        "conv = Conv2D(filters=n_filter, kernel_size=k_size)\n",
        "# 통과한 후에 kernel이 초기화됨\n",
        "\n",
        "y = conv(images)\n",
        "# squeeze() = 쓸모없는 dimension을 날려줌\n",
        "print(\"Y(Tensorflow) : \\n\", y.numpy().squeeze())\n",
        "W, B = conv.get_weights()\n",
        "\n",
        "####\n",
        "images = images.numpy().squeeze()\n",
        "W = W.squeeze()\n",
        "\n",
        "y_man = np.zeros(shape=(n_H - k_size + 1, n_W - k_size + 1))\n",
        "for i in range(n_H - k_size + 1):\n",
        "  for j in range(n_W - k_size + 1):\n",
        "   # window extration\n",
        "   window =  images[i : i+k_size, j : j+k_size, :]\n",
        "   y_man[i,j] = np.sum(window*W) + B\n",
        "\n",
        "print(\"Y(Manual): \\n\",y_man)"
      ],
      "metadata": {
        "id": "kgMFoQgXQYjt",
        "colab": {
          "base_uri": "https://localhost:8080/"
        },
        "outputId": "093db459-aa1e-41d3-9fb1-a9538c9e5d7e"
      },
      "execution_count": 24,
      "outputs": [
        {
          "output_type": "stream",
          "name": "stdout",
          "text": [
            "Y(Tensorflow) : \n",
            " [[-0.9191978  -0.60710543 -1.1420174 ]\n",
            " [-0.66887534 -0.5289647  -0.9036687 ]\n",
            " [-0.8995123  -0.27592507 -0.62456274]]\n",
            "Y(Manual): \n",
            " [[-0.91919774 -0.60710537 -1.14201736]\n",
            " [-0.66887534 -0.5289647  -0.9036687 ]\n",
            " [-0.89951235 -0.27592513 -0.62456274]]\n"
          ]
        }
      ]
    }
  ]
}