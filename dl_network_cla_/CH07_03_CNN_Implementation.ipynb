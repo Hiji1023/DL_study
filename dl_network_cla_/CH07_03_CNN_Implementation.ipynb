{
  "nbformat": 4,
  "nbformat_minor": 0,
  "metadata": {
    "colab": {
      "name": "CH07_03_CNN_Implementation.ipynb",
      "provenance": [],
      "collapsed_sections": [],
      "include_colab_link": true
    },
    "kernelspec": {
      "name": "python3",
      "display_name": "Python 3"
    },
    "language_info": {
      "name": "python"
    }
  },
  "cells": [
    {
      "cell_type": "markdown",
      "metadata": {
        "id": "view-in-github",
        "colab_type": "text"
      },
      "source": [
        "<a href=\"https://colab.research.google.com/github/Hiji1023/dl_network_cla_/blob/main/CH07_03_CNN_Implementation.ipynb\" target=\"_parent\"><img src=\"https://colab.research.google.com/assets/colab-badge.svg\" alt=\"Open In Colab\"/></a>"
      ]
    },
    {
      "cell_type": "markdown",
      "source": [
        "#**7-3: Implementation of CNNs**#"
      ],
      "metadata": {
        "id": "yOzVOyHXPixV"
      }
    },
    {
      "cell_type": "markdown",
      "source": [
        "##**Code7-3-1: Implementation with Sequential Method**##"
      ],
      "metadata": {
        "id": "g7rgbJM5Pkth"
      }
    },
    {
      "cell_type": "code",
      "source": [
        "import tensorflow as tf\n",
        "from tensorflow.keras.models import Sequential\n",
        "from tensorflow.keras.layers import Conv2D\n",
        "from tensorflow.keras.layers import MaxPooling2D\n",
        "from tensorflow.keras.layers import Flatten\n",
        "from tensorflow.keras.layers import Dense\n",
        "\n",
        "N, n_H, n_W, n_C = 4, 28, 28, 3\n",
        "n_conv_neurons = [10, 20, 30]\n",
        "n_dense_neurons = [50, 30,10]\n",
        "k_size, padding = 3, 'same'\n",
        "pool_size, pool_strides = 2, 2\n",
        "activation = 'relu'\n",
        "\n",
        "x = tf.random.normal(shape=(N, n_H, n_W, n_C))\n",
        "print(x.shape)\n",
        "\n",
        "# Sequential 장점 layer를 추가하기만 하면 되기에 만들기 간편\n",
        "# 단점 중간에 Sequential한 commission이 아니라 다른 식의 텐서 연산은 안됨\n",
        "model= Sequential()\n",
        "model.add(Conv2D(filters=n_conv_neurons[0], kernel_size = k_size, padding = padding, activation = activation))\n",
        "model.add(MaxPooling2D(pool_size = pool_size, strides = pool_strides))\n",
        "model.add(Conv2D(filters=n_conv_neurons[1], kernel_size = k_size, padding = padding, activation = activation))\n",
        "model.add(MaxPooling2D(pool_size = pool_size, strides = pool_strides))\n",
        "model.add(Conv2D(filters=n_conv_neurons[2], kernel_size = k_size, padding = padding, activation = activation))\n",
        "model.add(MaxPooling2D(pool_size = pool_size, strides = pool_strides))\n",
        "model.add(Flatten())\n",
        "model.add(Dense(units=n_dense_neurons[0], activation = activation))\n",
        "model.add(Dense(units=n_dense_neurons[1], activation = activation))\n",
        "model.add(Dense(units=n_dense_neurons[2], activation = 'softmax'))\n",
        "\n",
        "predictions = model(x)\n",
        "print(predictions.shape)\n"
      ],
      "metadata": {
        "id": "1CBN6h3XPlAS",
        "colab": {
          "base_uri": "https://localhost:8080/"
        },
        "outputId": "9685550a-3480-4b38-a80e-bf56e1d72e98"
      },
      "execution_count": null,
      "outputs": [
        {
          "output_type": "stream",
          "name": "stdout",
          "text": [
            "(4, 28, 28, 3)\n",
            "(4, 10)\n"
          ]
        }
      ]
    },
    {
      "cell_type": "code",
      "source": [
        "model= Sequential()\n",
        "for n_conv_neuron in n_conv_neurons:\n",
        "  model.add(Conv2D(filters=n_conv_neuron, kernel_size = k_size, padding = padding, activation = activation))\n",
        "  model.add(MaxPooling2D(pool_size = pool_size, strides = pool_strides))\n",
        "model.add(Flatten())\n",
        "for n_dense_neuron in n_dense_neurons:\n",
        "  model.add(Dense(units=n_dense_neuron, activation = activation))\n",
        "model.add(Dense(units=n_dense_neurons[-1], activation = 'softmax'))\n"
      ],
      "metadata": {
        "id": "M7meR-Q-WGPg"
      },
      "execution_count": null,
      "outputs": []
    },
    {
      "cell_type": "markdown",
      "source": [
        "##**Code7-3-2: Implementation with Model Sub-classing**##"
      ],
      "metadata": {
        "id": "5Y1rNEoZPlSH"
      }
    },
    {
      "cell_type": "code",
      "source": [
        "import tensorflow as tf\n",
        "\n",
        "from tensorflow.keras.models import Model\n",
        "\n",
        "from tensorflow.keras.layers import Conv2D\n",
        "from tensorflow.keras.layers import MaxPooling2D\n",
        "from tensorflow.keras.layers import Flatten\n",
        "from tensorflow.keras.layers import Dense\n",
        "\n",
        "class TestCNN(Model):\n",
        "  def __init__(self):\n",
        "    super(TestCNN, self).__init__()\n",
        "\n",
        "    self.conv1 = Conv2D(filters=n_conv_neurons[0], kernel_size = k_size, padding = padding, activation = activation)\n",
        "    self.conv1_pool = MaxPooling2D(pool_size = pool_size, strides = pool_strides)\n",
        "    self.conv2 = Conv2D(filters=n_conv_neurons[1], kernel_size = k_size, padding = padding, activation = activation)\n",
        "    self.conv2_pool = MaxPooling2D(pool_size = pool_size, strides = pool_strides)\n",
        "    self.conv3 = Conv2D(filters=n_conv_neurons[2], kernel_size = k_size, padding = padding, activation = activation)\n",
        "    self.conv3_pool = MaxPooling2D(pool_size = pool_size, strides = pool_strides)\n",
        "    self.flatten = Flatten()\n",
        "\n",
        "    self.dense1 = Dense(units=n_dense_neurons[0], activation = activation)\n",
        "    self.dense2 = Dense(units=n_dense_neurons[1], activation = activation)\n",
        "    self.dense3 = Dense(units=n_dense_neurons[2], activation = 'softmax')\n",
        "\n",
        "  def call(self, x):\n",
        "    print(x.shape)\n",
        "    x = self.conv1(x)\n",
        "    print(x.shape)\n",
        "    x = self.conv1_pool(x)\n",
        "    print(x.shape)\n",
        "\n",
        "    x = self.conv2(x)\n",
        "    print(x.shape)\n",
        "    x = self.conv2_pool(x)\n",
        "    print(x.shape)\n",
        "    \n",
        "    x = self.conv3(x)\n",
        "    print(x.shape)\n",
        "    x = self.conv3_pool(x)\n",
        "    print(x.shape)\n",
        "\n",
        "    x = self.flatten(x)\n",
        "    print(x.shape)\n",
        "\n",
        "    x = self.dense1(x)\n",
        "    print(x.shape)\n",
        "    x = self.dense2(x)\n",
        "    print(x.shape)\n",
        "    x = self.dense3(x)\n",
        "    print(x.shape)\n",
        "    return x\n",
        "\n",
        "N, n_H, n_W, n_C = 4, 28, 28, 3\n",
        "n_conv_neurons = [10, 20, 30]\n",
        "n_dense_neurons = [50, 30,10]\n",
        "k_size, padding = 3, 'same'\n",
        "pool_size, pool_strides = 2, 2\n",
        "activation = 'relu'\n",
        "\n",
        "x = tf.random.normal(shape=(N, n_H, n_W, n_C))\n",
        "\n",
        "model = TestCNN()\n",
        "y = model(x)\n",
        "print(y.shape)"
      ],
      "metadata": {
        "id": "p4CIDbGaQf9c",
        "colab": {
          "base_uri": "https://localhost:8080/"
        },
        "outputId": "b8794285-3535-4b9b-c411-99e4e8d15e67"
      },
      "execution_count": null,
      "outputs": [
        {
          "output_type": "stream",
          "name": "stdout",
          "text": [
            "(4, 28, 28, 3)\n",
            "(4, 28, 28, 10)\n",
            "(4, 14, 14, 10)\n",
            "(4, 14, 14, 20)\n",
            "(4, 7, 7, 20)\n",
            "(4, 7, 7, 30)\n",
            "(4, 3, 3, 30)\n",
            "(4, 270)\n",
            "(4, 50)\n",
            "(4, 30)\n",
            "(4, 10)\n",
            "(4, 10)\n"
          ]
        }
      ]
    },
    {
      "cell_type": "markdown",
      "source": [
        "##**Code7-3-3: Implementation with Sequential + Layer Sub-classing**##"
      ],
      "metadata": {
        "id": "wZobsrghQgL_"
      }
    },
    {
      "cell_type": "code",
      "source": [
        "import tensorflow as tf\n",
        "\n",
        "from tensorflow.keras.models import Sequential\n",
        "from tensorflow.keras.layers import Layer\n",
        "from tensorflow.keras.layers import Conv2D\n",
        "from tensorflow.keras.layers import MaxPooling2D\n",
        "from tensorflow.keras.layers import Flatten\n",
        "from tensorflow.keras.layers import Dense\n",
        "\n",
        "# Layer Sub-classing\n",
        "# Sequential로 만들면 layer갯수만큼 다 작성해야함, layer가 많아질수록 코드가 간단해짐\n",
        "class MyConv(Layer):\n",
        "  def __init__(self, n_neuron):\n",
        "    super(MyConv, self).__init__()\n",
        "\n",
        "    self.conv = Conv2D(filters=n_neuron, kernel_size = k_size, padding = padding, activation = activation)\n",
        "    self.conv_pool = MaxPooling2D(pool_size = pool_size, strides = pool_strides)\n",
        "\n",
        "  def call(self, x):\n",
        "    x = self.conv(x)\n",
        "    x = self.conv_pool(x)\n",
        "    return x\n",
        "\n",
        "model = Sequential()\n",
        "# n_conv_neurons[] -> MyConv의 n_neuron자리에 들어감\n",
        "model.add(MyConv(n_conv_neurons[0]))\n",
        "model.add(MyConv(n_conv_neurons[1]))\n",
        "model.add(MyConv(n_conv_neurons[2]))\n",
        "model.add(Flatten())\n",
        "\n",
        "model.add(Dense(units=n_dense_neurons[0], activation = activation))\n",
        "model.add(Dense(units=n_dense_neurons[1], activation = activation))\n",
        "model.add(Dense(units=n_dense_neurons[2], activation = 'softmax'))"
      ],
      "metadata": {
        "id": "6Waw-lvSQgcI"
      },
      "execution_count": null,
      "outputs": []
    },
    {
      "cell_type": "markdown",
      "source": [
        "##**Code7-3-4: Implementation with Model and Layer Sub-classing**##"
      ],
      "metadata": {
        "id": "vMQNtthrQgug"
      }
    },
    {
      "cell_type": "code",
      "source": [
        "import tensorflow as tf\n",
        "\n",
        "from tensorflow.keras.models import Model\n",
        "from tensorflow.keras.layers import Layer\n",
        "from tensorflow.keras.layers import Conv2D\n",
        "from tensorflow.keras.layers import MaxPooling2D\n",
        "from tensorflow.keras.layers import Flatten\n",
        "from tensorflow.keras.layers import Dense\n",
        "\n",
        "# Layer Sub-classing\n",
        "# Sequential로 만들면 layer갯수만큼 다 작성해야함, layer가 많아질수록 코드가 간단해짐\n",
        "class MyConv(Layer):\n",
        "  def __init__(self, n_neuron):\n",
        "    super(MyConv, self).__init__()\n",
        "\n",
        "    self.conv = Conv2D(filters=n_neuron, kernel_size = k_size, padding = padding, activation = activation)\n",
        "    self.conv_pool = MaxPooling2D(pool_size = pool_size, strides = pool_strides)\n",
        "\n",
        "  def call(self, x):\n",
        "    x = self.conv(x)\n",
        "    x = self.conv_pool(x)\n",
        "    return x\n",
        "\n",
        "class TestCNN(Model):\n",
        "  def __init__(self):\n",
        "    super(TestCNN, self).__init__()\n",
        "\n",
        "    self.conv1 = MyConv(n_conv_neurons[0])\n",
        "    self.conv2 = MyConv(n_conv_neurons[1])\n",
        "    self.conv3 = MyConv(n_conv_neurons[2])\n",
        "    self.flatten = Flatten()\n",
        "\n",
        "    self.dense1 = Dense(units=n_dense_neurons[0], activation = activation)\n",
        "    self.dense2 = Dense(units=n_dense_neurons[1], activation = activation)\n",
        "    self.dense3 = Dense(units=n_dense_neurons[2], activation = 'softmax')\n",
        "\n",
        "  def call(self, x):\n",
        "    x = self.conv1(x)\n",
        "    x = self.conv2(x)\n",
        "    x = self.conv3(x)\n",
        "    x = self.flatten(x)\n",
        "\n",
        "    x = self.dense1(x)\n",
        "    x = self.dense2(x)\n",
        "    x = self.dense3(x)\n",
        "    return x\n"
      ],
      "metadata": {
        "id": "TDf5957IQg_F"
      },
      "execution_count": null,
      "outputs": []
    },
    {
      "cell_type": "code",
      "source": [
        "import tensorflow as tf\n",
        "\n",
        "from tensorflow.keras.models import Sequential\n",
        "from tensorflow.keras.models import Model\n",
        "from tensorflow.keras.layers import Layer\n",
        "from tensorflow.keras.layers import Conv2D\n",
        "from tensorflow.keras.layers import MaxPooling2D\n",
        "from tensorflow.keras.layers import Flatten\n",
        "from tensorflow.keras.layers import Dense\n",
        "\n",
        "class MyConv(Layer):\n",
        "  def __init__(self, n_neuron):\n",
        "    super(MyConv, self).__init__()\n",
        "\n",
        "    self.conv = Conv2D(filters=n_neuron, kernel_size = k_size, padding = padding, activation = activation)\n",
        "    self.conv_pool = MaxPooling2D(pool_size = pool_size, strides = pool_strides)\n",
        "\n",
        "  def call(self, x):\n",
        "    x = self.conv(x)\n",
        "    x = self.conv_pool(x)\n",
        "    return x\n",
        "\n",
        "class TestCNN(Model):\n",
        "  def __init__(self):\n",
        "    super(TestCNN, self).__init__()\n",
        "    self.fe = Sequential()\n",
        "\n",
        "    self.fe.add(MyConv(n_conv_neurons[0]))\n",
        "    self.fe.add(MyConv(n_conv_neurons[1]))\n",
        "    self.fe.add(MyConv(n_conv_neurons[2]))\n",
        "    self.fe.add(Flatten())\n",
        "\n",
        "    self.classifier = Sequential()\n",
        "\n",
        "    self.classifier.add(Dense(units=n_dense_neurons[0], activation = activation))\n",
        "    self.classifier.add(Dense(units=n_dense_neurons[1], activation = activation))\n",
        "    self.classifier.add(Dense(units=n_dense_neurons[2], activation = 'softmax'))\n",
        "\n",
        "  def call(self, x):\n",
        "    # x = self.conv1(x)\n",
        "    # x = self.conv2(x)\n",
        "    # x = self.conv3(x)\n",
        "    # x = self.flatten(x)\n",
        "    x = self.fe()\n",
        "\n",
        "    # x = self.dense1(x)\n",
        "    # x = self.dense2(x)\n",
        "    # x = self.dense3(x)\n",
        "    x = self.classifier()\n",
        "    return x"
      ],
      "metadata": {
        "id": "4u_bY-Soe-gv"
      },
      "execution_count": null,
      "outputs": []
    }
  ]
}