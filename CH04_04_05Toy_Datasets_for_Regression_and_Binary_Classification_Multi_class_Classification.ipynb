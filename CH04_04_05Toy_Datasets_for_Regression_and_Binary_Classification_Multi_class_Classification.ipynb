{
  "nbformat": 4,
  "nbformat_minor": 0,
  "metadata": {
    "colab": {
      "name": "CH04_04_05Toy_Datasets_for_Regression_and_Binary_Classification_Multi_class_Classification.ipynb",
      "provenance": [],
      "collapsed_sections": [],
      "toc_visible": true,
      "include_colab_link": true
    },
    "kernelspec": {
      "name": "python3",
      "display_name": "Python 3"
    },
    "language_info": {
      "name": "python"
    }
  },
  "cells": [
    {
      "cell_type": "markdown",
      "metadata": {
        "id": "view-in-github",
        "colab_type": "text"
      },
      "source": [
        "<a href=\"https://colab.research.google.com/github/Hiji1023/dl_network_cla_/blob/main/CH04_04_05Toy_Datasets_for_Regression_and_Binary_Classification_Multi_class_Classification.ipynb\" target=\"_parent\"><img src=\"https://colab.research.google.com/assets/colab-badge.svg\" alt=\"Open In Colab\"/></a>"
      ]
    },
    {
      "cell_type": "markdown",
      "source": [
        "#**4-1: Datasets**#"
      ],
      "metadata": {
        "id": "MdzApYyw2EiP"
      }
    },
    {
      "cell_type": "markdown",
      "source": [
        "##**Code4-1-1: Dataset for Regression**##"
      ],
      "metadata": {
        "id": "yZv3J7Nf2Eoj"
      }
    },
    {
      "cell_type": "code",
      "source": [
        "#데이터셋 만드는 법 - 분석하기 위해 아는 데이터 셋 필요\n",
        "import tensorflow as tf\n",
        "\n",
        "# x값 5개로 설정\n",
        "N, n_feature = 8, 5\n",
        "\n",
        "# 타겟 웨이트, 바이어스 dtype 중요 습관화하기\n",
        "# tf.constant()= create a constant tensor \n",
        "t_weights = tf.constant([1, 2, 3, 4, 5], dtype=tf.float32)\n",
        "t_bias = tf.constant([10], dtype=tf.float32)\n",
        "\n",
        "#normal = normal distribution(정규분포) stddev = 표준 편차\n",
        "# 8 by 5 matrix\n",
        "X = tf.random.normal(mean=0, stddev=1, shape=(N, n_feature))\n",
        "\n",
        "# axis=1 -> 행\n",
        "# y = 1*x1 + 2*x2+...+5*x5+10\n",
        "Y = tf.reduce_sum(t_weights*X, axis =1) + t_bias\n",
        "\n",
        "print(\"X(shape/dtype/data): {} / {}\\n{}\\n\".format(X.shape, X.dtype, X.numpy()))\n",
        "print(\"Y(shape/dtype/data): {} / {}\\n{}\\n\".format(Y.shape, Y.dtype, Y.numpy()))\n",
        "\n",
        "# linear regression"
      ],
      "metadata": {
        "id": "R5k4cAXV2ExH",
        "colab": {
          "base_uri": "https://localhost:8080/"
        },
        "outputId": "16a3d078-d5e3-4d95-d62d-c35b7c342915"
      },
      "execution_count": 11,
      "outputs": [
        {
          "output_type": "stream",
          "name": "stdout",
          "text": [
            "X(shape/dtype/data): (8, 5) / <dtype: 'float32'>\n",
            "[[-0.0189618  -1.3154941  -0.1602881  -2.2343993   0.76081836]\n",
            " [ 0.40219802  0.74753827  0.80659896  1.4320812  -0.34528545]\n",
            " [ 1.0887271  -0.21967593 -0.641356   -1.8579254   0.7775483 ]\n",
            " [ 1.5513896   0.21550678  0.2684123   0.93970996 -1.0917537 ]\n",
            " [ 1.5324857  -0.9955133   1.2049017   0.6821309   0.71609735]\n",
            " [-0.39242515 -1.6992102  -0.46254358 -0.8380801   0.8570319 ]\n",
            " [ 0.8124035  -1.8311317  -1.1388721  -1.1330283  -0.90182674]\n",
            " [ 0.45129856  0.2747502  -0.5540982   1.2864829   0.11932994]]\n",
            "\n",
            "Y(shape/dtype/data): (8,) / <dtype: 'float32'>\n",
            "[ 1.7356796 18.31897    5.1813474 11.087711  19.465174   5.7543626\n",
            " -5.307724  15.081085 ]\n",
            "\n"
          ]
        }
      ]
    },
    {
      "cell_type": "markdown",
      "source": [
        "##**Code4-1-2: Dataset for Binary Classification**##"
      ],
      "metadata": {
        "id": "zre7Qs_P2oc-"
      }
    },
    {
      "cell_type": "code",
      "source": [
        "import tensorflow as tf\n",
        "\n",
        "N, n_feature = 8, 5\n",
        "\n",
        "t_weights = tf.constant([1, 2, 3, 4, 5], dtype=tf.float32)\n",
        "t_bias = tf.constant([10], dtype=tf.float32)\n",
        "\n",
        "X = tf.random.normal(mean=0, stddev=1, shape=(N, n_feature))\n",
        "\n",
        "Y = tf.reduce_sum(t_weights*X, axis =1) + t_bias\n",
        "print(Y)\n",
        "Y = Y>5\n",
        "print(Y)\n",
        "#tf.cast() = casts a tensor to a new type\n",
        "# binary cross entropy에서 y값\n",
        "Y = tf.cast(Y, tf.int32)\n",
        "print(Y)\n",
        "\n",
        "\n",
        "print(\"X(shape/dtype/data): {} / {}\\n{}\\n\".format(X.shape, X.dtype, X.numpy()))\n",
        "print(\"Y(shape/dtype/data): {} / {}\\n{}\\n\".format(Y.shape, Y.dtype, Y.numpy()))"
      ],
      "metadata": {
        "id": "sXtpFDhc2E1P",
        "colab": {
          "base_uri": "https://localhost:8080/"
        },
        "outputId": "32f5e121-ecb9-4415-a35c-b8ddac21f76a"
      },
      "execution_count": 18,
      "outputs": [
        {
          "output_type": "stream",
          "name": "stdout",
          "text": [
            "tf.Tensor(\n",
            "[17.701649   1.3944702 -6.108162  24.025766  21.450665  22.115883\n",
            " 16.152294  10.989155 ], shape=(8,), dtype=float32)\n",
            "tf.Tensor([ True False False  True  True  True  True  True], shape=(8,), dtype=bool)\n",
            "tf.Tensor([1 0 0 1 1 1 1 1], shape=(8,), dtype=int32)\n",
            "X(shape/dtype/data): (8, 5) / <dtype: 'float32'>\n",
            "[[-0.19602071  3.5278618  -0.53532726  0.06394964  0.4384257 ]\n",
            " [ 0.4994513   0.7593835  -0.23085591 -2.7708595   0.23045158]\n",
            " [-2.3285213  -0.7243898  -0.3982318   0.61186767 -2.7167273 ]\n",
            " [ 1.2796409   1.2185017   1.0416803   1.1382111   0.5262473 ]\n",
            " [ 0.5170105  -0.5073481   0.8406941   0.11632203  1.792196  ]\n",
            " [ 0.20692994  0.00453574  1.9546796   1.4234673   0.06839468]\n",
            " [ 0.73877287  1.1789272  -0.43556634  2.7570875  -1.3331966 ]\n",
            " [ 2.2626398   0.568935    0.36409232 -0.4555514  -0.33628532]]\n",
            "\n",
            "Y(shape/dtype/data): (8,) / <dtype: 'int32'>\n",
            "[1 0 0 1 1 1 1 1]\n",
            "\n"
          ]
        }
      ]
    },
    {
      "cell_type": "markdown",
      "source": [
        "##**Code4-1-3: Dataset for Multi-class Classification**##"
      ],
      "metadata": {
        "id": "I4FfOISk2qBK"
      }
    },
    {
      "cell_type": "code",
      "source": [
        "# scalar, one hot encoding 두가지 방법으로 \n",
        "import tensorflow as tf\n",
        "import matplotlib.pyplot as plt\n",
        "\n",
        "plt.style.use('seaborn')\n",
        "N, n_feature = 8, 2\n",
        "n_class = 3\n",
        "\n",
        "X = tf.zeros(shape=(0, n_feature))\n",
        "Y = tf.zeros(shape=(0,1), dtype=tf.int32)\n",
        "\n",
        "fig, ax = plt.subplots(figsize=(5, 5))\n",
        "for class_idx in range(n_class):\n",
        "  center = tf. random.uniform(minval=-15, maxval=15, shape=(2, ))\n",
        "\n",
        "  x1 = center[0] + tf.random.normal(shape=(N, 1))\n",
        "  x2 = center[1] + tf.random.normal(shape=(N, 1))\n",
        "\n",
        "  #Concatenates tensors along one dimension= tf.concat()\n",
        "  x = tf.concat((x1, x2), axis=1)\n",
        "  #Creates a tensor with all elements set to one (1) = ones()\n",
        "  y = class_idx*tf.ones(shape=(N, 1), dtype=tf.int32)\n",
        "\n",
        "  # alpha = 투명도\n",
        "  ax.scatter(x[:, 0].numpy(), x[:, 1].numpy(), alpha = 0.3)\n",
        "\n",
        "  X = tf.concat((X, x), axis = 0)\n",
        "  Y = tf.concat((Y, y), axis = 0)\n",
        "\n",
        "print(\"X(shape/dtype/data): {} / {}\\n{}\\n\".format(X.shape, X.dtype, X.numpy()))\n",
        "print(\"Y(shape/dtype/data): {} / {}\\n{}\\n\".format(Y.shape, Y.dtype, Y.numpy()))"
      ],
      "metadata": {
        "id": "rcqwifjd2qJB",
        "colab": {
          "base_uri": "https://localhost:8080/",
          "height": 1000
        },
        "outputId": "4eb20af7-255b-43dc-b4a8-1526cd1459d8"
      },
      "execution_count": 53,
      "outputs": [
        {
          "output_type": "stream",
          "name": "stdout",
          "text": [
            "X(shape/dtype/data): (24, 2) / <dtype: 'float32'>\n",
            "[[ -1.5621597   -1.9767454 ]\n",
            " [ -0.6325841   -1.4243827 ]\n",
            " [ -0.75733     -1.5698142 ]\n",
            " [ -0.6095841   -3.2135358 ]\n",
            " [ -1.6365058   -0.9978051 ]\n",
            " [ -1.7076635   -2.727295  ]\n",
            " [ -0.3138085   -1.4532664 ]\n",
            " [  0.12239981  -4.3673816 ]\n",
            " [ -3.529436   -12.923902  ]\n",
            " [ -3.3372843   -9.140044  ]\n",
            " [ -3.1290126   -9.953018  ]\n",
            " [ -3.70641     -8.324943  ]\n",
            " [ -3.5355918  -10.14569   ]\n",
            " [ -4.492819    -8.53738   ]\n",
            " [ -3.4877377   -9.6594925 ]\n",
            " [ -4.361145   -11.409944  ]\n",
            " [ -6.056776     8.591808  ]\n",
            " [ -6.1167493    6.2502174 ]\n",
            " [ -4.878406     7.1599135 ]\n",
            " [ -2.8514028    5.589812  ]\n",
            " [ -6.0454645    6.8232994 ]\n",
            " [ -6.2219915    5.519359  ]\n",
            " [ -5.163896     6.400252  ]\n",
            " [ -3.4757054    8.505857  ]]\n",
            "\n",
            "Y(shape/dtype/data): (24, 1) / <dtype: 'int32'>\n",
            "[[0]\n",
            " [0]\n",
            " [0]\n",
            " [0]\n",
            " [0]\n",
            " [0]\n",
            " [0]\n",
            " [0]\n",
            " [1]\n",
            " [1]\n",
            " [1]\n",
            " [1]\n",
            " [1]\n",
            " [1]\n",
            " [1]\n",
            " [1]\n",
            " [2]\n",
            " [2]\n",
            " [2]\n",
            " [2]\n",
            " [2]\n",
            " [2]\n",
            " [2]\n",
            " [2]]\n",
            "\n"
          ]
        },
        {
          "output_type": "display_data",
          "data": {
            "text/plain": [
              "<Figure size 360x360 with 1 Axes>"
            ],
            "image/png": "[encoded data removed]"
          },
          "metadata": {}
        }
      ]
    },
    {
      "cell_type": "markdown",
      "source": [
        "##**Code4-1-4: Dataset for Multi-class Classification with One-hot encoding**##"
      ],
      "metadata": {
        "id": "Ou_54udPvKjg"
      }
    },
    {
      "cell_type": "code",
      "source": [
        "# Y를 matrix -> verctor로 바꿔주고 one_hot()\n",
        "import tensorflow as tf\n",
        "import matplotlib.pyplot as plt\n",
        "\n",
        "plt.style.use('seaborn')\n",
        "N, n_feature = 8, 2\n",
        "n_class = 3\n",
        "\n",
        "X = tf.zeros(shape=(0, n_feature))\n",
        "Y = tf.zeros(shape=(0,), dtype=tf.int32)\n",
        "\n",
        "fig, ax = plt.subplots(figsize=(5, 5))\n",
        "for class_idx in range(n_class):\n",
        "  center = tf. random.uniform(minval=-15, maxval=15, shape=(2, ))\n",
        "\n",
        "  x1 = center[0] + tf.random.normal(shape=(N, 1))\n",
        "  x2 = center[1] + tf.random.normal(shape=(N, 1))\n",
        "\n",
        "  #Concatenates tensors along one dimension= tf.concat()\n",
        "  x = tf.concat((x1, x2), axis=1)\n",
        "  #Creates a tensor with all elements set to one (1) = ones()\n",
        "  y = class_idx*tf.ones(shape=(N, ), dtype=tf.int32)\n",
        "\n",
        "  # alpha = 투명도\n",
        "  ax.scatter(x[:, 0].numpy(), x[:, 1].numpy(), alpha = 0.3)\n",
        "\n",
        "  X = tf.concat((X, x), axis = 0)\n",
        "  Y = tf.concat((Y, y), axis = 0)\n",
        "\n",
        "#one_hot() = Returns a one-hot tensor, depth = 클래스 갯수\n",
        "Y = tf.one_hot(Y, depth=n_class, dtype=tf.int32)\n",
        "\n",
        "print(\"X(shape/dtype/data): {} / {}\\n{}\\n\".format(X.shape, X.dtype, X.numpy()))\n",
        "print(\"Y(shape/dtype/data): {} / {}\\n{}\\n\".format(Y.shape, Y.dtype, Y.numpy()))"
      ],
      "metadata": {
        "colab": {
          "base_uri": "https://localhost:8080/",
          "height": 1000
        },
        "id": "vCnvTtLNvFqv",
        "outputId": "1429c3a4-73c8-4aa5-c8ab-1fe1a75e51b6"
      },
      "execution_count": 56,
      "outputs": [
        {
          "output_type": "stream",
          "name": "stdout",
          "text": [
            "X(shape/dtype/data): (24, 2) / <dtype: 'float32'>\n",
            "[[ -4.3062663  13.379668 ]\n",
            " [ -4.9414043  13.61981  ]\n",
            " [ -4.875393   13.83252  ]\n",
            " [ -5.4358377  13.022475 ]\n",
            " [ -3.810069   13.920698 ]\n",
            " [ -7.136821   12.596723 ]\n",
            " [ -5.49953    13.314609 ]\n",
            " [ -5.875171   13.166781 ]\n",
            " [ -6.65676    -8.477809 ]\n",
            " [ -8.260426   -8.53915  ]\n",
            " [ -8.409581  -11.377134 ]\n",
            " [ -9.125273   -9.4650955]\n",
            " [ -6.875134   -9.213383 ]\n",
            " [ -8.152935   -7.4656453]\n",
            " [ -7.5853257  -8.724476 ]\n",
            " [ -8.689825   -6.4988613]\n",
            " [ 11.109833   13.5281105]\n",
            " [ 12.069455   14.3689785]\n",
            " [ 10.176313   14.365111 ]\n",
            " [ 10.68454    17.21193  ]\n",
            " [ 10.643147   14.787056 ]\n",
            " [  8.826957   15.8386   ]\n",
            " [  9.311601   14.334457 ]\n",
            " [ 11.039435   14.324162 ]]\n",
            "\n",
            "Y(shape/dtype/data): (24, 3) / <dtype: 'int32'>\n",
            "[[1 0 0]\n",
            " [1 0 0]\n",
            " [1 0 0]\n",
            " [1 0 0]\n",
            " [1 0 0]\n",
            " [1 0 0]\n",
            " [1 0 0]\n",
            " [1 0 0]\n",
            " [0 1 0]\n",
            " [0 1 0]\n",
            " [0 1 0]\n",
            " [0 1 0]\n",
            " [0 1 0]\n",
            " [0 1 0]\n",
            " [0 1 0]\n",
            " [0 1 0]\n",
            " [0 0 1]\n",
            " [0 0 1]\n",
            " [0 0 1]\n",
            " [0 0 1]\n",
            " [0 0 1]\n",
            " [0 0 1]\n",
            " [0 0 1]\n",
            " [0 0 1]]\n",
            "\n"
          ]
        },
        {
          "output_type": "display_data",
          "data": {
            "text/plain": [
              "<Figure size 360x360 with 1 Axes>"
            ],
            "image/png": "[encoded data removed]"
          },
          "metadata": {}
        }
      ]
    },
    {
      "cell_type": "markdown",
      "source": [
        "##**Code4-1-5: Dataset Objects**##"
      ],
      "metadata": {
        "id": "sHPndNOC2qQD"
      }
    },
    {
      "cell_type": "code",
      "source": [
        "#전체 데이터를 minibatch로 만들어 부분부분 사용\n",
        "import tensorflow as tf\n",
        "\n",
        "N, n_feature = 100, 5\n",
        "batch_size = 32\n",
        "\n",
        "t_weights = tf.constant([1, 2, 3, 4, 5], dtype=tf.float32)\n",
        "t_bias = tf.constant([10], dtype=tf.float32)\n",
        "\n",
        "X = tf.random.normal(mean=0, stddev=1, shape=(N, n_feature))\n",
        "Y = tf.reduce_sum(t_weights*X, axis =1) + t_bias\n",
        "\n",
        "# # 100 / 32 = 3mini개의 batch만들어짐\n",
        "# for batch_idx in range(N // batch_size):\n",
        "#   #X에서 x로 minibatch뽑기\n",
        "#   x = X[batch_idx * batch_size : (batch_idx+1)*batch_size, ...]\n",
        "#   y = Y[batch_idx * batch_size : (batch_idx+1)*batch_size, ...]\n",
        "\n",
        "#   print(x.shape, y.shape)\n",
        "\n",
        "# tensorflow에서 dataset을 만드는 방법 중 가장 간단\n",
        "#직접 dataset만든 다음 data object를 만드는 방법, 데이터셋이 작을 경우 사용\n",
        "#tf.data.Dataset() = Represents a potentially large set of elements\n",
        "dataset = tf.data.Dataset.from_tensor_slices((X,Y))\n",
        "dataset = dataset.batch(batch_size)\n",
        "\n",
        "for x,y in dataset:\n",
        "  print(x.shape, y.shape)"
      ],
      "metadata": {
        "id": "YQJrXEa82qYX",
        "colab": {
          "base_uri": "https://localhost:8080/"
        },
        "outputId": "5d3bbba0-3e44-4c54-ab4e-1a48deec9142"
      },
      "execution_count": 62,
      "outputs": [
        {
          "output_type": "stream",
          "name": "stdout",
          "text": [
            "(32, 5) (32,)\n",
            "(32, 5) (32,)\n",
            "(32, 5) (32,)\n",
            "(4, 5) (4,)\n"
          ]
        }
      ]
    }
  ]
}