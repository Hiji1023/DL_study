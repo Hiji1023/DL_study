{
  "nbformat": 4,
  "nbformat_minor": 0,
  "metadata": {
    "colab": {
      "name": "CH01_03. [구현강의]Affine_Functions.ipynb. [구현강의]Affine_Functions",
      "provenance": [],
      "collapsed_sections": [],
      "include_colab_link": true
    },
    "kernelspec": {
      "name": "python3",
      "display_name": "Python 3"
    },
    "language_info": {
      "name": "python"
    }
  },
  "cells": [
    {
      "cell_type": "markdown",
      "metadata": {
        "id": "view-in-github",
        "colab_type": "text"
      },
      "source": [
        "<a href=\"https://colab.research.google.com/github/Hiji1023/dl_network_cla_/blob/main/CH01_03_Affine_Functions.ipynb\" target=\"_parent\"><img src=\"https://colab.research.google.com/assets/colab-badge.svg\" alt=\"Open In Colab\"/></a>"
      ]
    },
    {
      "cell_type": "markdown",
      "metadata": {
        "id": "WjSV2rd4zSyC"
      },
      "source": [
        "#Lecture.O.Introduction"
      ]
    },
    {
      "cell_type": "markdown",
      "source": [
        "#**1-1: Affine Functions with 1 Features**#"
      ],
      "metadata": {
        "id": "jb8-c1Y8Pug9"
      }
    },
    {
      "cell_type": "markdown",
      "source": [
        "##**Code.1-1-1: Affine Function**##"
      ],
      "metadata": {
        "id": "U_WbWp0WQS4r"
      }
    },
    {
      "cell_type": "code",
      "source": [
        "#from tensorflow.python.ops.gen_math_ops import dense_bincount\n",
        "import tensorflow as tf\n",
        "\n",
        "from tensorflow.keras.layers import Dense # keras에서 dense layer 만듬 .은 floating points로 바꿔준 것\n",
        "\n",
        "x = tf.constant([[10.]])  # matrix형태, input setting (Note: input -> matrix)\n",
        "\n",
        "dense = Dense(units=1, activation='linear') #imp. an affine function, w,b  여기서 initialization이 되지않음\n",
        "#unit 1개를 이용해 affine function을 만들 수 있다, activation='linear'로 하면 z값자체가 output으로 만들어짐\n",
        "\n",
        "#W, B = dense.get_weights()  w가 몇개인지, b를 초기화를 안해줘서 오류\n",
        "#print(W, B)\n",
        "\n",
        "y_tf = dense(x) # forward propagation + params initialization ,z연산\n",
        "# x값이 통과할때 초기화를 시킴, x 갯수에 따라 w와 b를 초기화시켜주도록 작동, 통과해야 w,b가 만들어짐\n",
        "\n",
        "W, B = dense.get_weights() # get weight, bias\n",
        "\n",
        "y_man = tf.linalg.matmul(x, W) + B   #forward propagation(manual) 직접 계산, 연산이 어떻게 되는지 증명\n",
        "\n",
        "#print results\n",
        "print('==== Input/Weight/Bias====')\n",
        "print(\"x: {}\\n{}\\n\".format(x.shape, x.numpy()))\n",
        "print(\"W: {}\\n{}\\n\".format(W.shape, W))\n",
        "print(\"B: {}\\n{}\\n\".format(B.shape, B))\n",
        "\n",
        "print('====Output====')\n",
        "print(\"y(Tensorflow): {}\\n{}\\n\".format(y_tf.shape, y_tf.numpy())) \n",
        "print(\"y(Manual): {}\\n{}\\n\".format(y_man.shape, y_man.numpy())) "
      ],
      "metadata": {
        "colab": {
          "base_uri": "https://localhost:8080/"
        },
        "id": "P8yH9UjGPr0I",
        "outputId": "1ff253c8-2bd0-495b-c637-37eef979017e"
      },
      "execution_count": null,
      "outputs": [
        {
          "output_type": "stream",
          "name": "stdout",
          "text": [
            "==== Input/Weight/Bias====\n",
            "x: (1, 1)\n",
            "[[10.]]\n",
            "\n",
            "W: (1, 1)\n",
            "[[1.634482]]\n",
            "\n",
            "B: (1,)\n",
            "[0.]\n",
            "\n",
            "====Output====\n",
            "y(Tensorflow): (1, 1)\n",
            "[[16.34482]]\n",
            "\n",
            "y(Manual): (1, 1)\n",
            "[[16.34482]]\n",
            "\n"
          ]
        }
      ]
    },
    {
      "cell_type": "markdown",
      "source": [
        "##**Code.1-1-1: Params Initialization**##"
      ],
      "metadata": {
        "id": "p7utobBveeIB"
      }
    },
    {
      "cell_type": "code",
      "source": [
        "import tensorflow as tf\n",
        "\n",
        "from tensorflow.keras.layers import Dense\n",
        "from tensorflow.keras.initializers import Constant\n",
        "\n",
        "x = tf.constant([[10.]]) # input setting\n",
        "\n",
        "#weight/bias setting\n",
        "w, b = tf.constant(10.), tf.constant(20.)  #tensorflow는 floating point 32bit로 움직임, 숫자 뒤 점 습관화하기 \n",
        "\n",
        "w_init, b_init = Constant(w), Constant(b)  #tf.keras.initializers.Constant() = Constant()\n",
        "# 텐서값이 아니라 w,b를 초기화시켜주는 오브젝트가 나옴, 단순히 텐서값 포함이 아니다\n",
        "\n",
        "# imp. an affine function \n",
        "dense = Dense(units=1, activation='linear', kernel_initializer=w_init,bias_initializer=b_init)\n",
        "\n",
        "y_tf = dense(x)\n",
        "print(y_tf)  # 10*10+20 = 120 (x*w+b)\n",
        "W, B = dense.get_weights()\n",
        "\n",
        "#print results\n",
        "print(\"W : {}\\n{}\\n\".format(W.shape, W))\n",
        "print(\"B : {}\\n{}\\n\".format(B.shape, B))\n",
        "\n",
        "# 회귀, 로지스틱 회귀에 사용\n"
      ],
      "metadata": {
        "colab": {
          "base_uri": "https://localhost:8080/"
        },
        "id": "GZDhDwl3eu2x",
        "outputId": "6b24cacd-1cc7-4d3a-e438-2e4aa46a9bea"
      },
      "execution_count": 6,
      "outputs": [
        {
          "output_type": "stream",
          "name": "stdout",
          "text": [
            "tf.Tensor([[120.]], shape=(1, 1), dtype=float32)\n",
            "W : (1, 1)\n",
            "[[10.]]\n",
            "\n",
            "B : (1,)\n",
            "[20.]\n",
            "\n"
          ]
        }
      ]
    },
    {
      "cell_type": "markdown",
      "source": [
        "#**1-2: Affine Function with n Features**#"
      ],
      "metadata": {
        "id": "xwrRvdABsrK9"
      }
    },
    {
      "cell_type": "markdown",
      "source": [
        "##**Code.1-2-1: Affine Function with n Features**##"
      ],
      "metadata": {
        "id": "MN7sI029s1lJ"
      }
    },
    {
      "cell_type": "code",
      "source": [
        "import tensorflow as tf\n",
        "\n",
        "from tensorflow.keras.layers import Dense\n",
        "\n",
        "x = tf.random.uniform(shape=(1,10))  # 랜덤모듈에서 1~10 사이 골고루 나오도록, x vector가 (1,10)행렬\n",
        "#print(x.shape, '\\n', x)\n",
        "\n",
        "dense = Dense(units=1)  # weight가 몇개 들어가야하는지 모르는 상황\n",
        "\n",
        "y_tf = dense(x)  #통과하면 weight가 몇개 들어가야하는지 설정이 됨, weight10개, bias1개 초기화시켜줘야함\n",
        " \n",
        "W, B = dense.get_weights()  #초기화 한 값을 알려줘\n",
        "\n",
        "y_man = tf.linalg.matmul(x, W) + B  # 선형 대수 행렬 곱셈, 실제로 계산, z연산\n",
        "\n",
        "#print results\n",
        "print('==== Input/Weight/Bias====')\n",
        "print(\"x: {}\\n{}\\n\".format(x.shape, x.numpy()))\n",
        "print(\"W: {}\\n{}\\n\".format(W.shape, W))  # column vector로 출력, weight vector (w1~w10)\n",
        "print(\"B: {}\\n{}\\n\".format(B.shape, B))  # bias는 1개\n",
        "\n",
        "print('====Output====')\n",
        "print(\"y(Tensorflow): {}\\n{}\\n\".format(y_tf.shape, y_tf.numpy())) \n",
        "print(\"y(Manual): {}\\n{}\\n\".format(y_man.shape, y_man.numpy())) "
      ],
      "metadata": {
        "colab": {
          "base_uri": "https://localhost:8080/"
        },
        "id": "xJOr6hNhtN_q",
        "outputId": "3466357b-b148-4391-a296-1b0556365ed7"
      },
      "execution_count": 9,
      "outputs": [
        {
          "output_type": "stream",
          "name": "stdout",
          "text": [
            "==== Input/Weight/Bias====\n",
            "x: (1, 10)\n",
            "[[0.9617789  0.13603842 0.18825376 0.69937634 0.67656493 0.67599976\n",
            "  0.24775136 0.833496   0.49840224 0.41456854]]\n",
            "\n",
            "W: (10, 1)\n",
            "[[-0.05368286]\n",
            " [ 0.60565907]\n",
            " [-0.600706  ]\n",
            " [-0.10590523]\n",
            " [ 0.05996251]\n",
            " [ 0.15246284]\n",
            " [ 0.21105611]\n",
            " [ 0.10811931]\n",
            " [-0.6835115 ]\n",
            " [-0.17381865]]\n",
            "\n",
            "B: (1,)\n",
            "[0.]\n",
            "\n",
            "====Output====\n",
            "y(Tensorflow): (1, 1)\n",
            "[[-0.2830745]]\n",
            "\n",
            "y(Manual): (1, 1)\n",
            "[[-0.2830745]]\n",
            "\n"
          ]
        }
      ]
    }
  ]
}