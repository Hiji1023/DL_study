{
  "nbformat": 4,
  "nbformat_minor": 0,
  "metadata": {
    "colab": {
      "name": "CH04_06. [구현강의]_MSE_and_BCE.ipynb. [구현강의]_MSE_and_BCE",
      "provenance": [],
      "collapsed_sections": [],
      "include_colab_link": true
    },
    "kernelspec": {
      "name": "python3",
      "display_name": "Python 3"
    },
    "language_info": {
      "name": "python"
    }
  },
  "cells": [
    {
      "cell_type": "markdown",
      "metadata": {
        "id": "view-in-github",
        "colab_type": "text"
      },
      "source": [
        "<a href=\"https://colab.research.google.com/github/Hiji1023/dl_network_cla_/blob/main/CH04_06_MSE_and_BCE.ipynb\" target=\"_parent\"><img src=\"https://colab.research.google.com/assets/colab-badge.svg\" alt=\"Open In Colab\"/></a>"
      ]
    },
    {
      "cell_type": "markdown",
      "source": [
        "#**4-2: Mean Squared Error**#"
      ],
      "metadata": {
        "id": "pNBAvsLv3VQE"
      }
    },
    {
      "cell_type": "markdown",
      "source": [
        "##**Code4-2-1: MSE Calculation**##"
      ],
      "metadata": {
        "id": "P0vYpr4c3XEb"
      }
    },
    {
      "cell_type": "code",
      "source": [
        "import tensorflow as tf\n",
        "from tensorflow.keras.losses import MeanSquaredError\n",
        "\n",
        "loss_object = MeanSquaredError()\n",
        "\n",
        "batch_size = 32\n",
        "predictions = tf.random.normal(shape=(batch_size, 1))\n",
        "\n",
        "#dataset안에 들어있는 값\n",
        "labels = tf.random.normal(shape=(batch_size,1))\n",
        "\n",
        "mse = loss_object(labels, predictions)\n",
        "mse_manual = tf.reduce_mean(tf.math.pow(labels - predictions,2 ))\n",
        "print(\"MSE(Tensorflow): \", mse.numpy())\n",
        "print(\"MSE(Manual): \", mse_manual.numpy())\n"
      ],
      "metadata": {
        "id": "REPdF6BE3XLH",
        "colab": {
          "base_uri": "https://localhost:8080/"
        },
        "outputId": "7ac6c4de-7493-4b92-cb2a-e9c3144781da"
      },
      "execution_count": 2,
      "outputs": [
        {
          "output_type": "stream",
          "name": "stdout",
          "text": [
            "MSE(Tensorflow):  1.1205966\n",
            "MSE(Manual):  1.1205966\n"
          ]
        }
      ]
    },
    {
      "cell_type": "markdown",
      "source": [
        "##**Code4-2-2: MSE with Model/Dataset**##"
      ],
      "metadata": {
        "id": "i80ISNCb3Xtj"
      }
    },
    {
      "cell_type": "code",
      "source": [
        "import tensorflow as tf\n",
        "\n",
        "from tensorflow.keras.layers import Dense\n",
        "from tensorflow.keras.losses import MeanSquaredError\n",
        "\n",
        "N, n_feature = 100, 5\n",
        "\n",
        "X = tf.random.normal(shape=(N, n_feature))\n",
        "Y = tf.random.normal(shape=(N, 1))\n",
        "\n",
        "dataset = tf.data.Dataset.from_tensor_slices((X,Y))\n",
        "dataset = dataset.batch(batch_size)\n",
        "\n",
        "model = Dense(units=1, activation = 'linear')\n",
        "loss_object = MeanSquaredError()\n",
        "\n",
        "# batch를 뽑을 때마다 model을 통과한 뒤 출력값과 실제 값 비교\n",
        "for x, y in dataset:\n",
        "  predictions = model(x)\n",
        "  loss = loss_object(y, predictions)\n",
        "  print(loss.numpy())"
      ],
      "metadata": {
        "id": "xhW3INWI3X7R",
        "colab": {
          "base_uri": "https://localhost:8080/"
        },
        "outputId": "479b5323-05ea-486f-d242-84507e4497e1"
      },
      "execution_count": 7,
      "outputs": [
        {
          "output_type": "stream",
          "name": "stdout",
          "text": [
            "3.991858\n",
            "4.9235067\n",
            "2.6310182\n",
            "3.5861173\n"
          ]
        }
      ]
    },
    {
      "cell_type": "markdown",
      "source": [
        "#**4-3: Binary Cross Entropy**#"
      ],
      "metadata": {
        "id": "X7invsJ_3YNz"
      }
    },
    {
      "cell_type": "markdown",
      "source": [
        "##**Code4-3-1: BCE Claculation**##"
      ],
      "metadata": {
        "id": "1udNxyiO3YSt"
      }
    },
    {
      "cell_type": "code",
      "source": [
        "import tensorflow as tf\n",
        "\n",
        "from tensorflow.keras.losses import BinaryCrossentropy\n",
        "\n",
        "batch_size = 4\n",
        "#binary\n",
        "n_class = 2 \n",
        "\n",
        "predictions = tf.random.uniform(shape=(batch_size,1), minval = 0, maxval = 1, dtype = tf.float32)\n",
        "labels = tf.random.uniform(shape=(batch_size, 1), minval = 0, maxval = n_class, dtype = tf.int32)\n",
        "\n",
        "loss_object = BinaryCrossentropy()\n",
        "loss = loss_object(labels, predictions)\n",
        "\n",
        "labels = tf.cast(labels, tf.float32)\n",
        "bce_man = -(labels*tf.math.log(predictions) + (1 - labels)*tf.math.log(1-predictions))\n",
        "bce_man = tf.reduce_mean(bce_man)\n",
        "\n",
        "print(\"BCE(Tensorflow): \", loss.numpy())\n",
        "print(\"BCE(Manual): \", bce_man.numpy())\n"
      ],
      "metadata": {
        "id": "Ois6WBZD3Yar",
        "colab": {
          "base_uri": "https://localhost:8080/"
        },
        "outputId": "88991bd0-fff1-49ed-f882-dc28519b234b"
      },
      "execution_count": 13,
      "outputs": [
        {
          "output_type": "stream",
          "name": "stdout",
          "text": [
            "BCE(Tensorflow):  0.5767325\n",
            "BCE(Manual):  0.57673275\n"
          ]
        }
      ]
    },
    {
      "cell_type": "markdown",
      "source": [
        "##**Code4-3-2: BCE with Model/Dataset**##"
      ],
      "metadata": {
        "id": "w73D6V4a3_e6"
      }
    },
    {
      "cell_type": "code",
      "source": [
        "import tensorflow as tf\n",
        "\n",
        "from tensorflow.keras.layers import Dense\n",
        "from tensorflow.keras.losses import BinaryCrossentropy\n",
        "\n",
        "N, n_feature = 100, 5\n",
        "t_weights = tf.constant([1, 2, 3, 4, 5], dtype=tf.float32)\n",
        "t_bias = tf.constant([10], dtype = tf.float32)\n",
        "\n",
        "X = tf.random.normal(mean=0, stddev=1, shape=(N, n_feature))\n",
        "Y = tf.reduce_sum(t_weights*X, axis=1) + t_bias\n",
        "Y = tf.cast(Y > 5, tf.int32)\n",
        "\n",
        "dataset = tf.data.Dataset.from_tensor_slices((X,Y))\n",
        "dataset = dataset.batch(batch_size)\n",
        "\n",
        "model = Dense(units=1, activation=\"sigmoid\")\n",
        "loss_object = BinaryCrossentropy()\n",
        "\n",
        "for x, y in dataset:\n",
        "  predictions = model(x)\n",
        "  loss = loss_object(y, predictions)\n",
        "  print(loss.numpy())"
      ],
      "metadata": {
        "id": "BcYXLbKF3_vV",
        "colab": {
          "base_uri": "https://localhost:8080/"
        },
        "outputId": "0aa8bec9-4714-4af1-b7fd-544286bda2e6"
      },
      "execution_count": 19,
      "outputs": [
        {
          "output_type": "stream",
          "name": "stdout",
          "text": [
            "1.0593712\n",
            "1.0552192\n",
            "1.0264971\n",
            "0.8616506\n",
            "1.3043821\n",
            "0.7344996\n",
            "1.9628189\n",
            "1.0690482\n",
            "0.92835575\n",
            "1.1381103\n",
            "0.8492911\n",
            "0.73413676\n",
            "0.8294357\n",
            "1.1688179\n",
            "0.7638643\n",
            "0.9190137\n",
            "0.7453877\n",
            "1.7516015\n",
            "1.3086495\n",
            "0.72122455\n",
            "1.2472175\n",
            "0.6259262\n",
            "1.0984674\n",
            "1.4808633\n",
            "1.318607\n"
          ]
        }
      ]
    }
  ]
}