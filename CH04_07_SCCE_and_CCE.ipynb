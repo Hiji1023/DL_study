{
  "nbformat": 4,
  "nbformat_minor": 0,
  "metadata": {
    "colab": {
      "name": "CH04_07_SCCE_and_CCE.ipynb",
      "provenance": [],
      "collapsed_sections": [],
      "include_colab_link": true
    },
    "kernelspec": {
      "name": "python3",
      "display_name": "Python 3"
    },
    "language_info": {
      "name": "python"
    }
  },
  "cells": [
    {
      "cell_type": "markdown",
      "metadata": {
        "id": "view-in-github",
        "colab_type": "text"
      },
      "source": [
        "<a href=\"https://colab.research.google.com/github/Hiji1023/dl_network_cla_/blob/main/CH04_07_SCCE_and_CCE.ipynb\" target=\"_parent\"><img src=\"https://colab.research.google.com/assets/colab-badge.svg\" alt=\"Open In Colab\"/></a>"
      ]
    },
    {
      "cell_type": "markdown",
      "source": [
        "#**4-4: Sparse Categorical Cross Entropy**#"
      ],
      "metadata": {
        "id": "9rEJIFqRIkeO"
      }
    },
    {
      "cell_type": "markdown",
      "source": [
        "##**Code4-4-1: SCCE Calcualtion**##"
      ],
      "metadata": {
        "id": "RbfodnXiIll7"
      }
    },
    {
      "cell_type": "code",
      "source": [
        "import tensorflow as tf\n",
        "\n",
        "from tensorflow.keras.losses import SparseCategoricalCrossentropy\n",
        "\n",
        "# batch_size = row의 수, n_class = column의 수\n",
        "# x = 16 by 5 matrix\n",
        "batch_size, n_class = 16,5\n",
        "\n",
        "#predictions = y_hat,16 by 5 matrix, 0~1사이의 값\n",
        "#마지막 뉴런의 갯수 = class의 갯수\n",
        "predictions = tf.random.uniform(shape=(batch_size, n_class), minval=0, maxval=1, dtype=tf.float32)\n",
        "\n",
        "# 행끼리의 합 구한 뒤, reshape해서 column vector로 만들어 줌 \n",
        "pred_sum = tf.reshape(tf.reduce_sum(predictions, axis = 1), (-1,1))\n",
        "predictions = predictions / pred_sum\n",
        "# labels = y\n",
        "labels = tf.random.uniform(shape=(batch_size, ),minval = 0, maxval = n_class, dtype=tf.int32)\n",
        "loss_object = SparseCategoricalCrossentropy()\n",
        "loss = loss_object(labels, predictions)\n",
        "print(loss.numpy())\n",
        "\n",
        "ce = 0\n",
        "for label, prediction in zip(labels, predictions):\n",
        "  ce += -tf.math.log(prediction[label])\n",
        "ce /= batch_size\n",
        "print(ce.numpy())\n",
        "\n",
        "# loss = ce"
      ],
      "metadata": {
        "colab": {
          "base_uri": "https://localhost:8080/"
        },
        "id": "PaeDTLlMIlvq",
        "outputId": "a8b625cb-7010-4b8e-a916-c8f9d7d7033c"
      },
      "execution_count": 2,
      "outputs": [
        {
          "output_type": "stream",
          "name": "stdout",
          "text": [
            "1.8806874\n",
            "1.8806875\n"
          ]
        }
      ]
    },
    {
      "cell_type": "markdown",
      "source": [
        "##**Code4-4-1: SCCE with Model/Dataset**##"
      ],
      "metadata": {
        "id": "QvIuiw_-I35V"
      }
    },
    {
      "cell_type": "code",
      "source": [
        "import tensorflow as tf\n",
        "\n",
        "from tensorflow.keras.layers import Dense\n",
        "from tensorflow.keras.losses import SparseCategoricalCrossentropy\n",
        "\n",
        "N, n_feature = 100, 2\n",
        "n_class = 5\n",
        "\n",
        "X = tf.zeros(shape=(0, n_feature))\n",
        "Y = tf.zeros(shape=(0,1), dtype=tf.int32)\n",
        "\n",
        "for class_idx in range(n_class):\n",
        "  center = tf. random.uniform(minval=-15, maxval=15, shape=(2, ))\n",
        "\n",
        "  x1 = center[0] + tf.random.normal(shape=(N, 1))\n",
        "  x2 = center[1] + tf.random.normal(shape=(N, 1))\n",
        "\n",
        "  x = tf.concat((x1, x2), axis=1)\n",
        "  y = class_idx*tf.ones(shape=(N, 1), dtype=tf.int32)\n",
        "\n",
        "  X = tf.concat((X, x), axis = 0)\n",
        "  Y = tf.concat((Y, y), axis = 0)\n",
        "\n",
        "# tensor에서 만들거니깐, (X,Y) -> tuple로 넣어줌\n",
        "# 열기준으로 slice -> dataset 2개 , dataset당 x,y는 batch_size개 들어있다\n",
        "\n",
        "dataset = tf.data.Dataset.from_tensor_slices((X,Y))\n",
        "print(dataset)\n",
        "dataset = dataset.batch(batch_size)\n",
        "\n",
        "model = Dense(units=n_class, activation='softmax')\n",
        "loss_object = SparseCategoricalCrossentropy()\n",
        "\n",
        "# loss가 16 * 2 개 나와야함\n",
        "for x,y in dataset:\n",
        "  predictions = model(x)\n",
        "  loss = loss_object(y, predictions)\n",
        "  print(loss.numpy())"
      ],
      "metadata": {
        "colab": {
          "base_uri": "https://localhost:8080/"
        },
        "id": "gc-SVPY5I_CB",
        "outputId": "75d6b2fd-bf85-4ed9-fb81-490af38c33f8"
      },
      "execution_count": 16,
      "outputs": [
        {
          "output_type": "stream",
          "name": "stdout",
          "text": [
            "<TensorSliceDataset element_spec=(TensorSpec(shape=(2,), dtype=tf.float32, name=None), TensorSpec(shape=(1,), dtype=tf.int32, name=None))>\n",
            "7.0570326\n",
            "7.0201874\n",
            "6.9119596\n",
            "6.921844\n",
            "6.9838066\n",
            "6.9927797\n",
            "10.15341\n",
            "11.246576\n",
            "11.018984\n",
            "11.169491\n",
            "10.913704\n",
            "11.154956\n",
            "5.610979\n",
            "0.09014476\n",
            "0.07343918\n",
            "0.075236864\n",
            "0.06897332\n",
            "0.080975465\n",
            "3.604432\n",
            "13.280009\n",
            "13.460102\n",
            "13.393946\n",
            "13.663402\n",
            "13.775893\n",
            "13.933668\n",
            "11.471234\n",
            "11.71542\n",
            "11.487019\n",
            "12.066933\n",
            "11.396588\n",
            "12.009353\n",
            "11.740828\n"
          ]
        }
      ]
    },
    {
      "cell_type": "markdown",
      "source": [
        "#**4-5: Categorical Cross Entropy**##"
      ],
      "metadata": {
        "id": "KttC94fHI_1O"
      }
    },
    {
      "cell_type": "markdown",
      "source": [
        "##**Code4-5-1: CCE Calcualtion**##"
      ],
      "metadata": {
        "id": "BREHKFiZI_7b"
      }
    },
    {
      "cell_type": "code",
      "source": [
        "import tensorflow as tf\n",
        "\n",
        "from tensorflow.keras.losses import CategoricalCrossentropy\n",
        "\n",
        "# x = 16 by 5 matrix\n",
        "batch_size, n_class = 16, 5\n",
        "\n",
        "#0 <= y_hat = predictons <= 1 \n",
        "#마지막 뉴런의 갯수 = class의 갯수\n",
        "predictions = tf.random.uniform(shape=(batch_size, n_class), minval=0, maxval=1, dtype=tf.float32)\n",
        "\n",
        "# 행끼리의 합 구한 뒤, reshape해서 column vector로 만들어 줌 \n",
        "# pred_sum = 16 by 1 matrix\n",
        "pred_sum = tf.reshape(tf.reduce_sum(predictions, axis = 1), (-1,1))\n",
        "predictions = predictions / pred_sum\n",
        "print(predictions.shape)\n",
        "# labels = y\n",
        "labels = tf.random.uniform(shape=(batch_size, ),minval = 0, maxval = n_class, dtype=tf.int32)\n",
        "# one_hot(indices, depth), labels by n_class matrix\n",
        "labels = tf.one_hot(labels, n_class)\n",
        "\n",
        "loss_object = CategoricalCrossentropy()\n",
        "loss = loss_object(labels, predictions)\n",
        "\n",
        "print(\"CCE(Tensroflow): \",loss.numpy())\n",
        "\n",
        "cce_man = tf.reduce_mean(tf.reduce_sum(-labels*tf.math.log(predictions), axis = 1))\n",
        "print(\"CCE(Manual): \",cce_man.numpy())"
      ],
      "metadata": {
        "colab": {
          "base_uri": "https://localhost:8080/"
        },
        "id": "xOg-nCwEJAFa",
        "outputId": "a27a4815-edcc-4600-b245-faefc1519e9e"
      },
      "execution_count": null,
      "outputs": [
        {
          "output_type": "stream",
          "name": "stdout",
          "text": [
            "(16, 5)\n",
            "CCE(Tensroflow):  1.4721774\n",
            "CCE(Manual):  1.4721774\n"
          ]
        }
      ]
    },
    {
      "cell_type": "markdown",
      "source": [
        "##**Code4-5-2: CCE with Model/Dataset**##"
      ],
      "metadata": {
        "id": "STkAqDE0JANu"
      }
    },
    {
      "cell_type": "code",
      "source": [
        "import tensorflow as tf\n",
        "from tensorflow.keras.losses import CategoricalCrossentropy\n",
        "\n",
        "N, n_feature = 8, 2\n",
        "n_class = 5\n",
        "\n",
        "X = tf.zeros(shape=(0, n_feature))\n",
        "Y = tf.zeros(shape=(0,), dtype=tf.int32)\n",
        "\n",
        "for class_idx in range(n_class):\n",
        "  center = tf.random.uniform(minval=-15, maxval=15, shape=(2, ))\n",
        "\n",
        "  x1 = center[0] + tf.random.normal(shape=(N, 1))\n",
        "  x2 = center[1] + tf.random.normal(shape=(N, 1))\n",
        "\n",
        "  #Concatenates tensors along one dimension= tf.concat()\n",
        "  x = tf.concat((x1, x2), axis=1)\n",
        "  #Creates a tensor with all elements set to one (1) = ones()\n",
        "  y = class_idx*tf.ones(shape=(N, ), dtype=tf.int32)\n",
        "\n",
        "  X = tf.concat((X, x), axis = 0)\n",
        "  Y = tf.concat((Y, y), axis = 0)\n",
        "\n",
        "#one_hot() = Returns a one-hot tensor, depth = 클래스 갯수\n",
        "Y = tf.one_hot(Y, depth=n_class, dtype=tf.int32)\n",
        "\n",
        "# 열기준으로 slice -> dataset 2개 , dataset당 x,y는 batch_size개 들어있다 \n",
        "dataset = tf.data.Dataset.from_tensor_slices((X,Y))\n",
        "dataset = dataset.batch(batch_size)\n",
        "\n",
        "model = Dense(units=n_class, activation='softmax')\n",
        "loss_object = CategoricalCrossentropy()\n",
        "\n",
        "for x,y in dataset:\n",
        "  predictions = model(x)\n",
        "  loss = loss_object(y, predictions)\n",
        "  print(loss.numpy())\n"
      ],
      "metadata": {
        "colab": {
          "base_uri": "https://localhost:8080/"
        },
        "id": "HsA0T5qCJATs",
        "outputId": "2d112d1e-c2cf-4a8e-b49e-74fd4fd5e623"
      },
      "execution_count": 23,
      "outputs": [
        {
          "output_type": "stream",
          "name": "stdout",
          "text": [
            "8.960773\n",
            "4.633885\n",
            "0.11723381\n"
          ]
        }
      ]
    }
  ]
}