{
  "nbformat": 4,
  "nbformat_minor": 0,
  "metadata": {
    "colab": {
      "name": "CH02_05. [구현강의]_Dense_Layers.ipynb. [구현강의]_Dense_Layers",
      "provenance": [],
      "collapsed_sections": [],
      "include_colab_link": true
    },
    "kernelspec": {
      "name": "python3",
      "display_name": "Python 3"
    },
    "language_info": {
      "name": "python"
    }
  },
  "cells": [
    {
      "cell_type": "markdown",
      "metadata": {
        "id": "view-in-github",
        "colab_type": "text"
      },
      "source": [
        "<a href=\"https://colab.research.google.com/github/Hiji1023/dl_network_cla_/blob/main/CH02_05_06_Dense_Layers.ipynb\" target=\"_parent\"><img src=\"https://colab.research.google.com/assets/colab-badge.svg\" alt=\"Open In Colab\"/></a>"
      ]
    },
    {
      "cell_type": "markdown",
      "source": [
        "#**2-1: Dense Layers**#"
      ],
      "metadata": {
        "id": "VgWCTiw2tv7h"
      }
    },
    {
      "cell_type": "markdown",
      "source": [
        "##**Code2-1-1: Shapes of Dense Layers**##"
      ],
      "metadata": {
        "id": "Q8j8reAXudqE"
      }
    },
    {
      "cell_type": "code",
      "source": [
        "import tensorflow as tf\n",
        "from tensorflow.keras.layers import Dense\n",
        "\n",
        "N,n_feature = 8, 10 \n",
        "X = tf.random.normal(shape=(N, n_feature))  # input setting, N행 n_feature열인 X matrix\n",
        "\n",
        "n_neuron = 3 # neuron의 갯수\n",
        "dense = Dense(units = n_neuron, activation = 'sigmoid')  # 뉴런이 3개인 dense layer -> weight vector 3X10, bias vector 1X3\n",
        "Y = dense(X) \n",
        "\n",
        "W, B = dense.get_weights()\n",
        "\n",
        "print('==== Input/Weight/Output====')\n",
        "print(\"X: \",X.shape)\n",
        "print(\"W: \",W.shape)\n",
        "print(\"B: \",B.shape)\n",
        "print(\"Y: \",Y.shape)\n",
        "\n",
        "print(W)"
      ],
      "metadata": {
        "colab": {
          "base_uri": "https://localhost:8080/"
        },
        "id": "AtTJpKVwueWY",
        "outputId": "d3bfc4b3-1919-43a7-cb1a-bfa944f809f4"
      },
      "execution_count": 4,
      "outputs": [
        {
          "output_type": "stream",
          "name": "stdout",
          "text": [
            "==== Input/Weight/Output====\n",
            "X:  (8, 10)\n",
            "W:  (10, 3)\n",
            "B:  (3,)\n",
            "Y:  (8, 3)\n",
            "[[ 0.13532078 -0.28365242  0.17590165]\n",
            " [-0.12819493 -0.29023793  0.18400097]\n",
            " [ 0.54652643 -0.44886494 -0.6654114 ]\n",
            " [ 0.46448863  0.10888106  0.18547446]\n",
            " [-0.08024979 -0.27139023  0.6523154 ]\n",
            " [-0.04271567 -0.63102084 -0.4830041 ]\n",
            " [-0.137084    0.15628451  0.17295855]\n",
            " [ 0.3982631  -0.36900857 -0.1139639 ]\n",
            " [ 0.6428019  -0.10790271  0.20670998]\n",
            " [ 0.19415426  0.6031543  -0.35858965]]\n"
          ]
        }
      ]
    },
    {
      "cell_type": "markdown",
      "source": [
        "##**Code2-1-2: Output Calculation**##"
      ],
      "metadata": {
        "id": "nQAF7zoKue2W"
      }
    },
    {
      "cell_type": "code",
      "source": [
        "import numpy as np\n",
        "import tensorflow as tf\n",
        "\n",
        "from tensorflow.math import exp\n",
        "from tensorflow.linalg import matmul\n",
        "from tensorflow.keras.layers import Dense\n",
        "\n",
        "N,n_feature = 4, 10 \n",
        "X = tf.random.normal(shape=(N, n_feature))  # input setting, N행 n_feature열인 X matrix\n",
        "\n",
        "n_neuron = 3 # neuron의 갯수\n",
        "dense = Dense(units = n_neuron, activation = 'sigmoid')  # 뉴런이 3개인 dense layer -> weight vector 3X10, bias vector 1X3\n",
        "Y_tf = dense(X) \n",
        "\n",
        "W, B = dense.get_weights()\n",
        "\n",
        "print(\"Y(Tensorflow): \\n\",Y_tf.numpy())\n",
        "\n",
        "#calculate matrix multiplication\n",
        "z = matmul(X,W) + B\n",
        "Y_man_matmul = 1 / (1 + exp(-z))\n",
        "print(\"Y(with matrix multiplication): \\n\",Y_man_matmul.numpy())\n",
        "\n",
        "#calculate with dot products\n",
        "Y_man_vec = np.zeros(shape=(N,n_neuron))   # array안에 값을 바꾸기 위해 numpy가져옴, N by n_neuron zero matrix\n",
        "for x_idx in range (N):\n",
        "  x = X[x_idx]  #하나의 datasample씩 뽑아온다 -> x matrix의 행마다 반복\n",
        "\n",
        "  for nu_idx in range (n_neuron) : # 뉴런 갯수마다 반복\n",
        "    w, b = W[:, nu_idx], B[nu_idx]  # weight vector 하나씩 가져옴, bias vector 하나씩\n",
        "\n",
        "    z = tf.reduce_sum(x * w) + b\n",
        "    a = 1 / (1 + np.exp(-z))\n",
        "    Y_man_vec[x_idx, nu_idx] = a\n",
        "\n",
        "print(\"Y(with dot product): \\n\", Y_man_vec) "
      ],
      "metadata": {
        "colab": {
          "base_uri": "https://localhost:8080/"
        },
        "id": "zpTDfQDJufLW",
        "outputId": "86cbe7f4-c21b-4aa4-cd3a-3da1de5f6577"
      },
      "execution_count": 8,
      "outputs": [
        {
          "output_type": "stream",
          "name": "stdout",
          "text": [
            "Y(Tensorflow): \n",
            " [[0.31730202 0.87344545 0.11364233]\n",
            " [0.61902356 0.28036708 0.34578484]\n",
            " [0.04225206 0.52872413 0.36816335]\n",
            " [0.57957554 0.09428012 0.84301865]]\n",
            "Y(with matrix multiplication): \n",
            " [[0.31730202 0.8734455  0.11364236]\n",
            " [0.6190236  0.28036708 0.3457848 ]\n",
            " [0.0422521  0.52872413 0.36816332]\n",
            " [0.5795756  0.09428016 0.84301865]]\n",
            "Y(with dot product): \n",
            " [[0.31730202 0.87344545 0.11364235]\n",
            " [0.6190236  0.28036709 0.34578481]\n",
            " [0.0422521  0.52872411 0.36816333]\n",
            " [0.57957554 0.09428016 0.84301864]]\n"
          ]
        }
      ]
    },
    {
      "cell_type": "markdown",
      "source": [
        "#**Cascaded Dense Layers**#\n",
        "\n"
      ],
      "metadata": {
        "id": "xj6KS7BRufzo"
      }
    },
    {
      "cell_type": "markdown",
      "source": [
        "##**Code2-2-1: Shapes of cascaded Dense Layers**##"
      ],
      "metadata": {
        "id": "aafBdvF6ugR8"
      }
    },
    {
      "cell_type": "code",
      "source": [
        "# 여러개의 dense layer만들기\n",
        "\n",
        "import tensorflow as tf\n",
        "\n",
        "from tensorflow.keras.layers import Dense\n",
        "\n",
        "N, n_feature = 4, 10  # N = minibatch size\n",
        "X = tf.random.normal(shape=(N, n_feature))  # 4 by 10 행렬\n",
        "\n",
        "n_neurons = [3,5]\n",
        "dense1 = Dense(units = n_neurons[0], activation = 'sigmoid')  # 뉴런 3개\n",
        "dense2 = Dense(units = n_neurons[1], activation = 'sigmoid')  # 뉴런 5개\n",
        "#dense3 = Dense(units = n_neurons[2], activation = 'sigmoid')\n",
        "\n",
        "#forward propagation\n",
        "A1 = dense1(X)  # W1 10 by 3, B1 1 by 3, A1 4 by 3\n",
        "Y = dense2(A1)  # W2 3 by 5, B2 1 by 5, Y 4 by 5\n",
        "\n",
        "# get weight/bias\n",
        "W1, B1 = dense1.get_weights()\n",
        "W2, B2 = dense2.get_weights()\n",
        "\n",
        "print(\"X : {}\\n\".format(X.shape))\n",
        "print(\"W1 : \",W1.shape)\n",
        "print(\"B1 : \",B1.shape)\n",
        "print(\"A1 : {}\\n\".format(A1.shape))\n",
        "print(\"W2 : \",W2.shape)\n",
        "print(\"B2 : \",B2.shape)\n",
        "print(\"Y : {}\\n\".format(Y.shape))"
      ],
      "metadata": {
        "colab": {
          "base_uri": "https://localhost:8080/"
        },
        "id": "W9X-ByGRugtw",
        "outputId": "ec522428-be74-47ad-82c1-fe4392d56cb3"
      },
      "execution_count": 11,
      "outputs": [
        {
          "output_type": "stream",
          "name": "stdout",
          "text": [
            "X : (4, 10)\n",
            "\n",
            "W1 :  (10, 3)\n",
            "B1 :  (3,)\n",
            "A1 : (4, 3)\n",
            "\n",
            "W2 :  (3, 5)\n",
            "B2 :  (5,)\n",
            "Y : (4, 5)\n",
            "\n"
          ]
        }
      ]
    },
    {
      "cell_type": "markdown",
      "source": [
        "##**Code2-2-2: Dense Layers with Python List**##"
      ],
      "metadata": {
        "id": "pfunMB9J8LLY"
      }
    },
    {
      "cell_type": "code",
      "source": [
        "# 여러개의 리스트를 만들고 통과시켜주기\n",
        "import tensorflow as tf\n",
        "\n",
        "from tensorflow.keras.layers import Dense\n",
        "\n",
        "N, n_feature = 4, 10  # N = minibatch size\n",
        "X = tf.random.normal(shape=(N, n_feature))  # 4 by 10 행렬\n",
        "\n",
        "n_neurons = [10, 20 ,30, 40 ,50, 60, 70, 80, 90, 100]\n",
        "\n",
        "# 레이어를 하나씩 적어주지않고 리스트로 만들어 계산\n",
        "dense_layers = list()  \n",
        "for n_neuron in n_neurons :\n",
        "  dense = Dense(units = n_neuron, activation= 'relu')\n",
        "  dense_layers.append(dense)\n",
        "  \n",
        "print(\"Input: \",X.shape)\n",
        "for dense_idx, dense in enumerate(dense_layers):\n",
        "  X = dense(X)\n",
        "  print(\"After dense layer \", dense_idx)\n",
        "  print(X.shape, '\\n')\n",
        "Y = X\n"
      ],
      "metadata": {
        "colab": {
          "base_uri": "https://localhost:8080/"
        },
        "id": "hRSASaZp8LdN",
        "outputId": "3e362acf-8853-4a24-e74e-0d9d460f059c"
      },
      "execution_count": 17,
      "outputs": [
        {
          "output_type": "stream",
          "name": "stdout",
          "text": [
            "Input:  (4, 10)\n",
            "After dense layer  0\n",
            "(4, 10) \n",
            "\n",
            "After dense layer  1\n",
            "(4, 20) \n",
            "\n",
            "After dense layer  2\n",
            "(4, 30) \n",
            "\n",
            "After dense layer  3\n",
            "(4, 40) \n",
            "\n",
            "After dense layer  4\n",
            "(4, 50) \n",
            "\n",
            "After dense layer  5\n",
            "(4, 60) \n",
            "\n",
            "After dense layer  6\n",
            "(4, 70) \n",
            "\n",
            "After dense layer  7\n",
            "(4, 80) \n",
            "\n",
            "After dense layer  8\n",
            "(4, 90) \n",
            "\n",
            "After dense layer  9\n",
            "(4, 100) \n",
            "\n"
          ]
        }
      ]
    },
    {
      "cell_type": "markdown",
      "source": [
        "##**Code2-2-3: Output Calculations**##"
      ],
      "metadata": {
        "id": "ZBvb3F2Iug8k"
      }
    },
    {
      "cell_type": "code",
      "source": [
        "import tensorflow as tf\n",
        "\n",
        "from tensorflow.math import exp\n",
        "from tensorflow.linalg import matmul\n",
        "from tensorflow.keras.layers import Dense\n",
        "\n",
        "N, n_feature = 4, 10  # N = minibatch size\n",
        "X = tf.random.normal(shape=(N, n_feature))  # 4 by 10 행렬\n",
        "X_cp = tf.identity(X)  # X값 copy -> 아래의 forward propagation(matmul)에서 쓰기위해, X와 서로 다른 위치에 저장해줌\n",
        "\n",
        "n_neurons = [3, 4, 5]\n",
        "\n",
        "# 레이어를 하나씩 적어주지않고 리스트로 만들어 계산\n",
        "dense_layers = list()  \n",
        "\n",
        "for n_neuron in n_neurons :\n",
        "  dense = Dense(units = n_neuron, activation= 'sigmoid')\n",
        "  dense_layers.append(dense)\n",
        "  \n",
        "# forward propagation(Tensroflow)\n",
        "W, B = list(), list()\n",
        "for dense_idx, dense in enumerate(dense_layers):\n",
        "  X = dense(X)\n",
        "  w, b = dense.get_weights()\n",
        "\n",
        "  W.append(w)\n",
        "  B.append(b)\n",
        "print(\"Y(Tensorflow): \",X.numpy())\n",
        "\n",
        "# forward propagation(manual)\n",
        "for layer_idx in range(len(n_neurons)) :\n",
        "  w, b = W[layer_idx], B[layer_idx]\n",
        "\n",
        "  X_cp = matmul(X_cp, w) + b\n",
        "  X_cp = 1 / (1 + exp(-X_cp))\n",
        "print(\"Y(manual): \",X_cp.numpy())\n"
      ],
      "metadata": {
        "colab": {
          "base_uri": "https://localhost:8080/"
        },
        "id": "Fu63FWEnuhL6",
        "outputId": "36de1103-d000-4163-d650-88b7f5224b77"
      },
      "execution_count": 22,
      "outputs": [
        {
          "output_type": "stream",
          "name": "stdout",
          "text": [
            "Y(Tensorflow):  [[0.5447289  0.52328324 0.51502806 0.40427852 0.36841965]\n",
            " [0.5376273  0.512421   0.51000047 0.41789758 0.37940234]\n",
            " [0.54138696 0.5183738  0.51110613 0.40832704 0.37313628]\n",
            " [0.5469292  0.51807094 0.5244932  0.39966416 0.36672288]]\n",
            "Y(manual):  [[0.5447289  0.52328324 0.51502806 0.40427852 0.36841968]\n",
            " [0.5376273  0.512421   0.51000047 0.41789758 0.3794023 ]\n",
            " [0.54138696 0.5183738  0.51110613 0.408327   0.37313628]\n",
            " [0.5469292  0.51807094 0.5244932  0.39966413 0.36672285]]\n"
          ]
        }
      ]
    }
  ]
}