{
  "nbformat": 4,
  "nbformat_minor": 0,
  "metadata": {
    "colab": {
      "name": "CH06_02_Max_and_Average_Pooling_Layers.ipynb",
      "provenance": [],
      "collapsed_sections": [],
      "include_colab_link": true
    },
    "kernelspec": {
      "name": "python3",
      "display_name": "Python 3"
    },
    "language_info": {
      "name": "python"
    }
  },
  "cells": [
    {
      "cell_type": "markdown",
      "metadata": {
        "id": "view-in-github",
        "colab_type": "text"
      },
      "source": [
        "<a href=\"https://colab.research.google.com/github/Hiji1023/dl_network_cla_/blob/main/CH06_02_Max_and_Average_Pooling_Layers.ipynb\" target=\"_parent\"><img src=\"https://colab.research.google.com/assets/colab-badge.svg\" alt=\"Open In Colab\"/></a>"
      ]
    },
    {
      "cell_type": "markdown",
      "source": [
        "#**6-1: Max/Avg Pooling**#"
      ],
      "metadata": {
        "id": "ct37UI9D8zKp"
      }
    },
    {
      "cell_type": "markdown",
      "source": [
        "##**Code6-1-1: Max Pooling**##"
      ],
      "metadata": {
        "id": "2m0nSItQ80ac"
      }
    },
    {
      "cell_type": "code",
      "source": [
        "import numpy as np\n",
        "import tensorflow as tf\n",
        "\n",
        "from tensorflow.keras.layers import MaxPooling1D\n",
        "\n",
        "L, f, s = 10, 2, 1\n",
        "\n",
        "# input , shape= datasample의 갯수, length, channel\n",
        "x = tf.random.normal(shape=(1, L, 1))\n",
        "pool_max = MaxPooling1D(pool_size = f, strides = s)\n",
        "pooled_max = pool_max(x)\n",
        "\n",
        "print(\"x: {}\\n{}\".format(x.shape, x.numpy().flatten()))\n",
        "print(\"pooled_max(Tensorflow): {}\\n{}\".format(pooled_max.shape, pooled_max.numpy().flatten()))\n",
        "\n",
        "x = x.numpy().flatten()\n",
        "pooled_max_man = np.zeros((L -f + 1, ))\n",
        "for i in range(L -f +1):\n",
        "  window = x[i:i+f]\n",
        "  pooled_max_man[i] = np.max(window)\n",
        "\n",
        "print(\"pooled_max(Manual: {}\\n{}\".format(pooled_max_man.shape, pooled_max_man))"
      ],
      "metadata": {
        "colab": {
          "base_uri": "https://localhost:8080/"
        },
        "id": "steOgQ928098",
        "outputId": "8efc7c09-2585-4bf0-8576-19e8769e3864"
      },
      "execution_count": 8,
      "outputs": [
        {
          "output_type": "stream",
          "name": "stdout",
          "text": [
            "x: (1, 10, 1)\n",
            "[ 0.74785167  0.21461636  2.6922438   2.215315    1.1941749  -0.68907845\n",
            " -1.1156827  -0.09096188  0.19192913 -0.75345397]\n",
            "pooled_max(Tensorflow): (1, 9, 1)\n",
            "[ 0.74785167  2.6922438   2.6922438   2.215315    1.1941749  -0.68907845\n",
            " -0.09096188  0.19192913  0.19192913]\n",
            "pooled_max(Manual: (9,)\n",
            "[ 0.74785167  2.69224381  2.69224381  2.2153151   1.19417489 -0.68907845\n",
            " -0.09096188  0.19192913  0.19192913]\n"
          ]
        }
      ]
    },
    {
      "cell_type": "markdown",
      "source": [
        "##**Code6-1-2: Average Pooling**##"
      ],
      "metadata": {
        "id": "P15JNpgw81Li"
      }
    },
    {
      "cell_type": "code",
      "source": [
        "import numpy as np\n",
        "import tensorflow as tf\n",
        "\n",
        "from tensorflow.keras.layers import AveragePooling1D\n",
        "\n",
        "L, f, s = 10, 2, 1\n",
        "\n",
        "# input , shape= datasample의 갯수, length, channel\n",
        "x = tf.random.normal(shape=(1, L, 1))\n",
        "pool_avg = AveragePooling1D(pool_size = f, strides = s)\n",
        "pooled_avg = pool_avg(x)\n",
        "\n",
        "print(\"x: {}\\n{}\".format(x.shape, x.numpy().flatten()))\n",
        "print(\"pooled_avg(Tensorflow): {}\\n{}\".format(pooled_avg.shape, pooled_avg.numpy().flatten()))\n",
        "\n",
        "x = x.numpy().flatten()\n",
        "pooled_avg_man = np.zeros((L -f + 1, ))\n",
        "for i in range(L -f +1):\n",
        "  window = x[i:i+f]\n",
        "  pooled_avg_man [i] = np.mean(window)\n",
        "\n",
        "print(\"pooled_max(Manual: {}\\n{}\".format(pooled_avg_man .shape, pooled_avg_man))"
      ],
      "metadata": {
        "colab": {
          "base_uri": "https://localhost:8080/"
        },
        "id": "CdC6YwVI81YT",
        "outputId": "b509ee4d-244c-4a77-ae10-1fb8d3b8a9e8"
      },
      "execution_count": 10,
      "outputs": [
        {
          "output_type": "stream",
          "name": "stdout",
          "text": [
            "x: (1, 10, 1)\n",
            "[-0.9663772  -1.9476278   0.38253033 -0.9386613  -0.223463    1.7386291\n",
            " -1.3975677  -1.4622998  -0.09377569 -0.6607355 ]\n",
            "pooled_avg(Tensorflow): (1, 9, 1)\n",
            "[-1.4570025  -0.7825487  -0.27806547 -0.58106214  0.757583    0.17053068\n",
            " -1.4299338  -0.7780378  -0.3772556 ]\n",
            "pooled_max(Manual: (9,)\n",
            "[-1.45700252 -0.78254873 -0.27806547 -0.58106214  0.75758302  0.17053068\n",
            " -1.42993379 -0.77803779 -0.37725559]\n"
          ]
        }
      ]
    },
    {
      "cell_type": "markdown",
      "source": [
        "#**6-2: 2D Max/Avg Pooling**#"
      ],
      "metadata": {
        "id": "pVYP7o1c81g-"
      }
    },
    {
      "cell_type": "markdown",
      "source": [
        "##**Code6-2-1: 2D Max Pooling**##"
      ],
      "metadata": {
        "id": "pGkpEW7y81m2"
      }
    },
    {
      "cell_type": "code",
      "source": [
        "import numpy as np\n",
        "import tensorflow as tf\n",
        "\n",
        "from tensorflow.keras.layers import MaxPooling2D\n",
        "\n",
        "N, n_H, n_W, n_C = 1, 5, 5, 1\n",
        "f, s = 2, 1\n",
        "\n",
        "x = tf.random.normal(shape=(N, n_H, n_W, n_C))\n",
        "# pool =  f by f\n",
        "pool_max = MaxPooling2D(pool_size=f, strides = s)\n",
        "pooled_max = pool_max(x)\n",
        "\n",
        "print(\"x: {}\\n{}\".format(x.shape, x.numpy().squeeze()))\n",
        "print(\"pooled_max(Tensorflow): {}\\n{}\".format(pooled_max.shape, pooled_max.numpy().squeeze()))\n",
        "\n",
        "x = x.numpy().squeeze()\n",
        "pooled_max_man = np.zeros(shape=(n_H - f + 1, n_W - f + 1))\n",
        "for i in range(n_H - f + 1):\n",
        "  for j in range(n_W - f + 1):\n",
        "    window = x[i:i+f, j:j+f]\n",
        "    pooled_max_man[i, j] = np.max(window)\n",
        "\n",
        "# output shape = (n_H-f+1, n_W-f+1)\n",
        "\n",
        "print(\"pooled_max(Manual): {}\\n{}\".format(pooled_max_man.shape, pooled_max_man))\n"
      ],
      "metadata": {
        "colab": {
          "base_uri": "https://localhost:8080/"
        },
        "id": "zirLPQu_818R",
        "outputId": "552c4c51-3eb4-4f77-b50a-9a45c55e5546"
      },
      "execution_count": 22,
      "outputs": [
        {
          "output_type": "stream",
          "name": "stdout",
          "text": [
            "x: (1, 5, 5, 1)\n",
            "[[ 0.7827516  -0.30897748 -2.018037    1.1552018   0.7307982 ]\n",
            " [ 0.05400821  0.6710787   1.1512607   1.0191326   1.141896  ]\n",
            " [-0.56917226 -0.974233   -0.17592804  0.5750942   0.8271091 ]\n",
            " [ 0.32191488  0.00621981 -1.4048536   0.05103262 -0.10535239]\n",
            " [ 0.95224744 -0.37198898 -0.7996818   1.1455618  -1.4212846 ]]\n",
            "pooled_max(Tensorflow): (1, 4, 4, 1)\n",
            "[[0.7827516  1.1512607  1.1552018  1.1552018 ]\n",
            " [0.6710787  1.1512607  1.1512607  1.141896  ]\n",
            " [0.32191488 0.00621981 0.5750942  0.8271091 ]\n",
            " [0.95224744 0.00621981 1.1455618  1.1455618 ]]\n",
            "pooled_max(Manual): (4, 4)\n",
            "[[0.78275162 1.15126073 1.15520179 1.15520179]\n",
            " [0.67107868 1.15126073 1.15126073 1.14189601]\n",
            " [0.32191488 0.00621981 0.57509422 0.8271091 ]\n",
            " [0.95224744 0.00621981 1.14556181 1.14556181]]\n"
          ]
        }
      ]
    },
    {
      "cell_type": "markdown",
      "source": [
        "##**Code6-2-2: 2D Average Pooling**##"
      ],
      "metadata": {
        "id": "HApEhBab82L3"
      }
    },
    {
      "cell_type": "code",
      "source": [
        "import numpy as np\n",
        "import tensorflow as tf\n",
        "\n",
        "from tensorflow.keras.layers import AveragePooling2D\n",
        "\n",
        "N, n_H, n_W, n_C = 1, 5, 5, 1\n",
        "f, s = 2, 1\n",
        "\n",
        "x = tf.random.normal(shape=(N, n_H, n_W, n_C))\n",
        "# pool =  2 by 2\n",
        "pool_avg = AveragePooling2D(pool_size=f, strides = s)\n",
        "pooled_avg = pool_avg(x)\n",
        "\n",
        "print(\"x: {}\\n{}\".format(x.shape, x.numpy().squeeze()))\n",
        "print(\"pooled_avg(Tensorflow): {}\\n{}\".format(pooled_avg.shape, pooled_avg.numpy().squeeze()))\n",
        "\n",
        "x = x.numpy().squeeze()\n",
        "pooled_avg_man = np.zeros(shape=(n_H - f + 1, n_W - f + 1))\n",
        "for i in range(n_H - f + 1):\n",
        "  for j in range(n_W - f + 1):\n",
        "    window = x[i:i+f, j:j+f]\n",
        "    pooled_avg_man[i, j] = np.mean(window)\n",
        "\n",
        "# output shape = (n_H-f+1, n_W-f+1)\n",
        "\n",
        "print(\"pooled_max(Manual): {}\\n{}\".format(pooled_avg_man.shape, pooled_avg_man))"
      ],
      "metadata": {
        "colab": {
          "base_uri": "https://localhost:8080/"
        },
        "id": "XQbXQf4k82TZ",
        "outputId": "054e628d-cbc5-42d8-a6f7-02e2ad52abff"
      },
      "execution_count": 23,
      "outputs": [
        {
          "output_type": "stream",
          "name": "stdout",
          "text": [
            "x: (1, 5, 5, 1)\n",
            "[[ 0.26113737 -0.56307817  0.21443902 -0.19741607  0.9482374 ]\n",
            " [ 0.03316693 -0.3110888   0.19893058  0.98124266 -1.5929346 ]\n",
            " [-1.0411483   0.127162   -1.1271299   1.1738646   0.6369786 ]\n",
            " [-2.1159682  -0.7146053   0.11509072 -1.377871    0.7687496 ]\n",
            " [-0.2223623   1.1632506  -1.2287353  -1.425734   -0.01867203]]\n",
            "pooled_avg(Tensorflow): (1, 4, 4, 1)\n",
            "[[-0.14496566 -0.11519934  0.29929906  0.03478235]\n",
            " [-0.29797703 -0.27803153  0.306727    0.29978782]\n",
            " [-0.93613994 -0.3998706  -0.3040114   0.30043045]\n",
            " [-0.47242132 -0.16624983 -0.9793124  -0.51338184]]\n",
            "pooled_max(Manual): (4, 4)\n",
            "[[-0.14496566 -0.11519934  0.29929906  0.03478235]\n",
            " [-0.29797703 -0.27803153  0.30672699  0.29978782]\n",
            " [-0.93613994 -0.3998706  -0.3040114   0.30043045]\n",
            " [-0.47242132 -0.16624983 -0.97931242 -0.51338184]]\n"
          ]
        }
      ]
    }
  ]
}