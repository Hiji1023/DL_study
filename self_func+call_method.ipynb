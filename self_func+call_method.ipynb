{
  "nbformat": 4,
  "nbformat_minor": 0,
  "metadata": {
    "colab": {
      "name": "Untitled4.ipynb",
      "provenance": [],
      "collapsed_sections": [],
      "authorship_tag": "ABX9TyOEqeMPgAZHDW0Rkf2jg6Aj",
      "include_colab_link": true
    },
    "kernelspec": {
      "name": "python3",
      "display_name": "Python 3"
    },
    "language_info": {
      "name": "python"
    }
  },
  "cells": [
    {
      "cell_type": "markdown",
      "metadata": {
        "id": "view-in-github",
        "colab_type": "text"
      },
      "source": [
        "<a href=\"https://colab.research.google.com/github/Hiji1023/dl_network_cla_/blob/main/self_func%2Bcall_method.ipynb\" target=\"_parent\"><img src=\"https://colab.research.google.com/assets/colab-badge.svg\" alt=\"Open In Colab\"/></a>"
      ]
    },
    {
      "cell_type": "markdown",
      "source": [
        "#**self 이해하기**#"
      ],
      "metadata": {
        "id": "JK5j0oUAqYX2"
      }
    },
    {
      "cell_type": "code",
      "source": [
        "class Person:\n",
        "    def sayHello():\n",
        "      print('Hi')\n",
        "\n",
        "man = Person()\n",
        "man.sayHello()\n",
        "\n",
        "#TypeError: sayHello() takes 0 positional arguments but 1 was given"
      ],
      "metadata": {
        "colab": {
          "base_uri": "https://localhost:8080/",
          "height": 213
        },
        "id": "UYrOs7ECqhMN",
        "outputId": "39d4e667-520b-4659-9a57-cc0fef0d802a"
      },
      "execution_count": 2,
      "outputs": [
        {
          "output_type": "error",
          "ename": "TypeError",
          "evalue": "ignored",
          "traceback": [
            "\u001b[0;31m---------------------------------------------------------------------------\u001b[0m",
            "\u001b[0;31mTypeError\u001b[0m                                 Traceback (most recent call last)",
            "\u001b[0;32m<ipython-input-2-c0e93d5b16b4>\u001b[0m in \u001b[0;36m<module>\u001b[0;34m\u001b[0m\n\u001b[1;32m      4\u001b[0m \u001b[0;34m\u001b[0m\u001b[0m\n\u001b[1;32m      5\u001b[0m \u001b[0mman\u001b[0m \u001b[0;34m=\u001b[0m \u001b[0mPerson\u001b[0m\u001b[0;34m(\u001b[0m\u001b[0;34m)\u001b[0m\u001b[0;34m\u001b[0m\u001b[0;34m\u001b[0m\u001b[0m\n\u001b[0;32m----> 6\u001b[0;31m \u001b[0mman\u001b[0m\u001b[0;34m.\u001b[0m\u001b[0msayHello\u001b[0m\u001b[0;34m(\u001b[0m\u001b[0;34m)\u001b[0m\u001b[0;34m\u001b[0m\u001b[0;34m\u001b[0m\u001b[0m\n\u001b[0m",
            "\u001b[0;31mTypeError\u001b[0m: sayHello() takes 0 positional arguments but 1 was given"
          ]
        }
      ]
    },
    {
      "cell_type": "code",
      "source": [
        "class Person:\n",
        "    def sayHello(self):\n",
        "      print('Hi')\n",
        "\n",
        "man = Person()\n",
        "man.sayHello()"
      ],
      "metadata": {
        "colab": {
          "base_uri": "https://localhost:8080/"
        },
        "id": "U_9FcjbXq78_",
        "outputId": "f3584caa-2df7-499b-8ff6-2a22109cde52"
      },
      "execution_count": 3,
      "outputs": [
        {
          "output_type": "stream",
          "name": "stdout",
          "text": [
            "Hi\n"
          ]
        }
      ]
    },
    {
      "cell_type": "markdown",
      "source": [
        "##**self의 위치**##"
      ],
      "metadata": {
        "id": "BUVarxEMrIl1"
      }
    },
    {
      "cell_type": "code",
      "source": [
        "class Person:\n",
        "    def sayHello(self):\n",
        "      # id() = 객체의 메모리주소를 알아내는 함수\n",
        "      print(id(self))\n",
        "      print('Hi')\n",
        "\n",
        "man = Person()\n",
        "man.sayHello()\n",
        "print(id(man))"
      ],
      "metadata": {
        "colab": {
          "base_uri": "https://localhost:8080/"
        },
        "id": "tKUdJRstrNAv",
        "outputId": "067ea558-78ed-4cf4-e63d-3c914596652d"
      },
      "execution_count": 5,
      "outputs": [
        {
          "output_type": "stream",
          "name": "stdout",
          "text": [
            "140045137514192\n",
            "Hi\n",
            "140045137514192\n"
          ]
        }
      ]
    },
    {
      "cell_type": "code",
      "source": [
        "# man 인스턴스없이 호출\n",
        "class Person:\n",
        "    def sayHello(self):\n",
        "      print(id(self))\n",
        "      print('Hi')\n",
        "\n",
        "Person.sayHello()\n",
        "\n",
        "#TypeError: sayHello() missing 1 required positional argument: 'self'\n",
        "# self를 전달하지 않아 에러 -> self가 인스턴스이므로 인스턴스 전달하면 해결"
      ],
      "metadata": {
        "colab": {
          "base_uri": "https://localhost:8080/",
          "height": 213
        },
        "id": "J_S0vd2JsA7M",
        "outputId": "3d4ee5a6-cf48-4b8c-f78b-44266a9de4d9"
      },
      "execution_count": 6,
      "outputs": [
        {
          "output_type": "error",
          "ename": "TypeError",
          "evalue": "ignored",
          "traceback": [
            "\u001b[0;31m---------------------------------------------------------------------------\u001b[0m",
            "\u001b[0;31mTypeError\u001b[0m                                 Traceback (most recent call last)",
            "\u001b[0;32m<ipython-input-6-8e9de30d3486>\u001b[0m in \u001b[0;36m<module>\u001b[0;34m\u001b[0m\n\u001b[1;32m      5\u001b[0m       \u001b[0mprint\u001b[0m\u001b[0;34m(\u001b[0m\u001b[0;34m'Hi'\u001b[0m\u001b[0;34m)\u001b[0m\u001b[0;34m\u001b[0m\u001b[0;34m\u001b[0m\u001b[0m\n\u001b[1;32m      6\u001b[0m \u001b[0;34m\u001b[0m\u001b[0m\n\u001b[0;32m----> 7\u001b[0;31m \u001b[0mPerson\u001b[0m\u001b[0;34m.\u001b[0m\u001b[0msayHello\u001b[0m\u001b[0;34m(\u001b[0m\u001b[0;34m)\u001b[0m\u001b[0;34m\u001b[0m\u001b[0;34m\u001b[0m\u001b[0m\n\u001b[0m",
            "\u001b[0;31mTypeError\u001b[0m: sayHello() missing 1 required positional argument: 'self'"
          ]
        }
      ]
    },
    {
      "cell_type": "code",
      "source": [
        "class Person:\n",
        "    def sayHello(self):\n",
        "      print(id(self))\n",
        "      print('Hi')\n",
        "\n",
        "# 인스턴스 만듬\n",
        "man = Person()  \n",
        "Person.sayHello(man)\n",
        "print(id(man))\n",
        "\n",
        "# Person.sayHello(man)통해 메소드 호출되기는 하지만\n",
        "# 인스턴스를 통한 호출과 좀 다르다"
      ],
      "metadata": {
        "colab": {
          "base_uri": "https://localhost:8080/"
        },
        "id": "HWTSgX5LsToK",
        "outputId": "4f527df7-000a-4895-de53-5f7307c75d26"
      },
      "execution_count": 7,
      "outputs": [
        {
          "output_type": "stream",
          "name": "stdout",
          "text": [
            "140045136721936\n",
            "Hi\n",
            "140045136721936\n"
          ]
        }
      ]
    },
    {
      "cell_type": "markdown",
      "source": [
        "#**call함수 구현**#"
      ],
      "metadata": {
        "id": "IWtK_J8b2pNw"
      }
    },
    {
      "cell_type": "code",
      "source": [
        "class Calc: \n",
        "  def __init__(self,n1,n2):\n",
        "    self.n1=n1\n",
        "    self.n2=n2\n",
        "    return print(self.n1,self.n2)\n",
        "\n",
        "  def __call__(self,n1,n2):\n",
        "    self.n1=n1\n",
        "    self.n2=n2\n",
        "    return print(self.n1+self.n2)\n",
        "\n",
        "s = Calc(1,2)\n",
        "\n",
        "s(7,8)"
      ],
      "metadata": {
        "colab": {
          "base_uri": "https://localhost:8080/"
        },
        "id": "BwnKTDGQ2xdM",
        "outputId": "19fba522-904c-401a-a1dd-1565f3d2567b"
      },
      "execution_count": 10,
      "outputs": [
        {
          "output_type": "stream",
          "name": "stdout",
          "text": [
            "1 2\n",
            "15\n"
          ]
        }
      ]
    }
  ]
}