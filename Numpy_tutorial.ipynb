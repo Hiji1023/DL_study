{
  "nbformat": 4,
  "nbformat_minor": 0,
  "metadata": {
    "colab": {
      "provenance": [],
      "authorship_tag": "ABX9TyP5mc5kL2JZjCI/G6pbnfsT",
      "include_colab_link": true
    },
    "kernelspec": {
      "name": "python3",
      "display_name": "Python 3"
    },
    "language_info": {
      "name": "python"
    }
  },
  "cells": [
    {
      "cell_type": "markdown",
      "metadata": {
        "id": "view-in-github",
        "colab_type": "text"
      },
      "source": [
        "<a href=\"https://colab.research.google.com/github/Hiji1023/dl_basic/blob/main/Numpy_tutorial.ipynb\" target=\"_parent\"><img src=\"https://colab.research.google.com/assets/colab-badge.svg\" alt=\"Open In Colab\"/></a>"
      ]
    },
    {
      "cell_type": "markdown",
      "source": [
        "# Numpy\n",
        "\n",
        "Numpy는 Numerical Python의 줄임말로, \n",
        "파이썬에서 산술 계산을 위한 가장 중요한 패키지 중 하나, 과학 계산을 위한 대부분의 패키지는 Numpy의 배열 객체를 데이터 교환을 위한 공통 언어처럼 사용합니다"
      ],
      "metadata": {
        "id": "t9geLm8qmw7B"
      }
    },
    {
      "cell_type": "markdown",
      "source": [
        "### Numpy 라이브러리 import"
      ],
      "metadata": {
        "id": "a7FmniLWjlon"
      }
    },
    {
      "cell_type": "code",
      "source": [
        "import numpy as np"
      ],
      "metadata": {
        "id": "FlpL3xlYmTd3"
      },
      "execution_count": 1,
      "outputs": []
    },
    {
      "cell_type": "markdown",
      "source": [
        "### Numpy ndarray\n",
        "Numpy의 핵심 기능 중 하나는 ndarray라고 하는 N차원의 배열 객체인데 파이썬에서 할 수 있는 대규모 데이터 집합을 담을 수 있는 빠르고 유연한 자료구조입니다."
      ],
      "metadata": {
        "id": "7PAR_ZeamlDx"
      }
    },
    {
      "cell_type": "code",
      "source": [
        " a = np.array([1, 2, 3])\n",
        " print(a, type(a))"
      ],
      "metadata": {
        "colab": {
          "base_uri": "https://localhost:8080/"
        },
        "id": "fm8hRvV6ng7U",
        "outputId": "a8cc5fee-1a4a-4726-fc01-2aa82f6dd186"
      },
      "execution_count": 4,
      "outputs": [
        {
          "output_type": "stream",
          "name": "stdout",
          "text": [
            "[1 2 3] <class 'numpy.ndarray'>\n"
          ]
        }
      ]
    },
    {
      "cell_type": "markdown",
      "source": [
        "### List와 비교\n",
        "메모리 공간 차지하는 게 다름\n",
        "리스트의 경우 하나의 리스트 안에 숫자, 문자 다 들어갈 수 있다.\n",
        "넘파이의 경우 하나의 넘파이에 항상 같은 타입의 데이터만 들어갈 수 있다."
      ],
      "metadata": {
        "id": "5ynfvKPxmqXd"
      }
    },
    {
      "cell_type": "code",
      "source": [
        "L = [1, 2, 3]\n",
        "A = np.array([1,2,3])\n",
        "print(L)\n",
        "print(A)\n",
        "A"
      ],
      "metadata": {
        "id": "xgMwwnAGmqkE",
        "colab": {
          "base_uri": "https://localhost:8080/"
        },
        "outputId": "fd9c50dd-e012-415d-81bf-12d526ad7993"
      },
      "execution_count": 20,
      "outputs": [
        {
          "output_type": "stream",
          "name": "stdout",
          "text": [
            "[1, 2, 3]\n",
            "[1 2 3]\n"
          ]
        },
        {
          "output_type": "execute_result",
          "data": {
            "text/plain": [
              "array([1, 2, 3])"
            ]
          },
          "metadata": {},
          "execution_count": 20
        }
      ]
    },
    {
      "cell_type": "code",
      "source": [
        "for item in L:\n",
        "  print(item)"
      ],
      "metadata": {
        "colab": {
          "base_uri": "https://localhost:8080/"
        },
        "id": "Htb8XeEjoUlL",
        "outputId": "668d6cad-a207-4bd2-c4b8-08e6714115dc"
      },
      "execution_count": 21,
      "outputs": [
        {
          "output_type": "stream",
          "name": "stdout",
          "text": [
            "1\n",
            "2\n",
            "3\n"
          ]
        }
      ]
    },
    {
      "cell_type": "code",
      "source": [
        "for item in A:\n",
        "  print(item)"
      ],
      "metadata": {
        "colab": {
          "base_uri": "https://localhost:8080/"
        },
        "id": "nk1naUvIoUxu",
        "outputId": "f87d4507-1e2c-4b37-a173-7999b4f7d141"
      },
      "execution_count": 22,
      "outputs": [
        {
          "output_type": "stream",
          "name": "stdout",
          "text": [
            "1\n",
            "2\n",
            "3\n"
          ]
        }
      ]
    },
    {
      "cell_type": "code",
      "source": [
        "#추가\n",
        "L.append(4)\n",
        "print(L)"
      ],
      "metadata": {
        "colab": {
          "base_uri": "https://localhost:8080/"
        },
        "id": "NVFDesoAoVJa",
        "outputId": "5ea89ade-5a07-4766-feeb-15c18f077c24"
      },
      "execution_count": 23,
      "outputs": [
        {
          "output_type": "stream",
          "name": "stdout",
          "text": [
            "[1, 2, 3, 4]\n"
          ]
        }
      ]
    },
    {
      "cell_type": "code",
      "source": [
        "A = A.append(4)\n",
        "print(A)\n",
        "\n",
        "#'numpy.ndarray' object has no attribute 'append' = 지원하지 않음"
      ],
      "metadata": {
        "colab": {
          "base_uri": "https://localhost:8080/",
          "height": 232
        },
        "id": "LDM4DhGxoVoM",
        "outputId": "7c494969-c11c-4812-bac1-84a1c435e222"
      },
      "execution_count": 24,
      "outputs": [
        {
          "output_type": "error",
          "ename": "AttributeError",
          "evalue": "ignored",
          "traceback": [
            "\u001b[0;31m---------------------------------------------------------------------------\u001b[0m",
            "\u001b[0;31mAttributeError\u001b[0m                            Traceback (most recent call last)",
            "\u001b[0;32m<ipython-input-24-c0acf2f0b116>\u001b[0m in \u001b[0;36m<cell line: 1>\u001b[0;34m()\u001b[0m\n\u001b[0;32m----> 1\u001b[0;31m \u001b[0mA\u001b[0m \u001b[0;34m=\u001b[0m \u001b[0mA\u001b[0m\u001b[0;34m.\u001b[0m\u001b[0mappend\u001b[0m\u001b[0;34m(\u001b[0m\u001b[0;36m4\u001b[0m\u001b[0;34m)\u001b[0m\u001b[0;34m\u001b[0m\u001b[0;34m\u001b[0m\u001b[0m\n\u001b[0m\u001b[1;32m      2\u001b[0m \u001b[0mprint\u001b[0m\u001b[0;34m(\u001b[0m\u001b[0mA\u001b[0m\u001b[0;34m)\u001b[0m\u001b[0;34m\u001b[0m\u001b[0;34m\u001b[0m\u001b[0m\n\u001b[1;32m      3\u001b[0m \u001b[0;34m\u001b[0m\u001b[0m\n\u001b[1;32m      4\u001b[0m \u001b[0;31m#'numpy.ndarray' object has no attribute 'append' = 지원하지 않음\u001b[0m\u001b[0;34m\u001b[0m\u001b[0;34m\u001b[0m\u001b[0m\n",
            "\u001b[0;31mAttributeError\u001b[0m: 'numpy.ndarray' object has no attribute 'append'"
          ]
        }
      ]
    },
    {
      "cell_type": "code",
      "source": [
        "#함수 사용\n",
        "A = np.append(A,4)\n",
        "print(A)"
      ],
      "metadata": {
        "colab": {
          "base_uri": "https://localhost:8080/"
        },
        "id": "yCcmUkdpo09x",
        "outputId": "3054ca03-df0c-4e4c-fed3-8c8bb35b08c1"
      },
      "execution_count": 25,
      "outputs": [
        {
          "output_type": "stream",
          "name": "stdout",
          "text": [
            "[1 2 3 4]\n"
          ]
        }
      ]
    },
    {
      "cell_type": "code",
      "source": [
        "L = L + [5]\n",
        "print(L)"
      ],
      "metadata": {
        "colab": {
          "base_uri": "https://localhost:8080/"
        },
        "id": "tZQQBYMYo1HH",
        "outputId": "12452699-943b-46e3-bd51-00f1971b296c"
      },
      "execution_count": 26,
      "outputs": [
        {
          "output_type": "stream",
          "name": "stdout",
          "text": [
            "[1, 2, 3, 4, 5]\n"
          ]
        }
      ]
    },
    {
      "cell_type": "code",
      "source": [
        "#각 항에 더해짐 = 브로드캐스팅 현상\n",
        "A = A + np.array([5])\n",
        "print(A)"
      ],
      "metadata": {
        "colab": {
          "base_uri": "https://localhost:8080/"
        },
        "id": "W0rLmdLxphpi",
        "outputId": "9f44bcd3-ab38-4042-985d-bb6e9852817b"
      },
      "execution_count": 27,
      "outputs": [
        {
          "output_type": "stream",
          "name": "stdout",
          "text": [
            "[6 7 8 9]\n"
          ]
        }
      ]
    },
    {
      "cell_type": "code",
      "source": [
        "# list의 모든 원소를 2배로 만들기\n",
        "L = [1, 2, 3]\n",
        "L2 = []\n",
        "for item in L:\n",
        "  L2.append(item*2)\n",
        "\n",
        "print(L2)"
      ],
      "metadata": {
        "colab": {
          "base_uri": "https://localhost:8080/"
        },
        "id": "tOgeaIiZphyY",
        "outputId": "15ef834d-d049-469d-ace8-1f9488c64606"
      },
      "execution_count": 28,
      "outputs": [
        {
          "output_type": "stream",
          "name": "stdout",
          "text": [
            "[2, 4, 6]\n"
          ]
        }
      ]
    },
    {
      "cell_type": "code",
      "source": [
        "#ndarray의 모든 원소 2배로 만들기\n",
        "A = np.array(L)\n",
        "A2 = A*2\n",
        "print(A2)"
      ],
      "metadata": {
        "colab": {
          "base_uri": "https://localhost:8080/"
        },
        "id": "eTFfr6Geph6v",
        "outputId": "3bb2ccff-92c3-47ac-c054-743a6f20c114"
      },
      "execution_count": 29,
      "outputs": [
        {
          "output_type": "stream",
          "name": "stdout",
          "text": [
            "[2 4 6]\n"
          ]
        }
      ]
    },
    {
      "cell_type": "code",
      "source": [
        "# 똑같은 걸 더한다다\n",
        "L*2"
      ],
      "metadata": {
        "colab": {
          "base_uri": "https://localhost:8080/"
        },
        "id": "su5D_8miqivs",
        "outputId": "28cebaea-619d-43be-9dda-f5bdb9cca9dc"
      },
      "execution_count": 30,
      "outputs": [
        {
          "output_type": "execute_result",
          "data": {
            "text/plain": [
              "[1, 2, 3, 1, 2, 3]"
            ]
          },
          "metadata": {},
          "execution_count": 30
        }
      ]
    },
    {
      "cell_type": "markdown",
      "source": [
        "### 배열\n",
        "numpy 배열은 모두 같은 유형의 값이며 음수가 아닌 정수의 튜플로 인덱싱됩니다. 차원의 수는 배열의 랭크입니다. 배열의 shape은 각 차원별 배열 크기의 튜플입니다.\n",
        "중첩 된 파이썬 리스트로부터 numpy 배열을 초기화 할 수 있고 대괄호를 사용하여 요소에 접근 할 수 있습니다. "
      ],
      "metadata": {
        "id": "DQL5Yc73mquS"
      }
    },
    {
      "cell_type": "markdown",
      "source": [
        "#### 배열 생성하기"
      ],
      "metadata": {
        "id": "yP_B-AD-nNOw"
      }
    },
    {
      "cell_type": "code",
      "source": [
        "a = np.array([1, 2, 3])\n",
        "print(a)\n",
        "print(type(a), a.ndim, a.shape, a.dtype)"
      ],
      "metadata": {
        "id": "K6VWUMwGmsfF",
        "colab": {
          "base_uri": "https://localhost:8080/"
        },
        "outputId": "bb88c838-5d1b-431f-e269-2b18e9a2fd9f"
      },
      "execution_count": 32,
      "outputs": [
        {
          "output_type": "stream",
          "name": "stdout",
          "text": [
            "[1 2 3]\n",
            "<class 'numpy.ndarray'> 1 (3,) int64\n"
          ]
        }
      ]
    },
    {
      "cell_type": "code",
      "source": [
        "# np.array는 새로운 카피본을 만듬, np.asarray는 뷰로 같은 걸 바라봄봄\n",
        "b = np.asarray(a)\n",
        "print(b)"
      ],
      "metadata": {
        "colab": {
          "base_uri": "https://localhost:8080/"
        },
        "id": "ZonREKixq30I",
        "outputId": "9d889ec3-203a-4c0b-f232-b19345e43880"
      },
      "execution_count": 33,
      "outputs": [
        {
          "output_type": "stream",
          "name": "stdout",
          "text": [
            "[1 2 3]\n"
          ]
        }
      ]
    },
    {
      "cell_type": "code",
      "source": [
        "b[0] = 9\n",
        "print(a)\n",
        "print(b)"
      ],
      "metadata": {
        "colab": {
          "base_uri": "https://localhost:8080/"
        },
        "id": "9mEdqaRKq36-",
        "outputId": "6287ed91-388d-4ad1-d18b-f5171f8c7ccd"
      },
      "execution_count": 34,
      "outputs": [
        {
          "output_type": "stream",
          "name": "stdout",
          "text": [
            "[9 2 3]\n",
            "[9 2 3]\n"
          ]
        }
      ]
    },
    {
      "cell_type": "code",
      "source": [
        "c = np.array(a)\n",
        "print(c)"
      ],
      "metadata": {
        "colab": {
          "base_uri": "https://localhost:8080/"
        },
        "id": "W5pU-fS_q4DA",
        "outputId": "f5d593dd-833b-4dac-c6ff-501e729c9adb"
      },
      "execution_count": 35,
      "outputs": [
        {
          "output_type": "stream",
          "name": "stdout",
          "text": [
            "[9 2 3]\n"
          ]
        }
      ]
    },
    {
      "cell_type": "code",
      "source": [
        "c[0] = 1\n",
        "print(a)\n",
        "print(b)\n",
        "print(c)"
      ],
      "metadata": {
        "colab": {
          "base_uri": "https://localhost:8080/"
        },
        "id": "WfAdxaF4q4KM",
        "outputId": "39168503-e69c-412a-8a6b-e684435271c6"
      },
      "execution_count": 36,
      "outputs": [
        {
          "output_type": "stream",
          "name": "stdout",
          "text": [
            "[9 2 3]\n",
            "[9 2 3]\n",
            "[1 2 3]\n"
          ]
        }
      ]
    },
    {
      "cell_type": "code",
      "source": [
        "a = np.zeros((3,4))\n",
        "print(a)"
      ],
      "metadata": {
        "colab": {
          "base_uri": "https://localhost:8080/"
        },
        "id": "5NbrISxbq4RV",
        "outputId": "5f1d2f6c-f2c9-4c87-eca2-9a5ee4d1aeb0"
      },
      "execution_count": 37,
      "outputs": [
        {
          "output_type": "stream",
          "name": "stdout",
          "text": [
            "[[0. 0. 0. 0.]\n",
            " [0. 0. 0. 0.]\n",
            " [0. 0. 0. 0.]]\n"
          ]
        }
      ]
    },
    {
      "cell_type": "code",
      "source": [
        "b = np.ones((5,2))\n",
        "print(b)"
      ],
      "metadata": {
        "colab": {
          "base_uri": "https://localhost:8080/"
        },
        "id": "KLIsZjT8sdm9",
        "outputId": "42a06227-30d7-4ff7-ea42-cbd15895a915"
      },
      "execution_count": 39,
      "outputs": [
        {
          "output_type": "stream",
          "name": "stdout",
          "text": [
            "[[1. 1.]\n",
            " [1. 1.]\n",
            " [1. 1.]\n",
            " [1. 1.]\n",
            " [1. 1.]]\n"
          ]
        }
      ]
    },
    {
      "cell_type": "code",
      "source": [
        "c = np.full((2,3), 4)\n",
        "print(c)"
      ],
      "metadata": {
        "colab": {
          "base_uri": "https://localhost:8080/"
        },
        "id": "s8cJAs_osdwx",
        "outputId": "2c5f7d67-4294-41b7-d850-35d2382df8ff"
      },
      "execution_count": 40,
      "outputs": [
        {
          "output_type": "stream",
          "name": "stdout",
          "text": [
            "[[4 4 4]\n",
            " [4 4 4]]\n"
          ]
        }
      ]
    },
    {
      "cell_type": "code",
      "source": [
        "#공간 확보보\n",
        "d = np.empty((3,3))\n",
        "print(d)"
      ],
      "metadata": {
        "colab": {
          "base_uri": "https://localhost:8080/"
        },
        "id": "UXGDJkqLsodw",
        "outputId": "91afb941-21d6-4624-d772-cec13b1a8f65"
      },
      "execution_count": 41,
      "outputs": [
        {
          "output_type": "stream",
          "name": "stdout",
          "text": [
            "[[2.66414821e-316 0.00000000e+000 6.90182842e-310]\n",
            " [6.90182842e-310 6.90182842e-310 6.90182842e-310]\n",
            " [6.90182842e-310 6.90182842e-310 1.18575755e-321]]\n"
          ]
        }
      ]
    },
    {
      "cell_type": "code",
      "source": [
        "# like가 붙으면 형태만 가져옴옴\n",
        "e = np.zeros_like(a)\n",
        "f = np.ones_like(a)\n",
        "g = np.full_like(a,2)\n",
        "h = np.empty_like(a)\n",
        "print(e)\n",
        "print(f)\n",
        "print(g)\n",
        "print(h)"
      ],
      "metadata": {
        "colab": {
          "base_uri": "https://localhost:8080/"
        },
        "id": "htuqcXiksokk",
        "outputId": "a033ff6d-bdcf-468e-fa2f-49e750476714"
      },
      "execution_count": 42,
      "outputs": [
        {
          "output_type": "stream",
          "name": "stdout",
          "text": [
            "[[0. 0. 0. 0.]\n",
            " [0. 0. 0. 0.]\n",
            " [0. 0. 0. 0.]]\n",
            "[[1. 1. 1. 1.]\n",
            " [1. 1. 1. 1.]\n",
            " [1. 1. 1. 1.]]\n",
            "[[2. 2. 2. 2.]\n",
            " [2. 2. 2. 2.]\n",
            " [2. 2. 2. 2.]]\n",
            "[[2.61575665e-316 0.00000000e+000 0.00000000e+000 0.00000000e+000]\n",
            " [0.00000000e+000 0.00000000e+000 0.00000000e+000 0.00000000e+000]\n",
            " [0.00000000e+000 0.00000000e+000 0.00000000e+000 0.00000000e+000]]\n"
          ]
        }
      ]
    },
    {
      "cell_type": "code",
      "source": [
        "# 3 by 3인 항등행렬\n",
        "i = np.eye(3)\n",
        "j = np.identity(3)\n",
        "print(i)\n",
        "print(j)"
      ],
      "metadata": {
        "colab": {
          "base_uri": "https://localhost:8080/"
        },
        "id": "h6RnmuIkq4aF",
        "outputId": "6b46fbcb-bdc9-4242-d8c4-0d4fe9b50ee2"
      },
      "execution_count": 43,
      "outputs": [
        {
          "output_type": "stream",
          "name": "stdout",
          "text": [
            "[[1. 0. 0.]\n",
            " [0. 1. 0.]\n",
            " [0. 0. 1.]]\n",
            "[[1. 0. 0.]\n",
            " [0. 1. 0.]\n",
            " [0. 0. 1.]]\n"
          ]
        }
      ]
    },
    {
      "cell_type": "code",
      "source": [
        "# arange(start, stop, step)\n",
        "k = np.arange(10)\n",
        "print(k)"
      ],
      "metadata": {
        "colab": {
          "base_uri": "https://localhost:8080/"
        },
        "id": "VGL2mZi3tpb_",
        "outputId": "fa4bbeca-d302-476f-f8a1-fa4af901399c"
      },
      "execution_count": 55,
      "outputs": [
        {
          "output_type": "stream",
          "name": "stdout",
          "text": [
            "[0 1 2 3 4 5 6 7 8 9]\n"
          ]
        }
      ]
    },
    {
      "cell_type": "code",
      "source": [
        "#uniform distribution = 0~1의 균일분포(0~1 사이의 랜덤한 실수)에서 랜덤하게 뽑음\n",
        "l = np.random.rand(2,2)\n",
        "print(l)"
      ],
      "metadata": {
        "colab": {
          "base_uri": "https://localhost:8080/"
        },
        "id": "-mxqU18bty0R",
        "outputId": "1ec3ae6a-5db9-4b0e-daf6-f05485fa3282"
      },
      "execution_count": 60,
      "outputs": [
        {
          "output_type": "stream",
          "name": "stdout",
          "text": [
            "[[0.69348717 0.16877281]\n",
            " [0.49208853 0.79586161]]\n"
          ]
        }
      ]
    },
    {
      "cell_type": "code",
      "source": [
        "#normal distribution = 표준정규분포(평균 0 표준편차 1)에서 랜덤하게 뽑음음\n",
        "m = np.random.randn(2,2)\n",
        "print(m)"
      ],
      "metadata": {
        "colab": {
          "base_uri": "https://localhost:8080/"
        },
        "id": "47pjBq0jtpoe",
        "outputId": "5558cff9-f67b-4f96-fd74-f2381f40bae2"
      },
      "execution_count": 61,
      "outputs": [
        {
          "output_type": "stream",
          "name": "stdout",
          "text": [
            "[[-1.16366354 -0.57781486]\n",
            " [-1.30661473 -0.32463011]]\n"
          ]
        }
      ]
    },
    {
      "cell_type": "markdown",
      "source": [
        "#### 배열의 dtype"
      ],
      "metadata": {
        "id": "a7lcJcW7msrP"
      }
    },
    {
      "cell_type": "code",
      "source": [
        "a = np.array([1, 2, 3])\n",
        "b = np.array([1, 2, 3], dtype=np.float64)\n",
        "c = np.array([1, 2, 3], dtype=np.int32)\n",
        "\n",
        "print(a.dtype, b.dtype, c.dtype)"
      ],
      "metadata": {
        "id": "eB7iiC31ms5F",
        "colab": {
          "base_uri": "https://localhost:8080/"
        },
        "outputId": "b1dc2965-2bc4-4a1f-c9ee-99c10127a3bb"
      },
      "execution_count": 62,
      "outputs": [
        {
          "output_type": "stream",
          "name": "stdout",
          "text": [
            "int64 float64 int32\n"
          ]
        }
      ]
    },
    {
      "cell_type": "code",
      "source": [
        "# integer type, byte 수(1 byte = 8 bit) \n",
        "d = np.array([1, 2, 3], dtype='i1')\n",
        "e = np.array([1, 2, 3], dtype='i2')\n",
        "f = np.array([1, 2, 3], dtype='i4')\n",
        "g = np.array([1, 2, 3], dtype='i8')\n",
        "\n",
        "print(d.dtype, e.dtype, f.dtype, g.dtype)"
      ],
      "metadata": {
        "colab": {
          "base_uri": "https://localhost:8080/"
        },
        "id": "I_LarJQHxTot",
        "outputId": "78f5ec4d-0a28-4b7c-cec7-4d88f9c0e143"
      },
      "execution_count": 64,
      "outputs": [
        {
          "output_type": "stream",
          "name": "stdout",
          "text": [
            "int8 int16 int32 int64\n"
          ]
        }
      ]
    },
    {
      "cell_type": "code",
      "source": [
        "# unsigned int = 부호가 없는 정수, 양수와 0만 표현가능\n",
        "d = np.array([1, 2, 3], dtype = 'u1')\n",
        "e = np.array([1, 2, 3], dtype = 'u2')\n",
        "f = np.array([1, 2, 3], dtype = 'u4')\n",
        "g = np.array([1, 2, 3], dtype = 'u8')\n",
        "\n",
        "print(d.dtype, e.dtype, f.dtype, g.dtype)"
      ],
      "metadata": {
        "colab": {
          "base_uri": "https://localhost:8080/"
        },
        "id": "lFvLSff3xTwO",
        "outputId": "03d77c9e-094d-4ddc-cd41-ac63f7c91bb9"
      },
      "execution_count": 65,
      "outputs": [
        {
          "output_type": "stream",
          "name": "stdout",
          "text": [
            "uint8 uint16 uint32 uint64\n"
          ]
        }
      ]
    },
    {
      "cell_type": "code",
      "source": [
        "h = np.array([1, 2, 3], dtype='f2')\n",
        "i = np.array([1, 2, 3], dtype='f4')\n",
        "j = np.array([1, 2, 3], dtype='f8')\n",
        "k = np.array([1, 2, 3], dtype='f16')\n",
        "\n",
        "print(h.dtype, i.dtype, j.dtype, k.dtype)"
      ],
      "metadata": {
        "colab": {
          "base_uri": "https://localhost:8080/"
        },
        "id": "8HqjWqZqxT3a",
        "outputId": "d9355ffd-ee64-46ed-aa32-2668fad94f12"
      },
      "execution_count": 66,
      "outputs": [
        {
          "output_type": "stream",
          "name": "stdout",
          "text": [
            "float16 float32 float64 float128\n"
          ]
        }
      ]
    },
    {
      "cell_type": "code",
      "source": [
        "i = np.array([1, 2, 3], dtype='f')\n",
        "j = np.array([1, 2, 3], dtype='d')\n",
        "k = np.array([1, 2, 3], dtype='g')\n",
        "\n",
        "print(i.dtype, j.dtype, k.dtype)"
      ],
      "metadata": {
        "colab": {
          "base_uri": "https://localhost:8080/"
        },
        "id": "dOPvdQcjxT-W",
        "outputId": "ac85ffa3-a258-45db-ec3c-54d03a4dacd3"
      },
      "execution_count": 67,
      "outputs": [
        {
          "output_type": "stream",
          "name": "stdout",
          "text": [
            "float32 float64 float128\n"
          ]
        }
      ]
    },
    {
      "cell_type": "code",
      "source": [
        "i = i.astype(np.int32)\n",
        "print(i.dtype)"
      ],
      "metadata": {
        "colab": {
          "base_uri": "https://localhost:8080/"
        },
        "id": "fh3KeF8mxUFN",
        "outputId": "6e4ce30a-64e4-4649-c1fa-3c5f071f99e4"
      },
      "execution_count": 68,
      "outputs": [
        {
          "output_type": "stream",
          "name": "stdout",
          "text": [
            "int32\n"
          ]
        }
      ]
    },
    {
      "cell_type": "code",
      "source": [
        "j = j.astype(i.dtype)\n",
        "print(j.dtype)"
      ],
      "metadata": {
        "colab": {
          "base_uri": "https://localhost:8080/"
        },
        "id": "VA8Q8NmjDM7v",
        "outputId": "83111bb1-fa5d-4804-f0a7-6805e1f68c36"
      },
      "execution_count": 69,
      "outputs": [
        {
          "output_type": "stream",
          "name": "stdout",
          "text": [
            "int32\n"
          ]
        }
      ]
    },
    {
      "cell_type": "markdown",
      "source": [
        "### 배열 indexing(색인)과 slicing(슬라이싱)"
      ],
      "metadata": {
        "id": "SjYocQFunVG3"
      }
    },
    {
      "cell_type": "markdown",
      "source": [
        "####indexing, slicing 기본\n"
      ],
      "metadata": {
        "id": "G8EwpjEOnWKX"
      }
    },
    {
      "cell_type": "code",
      "source": [
        "a = np.arange(10)\n",
        "print(a)"
      ],
      "metadata": {
        "id": "aab6Db1onWYR",
        "colab": {
          "base_uri": "https://localhost:8080/"
        },
        "outputId": "d35fe00c-33c1-4b1c-f36f-3ede68e1eb7f"
      },
      "execution_count": 70,
      "outputs": [
        {
          "output_type": "stream",
          "name": "stdout",
          "text": [
            "[0 1 2 3 4 5 6 7 8 9]\n"
          ]
        }
      ]
    },
    {
      "cell_type": "code",
      "source": [
        "#indexing\n",
        "print(a[5])"
      ],
      "metadata": {
        "colab": {
          "base_uri": "https://localhost:8080/"
        },
        "id": "qyMSYwYDDklI",
        "outputId": "1d9ada33-361f-4acb-abd0-cc52a492b039"
      },
      "execution_count": 71,
      "outputs": [
        {
          "output_type": "stream",
          "name": "stdout",
          "text": [
            "5\n"
          ]
        }
      ]
    },
    {
      "cell_type": "code",
      "source": [
        "#slicing\n",
        "print(a[5:8])"
      ],
      "metadata": {
        "colab": {
          "base_uri": "https://localhost:8080/"
        },
        "id": "gWghTaeQDkr1",
        "outputId": "7e526b74-02e3-4ad5-d9be-75188164336e"
      },
      "execution_count": 72,
      "outputs": [
        {
          "output_type": "stream",
          "name": "stdout",
          "text": [
            "[5 6 7]\n"
          ]
        }
      ]
    },
    {
      "cell_type": "code",
      "source": [
        "print(a[-1])"
      ],
      "metadata": {
        "colab": {
          "base_uri": "https://localhost:8080/"
        },
        "id": "cjeK9RRIDkzs",
        "outputId": "68160470-f7b3-4651-eccf-2591c2bccca9"
      },
      "execution_count": 73,
      "outputs": [
        {
          "output_type": "stream",
          "name": "stdout",
          "text": [
            "9\n"
          ]
        }
      ]
    },
    {
      "cell_type": "code",
      "source": [
        "print(a[7:-1])"
      ],
      "metadata": {
        "colab": {
          "base_uri": "https://localhost:8080/"
        },
        "id": "9s3U65lzDk7z",
        "outputId": "ec664f71-4b49-4772-f470-1bde85c40987"
      },
      "execution_count": 74,
      "outputs": [
        {
          "output_type": "stream",
          "name": "stdout",
          "text": [
            "[7 8]\n"
          ]
        }
      ]
    },
    {
      "cell_type": "code",
      "source": [
        "a[5:8] = 10\n",
        "print(a)"
      ],
      "metadata": {
        "colab": {
          "base_uri": "https://localhost:8080/"
        },
        "id": "7SxNV-mCDlmq",
        "outputId": "62cb3b2d-27ad-421a-c2dd-e023c8e9cfd5"
      },
      "execution_count": 75,
      "outputs": [
        {
          "output_type": "stream",
          "name": "stdout",
          "text": [
            "[ 0  1  2  3  4 10 10 10  8  9]\n"
          ]
        }
      ]
    },
    {
      "cell_type": "markdown",
      "source": [
        "#### indexing과 slicing의 차이\n",
        "indexing을 사용하면 항상 랭크(차원)가 감소합니다. 반면에 slicing을 사용하면 차원이 유지됩니다."
      ],
      "metadata": {
        "id": "_c7s4cURnhO9"
      }
    },
    {
      "cell_type": "code",
      "source": [
        "b = np.arange(1,13)\n",
        "#b = b.reshape(3,4)\n",
        "print(b)\n",
        "print(b.shape)\n",
        "print(b.ndim)"
      ],
      "metadata": {
        "id": "18lI0PtmnhYo",
        "colab": {
          "base_uri": "https://localhost:8080/"
        },
        "outputId": "7e880c2b-e826-4d7a-c89e-82c6f87984bb"
      },
      "execution_count": 76,
      "outputs": [
        {
          "output_type": "stream",
          "name": "stdout",
          "text": [
            "[ 1  2  3  4  5  6  7  8  9 10 11 12]\n",
            "(12,)\n",
            "1\n"
          ]
        }
      ]
    },
    {
      "cell_type": "code",
      "source": [
        "indexing = b[1]\n",
        "slicing = b[1:2]\n",
        "print(indexing, indexing.shape, indexing.ndim)\n",
        "print(slicing, slicing.shape, slicing.ndim)"
      ],
      "metadata": {
        "colab": {
          "base_uri": "https://localhost:8080/"
        },
        "id": "O_XBS2g4EIQ7",
        "outputId": "194d9c4f-a897-4660-d8b2-03c323d98be9"
      },
      "execution_count": 77,
      "outputs": [
        {
          "output_type": "stream",
          "name": "stdout",
          "text": [
            "2 () 0\n",
            "[2] (1,) 1\n"
          ]
        }
      ]
    },
    {
      "cell_type": "markdown",
      "source": [
        "이것은 indexing과 slicing을 함께 사용할 때도 마찬가지입니다. indexing의 개수만큼 랭크는 감소합니다."
      ],
      "metadata": {
        "id": "yCmSsNJZnhh4"
      }
    },
    {
      "cell_type": "code",
      "source": [
        "b = b.reshape(3,4)\n",
        "print(b)\n",
        "print(b.shape)\n",
        "print(b.ndim)"
      ],
      "metadata": {
        "id": "G3BE2_J1nhrr",
        "colab": {
          "base_uri": "https://localhost:8080/"
        },
        "outputId": "b535fced-c11e-4bc2-aa20-a9e5bdc7cc5e"
      },
      "execution_count": 79,
      "outputs": [
        {
          "output_type": "stream",
          "name": "stdout",
          "text": [
            "[[ 1  2  3  4]\n",
            " [ 5  6  7  8]\n",
            " [ 9 10 11 12]]\n",
            "(3, 4)\n",
            "2\n"
          ]
        }
      ]
    },
    {
      "cell_type": "code",
      "source": [
        "# indexing은 차원축소,slicing만 쓰면 차원유지\n",
        "row_r1 = b[1,:]\n",
        "row_r2 = b[1:2, :]\n",
        "print(row_r1, row_r1.shape, row_r1.ndim)\n",
        "print(row_r2, row_r2.shape, row_r2.ndim)"
      ],
      "metadata": {
        "colab": {
          "base_uri": "https://localhost:8080/"
        },
        "id": "4MQw054yFggY",
        "outputId": "9e7cf0ee-fff0-4689-dfa0-e0520e86f9b8"
      },
      "execution_count": 80,
      "outputs": [
        {
          "output_type": "stream",
          "name": "stdout",
          "text": [
            "[5 6 7 8] (4,) 1\n",
            "[[5 6 7 8]] (1, 4) 2\n"
          ]
        }
      ]
    },
    {
      "cell_type": "markdown",
      "source": [
        "#### slicing examples\n"
      ],
      "metadata": {
        "id": "xNUO3hIRnnSH"
      }
    },
    {
      "cell_type": "code",
      "source": [
        "c = np.arange(24).reshape(2,3,4)\n",
        "print(c)\n",
        "print(c.shape)"
      ],
      "metadata": {
        "id": "eXrkyXNrnndF",
        "colab": {
          "base_uri": "https://localhost:8080/"
        },
        "outputId": "40b5f4f7-d48c-4b48-e4a0-5735695d263a"
      },
      "execution_count": 81,
      "outputs": [
        {
          "output_type": "stream",
          "name": "stdout",
          "text": [
            "[[[ 0  1  2  3]\n",
            "  [ 4  5  6  7]\n",
            "  [ 8  9 10 11]]\n",
            "\n",
            " [[12 13 14 15]\n",
            "  [16 17 18 19]\n",
            "  [20 21 22 23]]]\n",
            "(2, 3, 4)\n"
          ]
        }
      ]
    },
    {
      "cell_type": "code",
      "source": [
        "print(c[:,:,1])\n",
        "print(c[...,:1])"
      ],
      "metadata": {
        "colab": {
          "base_uri": "https://localhost:8080/"
        },
        "id": "4e4sjLUiF7ji",
        "outputId": "f5d95ce4-a6d2-4487-cf54-ac34cf966884"
      },
      "execution_count": 82,
      "outputs": [
        {
          "output_type": "stream",
          "name": "stdout",
          "text": [
            "[[ 1  5  9]\n",
            " [13 17 21]]\n",
            "[[[ 0]\n",
            "  [ 4]\n",
            "  [ 8]]\n",
            "\n",
            " [[12]\n",
            "  [16]\n",
            "  [20]]]\n"
          ]
        }
      ]
    },
    {
      "cell_type": "code",
      "source": [
        "print(c[0:1])\n",
        "print(c[0::-1])"
      ],
      "metadata": {
        "colab": {
          "base_uri": "https://localhost:8080/"
        },
        "id": "hqHMDhr0F7ql",
        "outputId": "3ea34f50-43f9-464b-f98f-cddb3c3b4010"
      },
      "execution_count": 83,
      "outputs": [
        {
          "output_type": "stream",
          "name": "stdout",
          "text": [
            "[[[ 0  1  2  3]\n",
            "  [ 4  5  6  7]\n",
            "  [ 8  9 10 11]]]\n",
            "[[[ 0  1  2  3]\n",
            "  [ 4  5  6  7]\n",
            "  [ 8  9 10 11]]]\n"
          ]
        }
      ]
    },
    {
      "cell_type": "markdown",
      "source": [
        "boolean indexing"
      ],
      "metadata": {
        "id": "B9nZEoEennlu"
      }
    },
    {
      "cell_type": "code",
      "source": [
        "print(c)"
      ],
      "metadata": {
        "id": "mc-kDgAInuvs",
        "colab": {
          "base_uri": "https://localhost:8080/"
        },
        "outputId": "34a0221a-fed4-40c9-fecd-a4ee55c79397"
      },
      "execution_count": 84,
      "outputs": [
        {
          "output_type": "stream",
          "name": "stdout",
          "text": [
            "[[[ 0  1  2  3]\n",
            "  [ 4  5  6  7]\n",
            "  [ 8  9 10 11]]\n",
            "\n",
            " [[12 13 14 15]\n",
            "  [16 17 18 19]\n",
            "  [20 21 22 23]]]\n"
          ]
        }
      ]
    },
    {
      "cell_type": "code",
      "source": [
        "bool_idx = (c > 10)\n",
        "print(bool_idx)"
      ],
      "metadata": {
        "colab": {
          "base_uri": "https://localhost:8080/"
        },
        "id": "uANOTtw0GTcr",
        "outputId": "baab2f81-d4b0-4c26-f8a0-b580d1996f6f"
      },
      "execution_count": 85,
      "outputs": [
        {
          "output_type": "stream",
          "name": "stdout",
          "text": [
            "[[[False False False False]\n",
            "  [False False False False]\n",
            "  [False False False  True]]\n",
            "\n",
            " [[ True  True  True  True]\n",
            "  [ True  True  True  True]\n",
            "  [ True  True  True  True]]]\n"
          ]
        }
      ]
    },
    {
      "cell_type": "code",
      "source": [
        "# True만 출력, 차원을 무시함\n",
        "print(c[bool_idx])"
      ],
      "metadata": {
        "colab": {
          "base_uri": "https://localhost:8080/"
        },
        "id": "JaR6V0K9GTkf",
        "outputId": "694bb9fe-800d-4930-caec-6afaa9ea8d5f"
      },
      "execution_count": 86,
      "outputs": [
        {
          "output_type": "stream",
          "name": "stdout",
          "text": [
            "[11 12 13 14 15 16 17 18 19 20 21 22 23]\n"
          ]
        }
      ]
    },
    {
      "cell_type": "code",
      "source": [
        "c[c>10] = -1\n",
        "print(c)"
      ],
      "metadata": {
        "colab": {
          "base_uri": "https://localhost:8080/"
        },
        "id": "mUmtq34ZGTrn",
        "outputId": "81322335-ece8-42aa-af3b-9ff8bf538e3c"
      },
      "execution_count": 87,
      "outputs": [
        {
          "output_type": "stream",
          "name": "stdout",
          "text": [
            "[[[ 0  1  2  3]\n",
            "  [ 4  5  6  7]\n",
            "  [ 8  9 10 -1]]\n",
            "\n",
            " [[-1 -1 -1 -1]\n",
            "  [-1 -1 -1 -1]\n",
            "  [-1 -1 -1 -1]]]\n"
          ]
        }
      ]
    },
    {
      "cell_type": "markdown",
      "source": [
        "#### fancy indexing = 정수인덱싱\n"
      ],
      "metadata": {
        "id": "vESRZAeknvdc"
      }
    },
    {
      "cell_type": "code",
      "source": [
        "# -1은 알아서 채워짐짐\n",
        "d = np.arange(8).reshape(8,-1)\n",
        "print(d, d.shape)"
      ],
      "metadata": {
        "id": "Q_vU3nlQnvxs",
        "colab": {
          "base_uri": "https://localhost:8080/"
        },
        "outputId": "3ac5cc10-880c-4786-8f97-94883ed03e46"
      },
      "execution_count": 88,
      "outputs": [
        {
          "output_type": "stream",
          "name": "stdout",
          "text": [
            "[[0]\n",
            " [1]\n",
            " [2]\n",
            " [3]\n",
            " [4]\n",
            " [5]\n",
            " [6]\n",
            " [7]] (8, 1)\n"
          ]
        }
      ]
    },
    {
      "cell_type": "code",
      "source": [
        "# hstack = 베열을 수평으로 쌓음\n",
        "d = np.hstack((d, d, d, d))\n",
        "print(d, d.shape)"
      ],
      "metadata": {
        "colab": {
          "base_uri": "https://localhost:8080/"
        },
        "id": "dkmBYudyGdeI",
        "outputId": "2d136747-30e1-4ec4-cbe2-05ef8ebdb5eb"
      },
      "execution_count": 89,
      "outputs": [
        {
          "output_type": "stream",
          "name": "stdout",
          "text": [
            "[[0 0 0 0]\n",
            " [1 1 1 1]\n",
            " [2 2 2 2]\n",
            " [3 3 3 3]\n",
            " [4 4 4 4]\n",
            " [5 5 5 5]\n",
            " [6 6 6 6]\n",
            " [7 7 7 7]] (8, 4)\n"
          ]
        }
      ]
    },
    {
      "cell_type": "code",
      "source": [
        "print(d[[3, 5, 1, 0]])"
      ],
      "metadata": {
        "colab": {
          "base_uri": "https://localhost:8080/"
        },
        "id": "ELuHjoxyGdpE",
        "outputId": "4cfb2f8a-bf5a-4dbe-f2d4-d39344ca31d6"
      },
      "execution_count": 90,
      "outputs": [
        {
          "output_type": "stream",
          "name": "stdout",
          "text": [
            "[[3 3 3 3]\n",
            " [5 5 5 5]\n",
            " [1 1 1 1]\n",
            " [0 0 0 0]]\n"
          ]
        }
      ]
    },
    {
      "cell_type": "code",
      "source": [
        "print(d[[-3, -5, -7]])"
      ],
      "metadata": {
        "colab": {
          "base_uri": "https://localhost:8080/"
        },
        "id": "ccyc1Gr2Gc1H",
        "outputId": "640815de-0bfd-4848-a2cc-1a46046f5e17"
      },
      "execution_count": 91,
      "outputs": [
        {
          "output_type": "stream",
          "name": "stdout",
          "text": [
            "[[5 5 5 5]\n",
            " [3 3 3 3]\n",
            " [1 1 1 1]]\n"
          ]
        }
      ]
    },
    {
      "cell_type": "code",
      "source": [
        "e = np.arange(32).reshape(8,4)\n",
        "print(e, e.shape)"
      ],
      "metadata": {
        "colab": {
          "base_uri": "https://localhost:8080/"
        },
        "id": "idDu5EK8Gc-Y",
        "outputId": "e9056ae6-9076-4ccf-925d-dc5e70fb4ccb"
      },
      "execution_count": 92,
      "outputs": [
        {
          "output_type": "stream",
          "name": "stdout",
          "text": [
            "[[ 0  1  2  3]\n",
            " [ 4  5  6  7]\n",
            " [ 8  9 10 11]\n",
            " [12 13 14 15]\n",
            " [16 17 18 19]\n",
            " [20 21 22 23]\n",
            " [24 25 26 27]\n",
            " [28 29 30 31]] (8, 4)\n"
          ]
        }
      ]
    },
    {
      "cell_type": "code",
      "source": [
        "print(e[[1,5,7,2], [0,3,1,2]])"
      ],
      "metadata": {
        "colab": {
          "base_uri": "https://localhost:8080/"
        },
        "id": "6oGiBaVOGdGc",
        "outputId": "b8635c86-ce5d-49f5-9700-0b7364925966"
      },
      "execution_count": 93,
      "outputs": [
        {
          "output_type": "stream",
          "name": "stdout",
          "text": [
            "[ 4 23 29 10]\n"
          ]
        }
      ]
    },
    {
      "cell_type": "code",
      "source": [
        "# 1,5,7,2행에서 0,3,1,2순서로로\n",
        "print(e[[1,5,7,2]][:, [0,3,1,2]])"
      ],
      "metadata": {
        "colab": {
          "base_uri": "https://localhost:8080/"
        },
        "id": "gTFpmQg5GdOp",
        "outputId": "c6d76779-eab9-4b49-98d9-8a699972d10d"
      },
      "execution_count": 94,
      "outputs": [
        {
          "output_type": "stream",
          "name": "stdout",
          "text": [
            "[[ 4  7  5  6]\n",
            " [20 23 21 22]\n",
            " [28 31 29 30]\n",
            " [ 8 11  9 10]]\n"
          ]
        }
      ]
    },
    {
      "cell_type": "markdown",
      "source": [
        "### Transpose"
      ],
      "metadata": {
        "id": "b1fzLBE9nv_X"
      }
    },
    {
      "cell_type": "code",
      "source": [
        "f = np.arange(16).reshape(2,2,4)\n",
        "print(f, f.shape)"
      ],
      "metadata": {
        "id": "Alf9h18DnwMm",
        "colab": {
          "base_uri": "https://localhost:8080/"
        },
        "outputId": "d70f3489-2570-4822-f58a-d083b183dca0"
      },
      "execution_count": 95,
      "outputs": [
        {
          "output_type": "stream",
          "name": "stdout",
          "text": [
            "[[[ 0  1  2  3]\n",
            "  [ 4  5  6  7]]\n",
            "\n",
            " [[ 8  9 10 11]\n",
            "  [12 13 14 15]]] (2, 2, 4)\n"
          ]
        }
      ]
    },
    {
      "cell_type": "code",
      "source": [
        "print(f.transpose(1, 0, 2))\n"
      ],
      "metadata": {
        "colab": {
          "base_uri": "https://localhost:8080/"
        },
        "id": "quhAQLW9GnFS",
        "outputId": "b524f7ec-41db-49e2-d46e-c044db5ae606"
      },
      "execution_count": 100,
      "outputs": [
        {
          "output_type": "stream",
          "name": "stdout",
          "text": [
            "[[[ 0  1  2  3]\n",
            "  [ 8  9 10 11]]\n",
            "\n",
            " [[ 4  5  6  7]\n",
            "  [12 13 14 15]]]\n"
          ]
        }
      ]
    },
    {
      "cell_type": "code",
      "source": [
        "#축을 골라 순서 바꾸는 것 \n",
        "print(f.swapaxes(0, 1))"
      ],
      "metadata": {
        "colab": {
          "base_uri": "https://localhost:8080/"
        },
        "id": "YRw-oCoqGnLg",
        "outputId": "14be6f57-444b-496d-dc7a-205c57b4007e"
      },
      "execution_count": 101,
      "outputs": [
        {
          "output_type": "stream",
          "name": "stdout",
          "text": [
            "[[[ 0  1  2  3]\n",
            "  [ 8  9 10 11]]\n",
            "\n",
            " [[ 4  5  6  7]\n",
            "  [12 13 14 15]]]\n"
          ]
        }
      ]
    },
    {
      "cell_type": "markdown",
      "source": [
        "### Numpy 연산"
      ],
      "metadata": {
        "id": "wrik-wOOnwar"
      }
    },
    {
      "cell_type": "code",
      "source": [
        "x = np.array([[1, 2], [3, 4]], dtype=np.float64)\n",
        "y = np.array([[5, 6], [7, 8]], dtype=np.float64)\n",
        "print(x)\n",
        "print(y)"
      ],
      "metadata": {
        "id": "iDQBFOpVn3yX",
        "colab": {
          "base_uri": "https://localhost:8080/"
        },
        "outputId": "79c87629-cace-491d-b3a8-325e0ae8f2a4"
      },
      "execution_count": 102,
      "outputs": [
        {
          "output_type": "stream",
          "name": "stdout",
          "text": [
            "[[1. 2.]\n",
            " [3. 4.]]\n",
            "[[5. 6.]\n",
            " [7. 8.]]\n"
          ]
        }
      ]
    },
    {
      "cell_type": "code",
      "source": [
        "print(x + y)\n",
        "print(np.add(x, y))"
      ],
      "metadata": {
        "colab": {
          "base_uri": "https://localhost:8080/"
        },
        "id": "Ct1k_j-NGrNS",
        "outputId": "dd3defb4-f202-4960-fa28-d1f8271a5f64"
      },
      "execution_count": 103,
      "outputs": [
        {
          "output_type": "stream",
          "name": "stdout",
          "text": [
            "[[ 6.  8.]\n",
            " [10. 12.]]\n",
            "[[ 6.  8.]\n",
            " [10. 12.]]\n"
          ]
        }
      ]
    },
    {
      "cell_type": "code",
      "source": [
        "print(x - y)\n",
        "print(np.subtract(x, y))"
      ],
      "metadata": {
        "colab": {
          "base_uri": "https://localhost:8080/"
        },
        "id": "yUoF05XHGrTn",
        "outputId": "8d5a76a9-661c-4b79-921d-2243882096e1"
      },
      "execution_count": 104,
      "outputs": [
        {
          "output_type": "stream",
          "name": "stdout",
          "text": [
            "[[-4. -4.]\n",
            " [-4. -4.]]\n",
            "[[-4. -4.]\n",
            " [-4. -4.]]\n"
          ]
        }
      ]
    },
    {
      "cell_type": "code",
      "source": [
        "print(x * y)\n",
        "print(np.multiply(x, y))"
      ],
      "metadata": {
        "colab": {
          "base_uri": "https://localhost:8080/"
        },
        "id": "QakOWpD5GrZ7",
        "outputId": "164617b9-cc0f-497c-9f6e-9b79c9619be6"
      },
      "execution_count": 105,
      "outputs": [
        {
          "output_type": "stream",
          "name": "stdout",
          "text": [
            "[[ 5. 12.]\n",
            " [21. 32.]]\n",
            "[[ 5. 12.]\n",
            " [21. 32.]]\n"
          ]
        }
      ]
    },
    {
      "cell_type": "code",
      "source": [
        "print(x / y)\n",
        "print(np.divide(x, y))"
      ],
      "metadata": {
        "colab": {
          "base_uri": "https://localhost:8080/"
        },
        "id": "tT5552yqGrgq",
        "outputId": "917caacc-e139-4872-db37-a308a3db71f0"
      },
      "execution_count": 106,
      "outputs": [
        {
          "output_type": "stream",
          "name": "stdout",
          "text": [
            "[[0.2        0.33333333]\n",
            " [0.42857143 0.5       ]]\n",
            "[[0.2        0.33333333]\n",
            " [0.42857143 0.5       ]]\n"
          ]
        }
      ]
    },
    {
      "cell_type": "code",
      "source": [
        "# 행렬곱\n",
        "print(x @ y)\n",
        "print(np.matmul(x, y))"
      ],
      "metadata": {
        "colab": {
          "base_uri": "https://localhost:8080/"
        },
        "id": "5OxW6KRmGrnG",
        "outputId": "6cb5be2e-098d-4637-d2cf-a70677411786"
      },
      "execution_count": 107,
      "outputs": [
        {
          "output_type": "stream",
          "name": "stdout",
          "text": [
            "[[19. 22.]\n",
            " [43. 50.]]\n",
            "[[19. 22.]\n",
            " [43. 50.]]\n"
          ]
        }
      ]
    },
    {
      "cell_type": "code",
      "source": [
        "z = np.arange(1, 11).reshape(2, 5)\n",
        "print(z)"
      ],
      "metadata": {
        "colab": {
          "base_uri": "https://localhost:8080/"
        },
        "id": "MwVrRMMnGruZ",
        "outputId": "00aab2f0-f1c3-4eaa-cee6-27f954e7f5af"
      },
      "execution_count": 108,
      "outputs": [
        {
          "output_type": "stream",
          "name": "stdout",
          "text": [
            "[[ 1  2  3  4  5]\n",
            " [ 6  7  8  9 10]]\n"
          ]
        }
      ]
    },
    {
      "cell_type": "code",
      "source": [
        "print(np.sum(z))"
      ],
      "metadata": {
        "colab": {
          "base_uri": "https://localhost:8080/"
        },
        "id": "yfSJ_3PyGr1B",
        "outputId": "f586b9a4-09d2-42ed-e7a4-a12a46f67547"
      },
      "execution_count": 109,
      "outputs": [
        {
          "output_type": "stream",
          "name": "stdout",
          "text": [
            "55\n"
          ]
        }
      ]
    },
    {
      "cell_type": "code",
      "source": [
        "# axis = -1은 마지막 축을 의미\n",
        "sum1 = np.sum(z, axis=0)\n",
        "sum2 = np.sum(z, axis=1)\n",
        "sum3 = np.sum(z, axis=-1)\n",
        "print(sum1, sum1.shape)\n",
        "print(sum2, sum2.shape)\n",
        "print(sum3, sum3.shape)"
      ],
      "metadata": {
        "colab": {
          "base_uri": "https://localhost:8080/"
        },
        "id": "8Kd03_1jGr6T",
        "outputId": "8a83a286-c600-46c2-da14-0484a0739964"
      },
      "execution_count": 110,
      "outputs": [
        {
          "output_type": "stream",
          "name": "stdout",
          "text": [
            "[ 7  9 11 13 15] (5,)\n",
            "[15 40] (2,)\n",
            "[15 40] (2,)\n"
          ]
        }
      ]
    },
    {
      "cell_type": "markdown",
      "source": [
        "여기서 축(axis)은 각 배열의 차원에 해당되는 index 입니다.\n",
        "\n",
        "axis=0에 대하여 sum을 하라는 것은 0번 축 혹은 차원이 없어지는 방향으로 원소들을 모두 더하라는 얘기입니다.\n",
        "\n",
        "즉, 위 예에서 sum1의 경우, z[0,:]+z[1,:]의 연산을 하라는 의미이고,\n",
        "\n",
        "sum2의 경우에는 z[:,0]+z[:,1]+z[:,2]+z[:,3]+z[:,4]의 연산을 하라는 의미입니다."
      ],
      "metadata": {
        "id": "7moVupq4n37V"
      }
    },
    {
      "cell_type": "code",
      "source": [
        "#sum1 = np.sum(z, axis=0)\n",
        "print(z[0,:] + z[1,:])"
      ],
      "metadata": {
        "id": "Q83MFzu1n-ZC",
        "colab": {
          "base_uri": "https://localhost:8080/"
        },
        "outputId": "c1c07610-511f-44cd-acc0-2b6cb8ab7031"
      },
      "execution_count": 113,
      "outputs": [
        {
          "output_type": "stream",
          "name": "stdout",
          "text": [
            "[ 7  9 11 13 15]\n"
          ]
        }
      ]
    },
    {
      "cell_type": "code",
      "source": [
        "#sum2 = np.sum(z, axis=1)\n",
        "print(z[:,0] + z[:,1] + z[:,2] + z[:,3] + z[:,4])"
      ],
      "metadata": {
        "colab": {
          "base_uri": "https://localhost:8080/"
        },
        "id": "VXPfzBQSG1Sd",
        "outputId": "5c5556e1-b598-4c74-e2f6-c40ac8a94594"
      },
      "execution_count": 114,
      "outputs": [
        {
          "output_type": "stream",
          "name": "stdout",
          "text": [
            "[15 40]\n"
          ]
        }
      ]
    },
    {
      "cell_type": "markdown",
      "source": [
        "###Broadcasting\n",
        "Broadcasting은 numpy가 산술 연산을 수행 할 때 다른 모양의 배열로 작업 할 수있게 해주는 강력한 메커니즘입니다. 종종 더 작은 배열과 더 큰 배열이 있을 때 더 작은 배열을 여러 번 사용하여 더 큰 배열에서 어떤 연산을 수행하기를 원할 때가 있습니다.\n",
        "\n",
        "예를 들어, 행렬의 각 행에 상수 벡터를 추가하려 한다고 가정합시다. numpy에서는 다음과 같이 할 수 있습니다."
      ],
      "metadata": {
        "id": "HOYV5rusn-hR"
      }
    },
    {
      "cell_type": "code",
      "source": [
        "x = np.array([[1,2,3], [4,5,6], [7,8,9], [10,11,12]])\n",
        "y = np.array([1,0,2])"
      ],
      "metadata": {
        "id": "0qTOQWw4n-op"
      },
      "execution_count": 115,
      "outputs": []
    },
    {
      "cell_type": "code",
      "source": [
        "print(x, x.shape)\n",
        "print(y, y.shape)"
      ],
      "metadata": {
        "colab": {
          "base_uri": "https://localhost:8080/"
        },
        "id": "6t5N-x5tG_vS",
        "outputId": "ff2d046c-55d6-4b64-b408-6b24d9e3a770"
      },
      "execution_count": 116,
      "outputs": [
        {
          "output_type": "stream",
          "name": "stdout",
          "text": [
            "[[ 1  2  3]\n",
            " [ 4  5  6]\n",
            " [ 7  8  9]\n",
            " [10 11 12]] (4, 3)\n",
            "[1 0 2] (3,)\n"
          ]
        }
      ]
    },
    {
      "cell_type": "code",
      "source": [
        "z = x + y\n",
        "print(z, z.shape)"
      ],
      "metadata": {
        "colab": {
          "base_uri": "https://localhost:8080/"
        },
        "id": "ZxYw-gj9HAIk",
        "outputId": "feae7675-2422-4bb8-ef2d-fbda0284a286"
      },
      "execution_count": 117,
      "outputs": [
        {
          "output_type": "stream",
          "name": "stdout",
          "text": [
            "[[ 2  2  5]\n",
            " [ 5  5  8]\n",
            " [ 8  8 11]\n",
            " [11 11 14]] (4, 3)\n"
          ]
        }
      ]
    },
    {
      "cell_type": "markdown",
      "source": [
        "z = x + y 는 broadcasting으로 인해 x가 shape (4, 3)이고 y가 shape (3)인데도 작동합니다. 이 행은 y가 실제로 shape (4, 3)인 것처럼 작동합니다. 각 행은 y의 사본이었고, 합계는 요소별로 수행되었습니다.\n",
        "\n",
        "두 개의 배열을 브로드캐스팅하는 것은 다음 규칙을 따릅니다.\n",
        "\n",
        "1. 배열의 랭크가 같지 않으면 두 모양이 같은 길이가 될 때까지 배열의 낮은 랭크쪽에 1을 붙입니다.\n",
        "2. 두 배열은 차원에서 크기가 같거나 배열 중 하나의 차원에 크기가 1 인 경우 차원에서 호환 가능하다고 합니다.\n",
        "3. 배열은 모든 차원에서 호환되면 함께 broadcast 될 수 있습니다.\n",
        "4. Broadcast 후 각 배열은 두 개의 입력 배열의 요소 모양 최대 개수와 동일한 모양을 가진 것처럼 동작합니다.\n",
        "5. 한 배열의 크기가 1이고 다른 배열의 크기가 1보다 큰 차원에서 첫 번째 배열은 마치 해당 차원을 따라 복사 된 것처럼 작동합니다\n",
        "\n",
        "실제로 동작하는 방식을 생각해 봅시다.\n",
        "\n",
        "1. A와 B의 모양을 생각합니다.\n",
        "2. 두 배열이 len(A.shape) == len(B.shape)인지 확인을 합니다.\n",
        "3. 같지 않은 경우에는 두 배열의 모양 길이가 같아질때까지 적은 쪽의 shape 앞에 1 을 추가해 줍니다.\n",
        "- 예: (5,3)–>(1,5,3)\n",
        "4. shape이 1인 곳은 복사가 됩니다.\n",
        "- 예: shape의 변화는 아래와 같게 될겁니다.\n",
        "- (5, 3)+(3,)\n",
        "- (5, 3)+(1, 3)\n",
        "- (5, 3) + (5, 3)\n",
        "- (5, 3)\n",
        "\n",
        "이 설명이 이해가되지 않으면 문서 또는 이 설명을 읽으십시오.\n",
        "\n",
        "https://docs.scipy.org/doc/numpy/user/basics.broadcasting.html\n",
        "\n",
        "http://scipy.github.io/old-wiki/pages/EricsBroadcastingDoc\n",
        "\n",
        "Broadcasting을 지원하는 함수들을 보편 함수라고합니다. 이 문서에서 모든 보편 함수 목록을 찾을 수 있습니다.\n",
        "https://docs.scipy.org/doc/numpy/reference/ufuncs.html#available-ufuncs\n"
      ],
      "metadata": {
        "id": "hYzCG-G-n-vx"
      }
    },
    {
      "cell_type": "code",
      "source": [
        "x = np.array([1,2,3]).reshape(1,3)\n",
        "y = np.array([4,5]).reshape(1,2)\n",
        "print(x, x.shape)\n",
        "print(y, y.shape)"
      ],
      "metadata": {
        "id": "NmIMcH6zoI8l",
        "colab": {
          "base_uri": "https://localhost:8080/"
        },
        "outputId": "118321f2-72e9-44ba-fbfe-5602577c7b1f"
      },
      "execution_count": 118,
      "outputs": [
        {
          "output_type": "stream",
          "name": "stdout",
          "text": [
            "[[1 2 3]] (1, 3)\n",
            "[[4 5]] (1, 2)\n"
          ]
        }
      ]
    },
    {
      "cell_type": "code",
      "source": [
        "# broadcasting 조건에 맞지 않음\n",
        "print(x + y)"
      ],
      "metadata": {
        "colab": {
          "base_uri": "https://localhost:8080/",
          "height": 194
        },
        "id": "yD9HrQI_HHH_",
        "outputId": "9b4b9651-187c-4c53-b1fc-b898bb4f7f01"
      },
      "execution_count": 119,
      "outputs": [
        {
          "output_type": "error",
          "ename": "ValueError",
          "evalue": "ignored",
          "traceback": [
            "\u001b[0;31m---------------------------------------------------------------------------\u001b[0m",
            "\u001b[0;31mValueError\u001b[0m                                Traceback (most recent call last)",
            "\u001b[0;32m<ipython-input-119-a56b087de706>\u001b[0m in \u001b[0;36m<cell line: 2>\u001b[0;34m()\u001b[0m\n\u001b[1;32m      1\u001b[0m \u001b[0;31m# broadcasting 조건에 맞지 않음\u001b[0m\u001b[0;34m\u001b[0m\u001b[0;34m\u001b[0m\u001b[0m\n\u001b[0;32m----> 2\u001b[0;31m \u001b[0mprint\u001b[0m\u001b[0;34m(\u001b[0m\u001b[0mx\u001b[0m \u001b[0;34m+\u001b[0m \u001b[0my\u001b[0m\u001b[0;34m)\u001b[0m\u001b[0;34m\u001b[0m\u001b[0;34m\u001b[0m\u001b[0m\n\u001b[0m",
            "\u001b[0;31mValueError\u001b[0m: operands could not be broadcast together with shapes (1,3) (1,2) "
          ]
        }
      ]
    },
    {
      "cell_type": "code",
      "source": [
        "y = y.swapaxes(0, 1)\n",
        "print(y, y.shape)"
      ],
      "metadata": {
        "colab": {
          "base_uri": "https://localhost:8080/"
        },
        "id": "MdUWrNiHHHQH",
        "outputId": "fb6900b8-bda8-4b66-ecac-bc694a31255f"
      },
      "execution_count": 120,
      "outputs": [
        {
          "output_type": "stream",
          "name": "stdout",
          "text": [
            "[[4]\n",
            " [5]] (2, 1)\n"
          ]
        }
      ]
    },
    {
      "cell_type": "code",
      "source": [
        "# broadcasting 발생\n",
        "print(x + y)"
      ],
      "metadata": {
        "colab": {
          "base_uri": "https://localhost:8080/"
        },
        "id": "Y0gfxqiUHHXn",
        "outputId": "0d316481-eef4-44fc-dccb-cd351bd9f96a"
      },
      "execution_count": 121,
      "outputs": [
        {
          "output_type": "stream",
          "name": "stdout",
          "text": [
            "[[5 6 7]\n",
            " [6 7 8]]\n"
          ]
        }
      ]
    },
    {
      "cell_type": "markdown",
      "source": [
        "### Shape 변경"
      ],
      "metadata": {
        "id": "YI_XUBPDoJDY"
      }
    },
    {
      "cell_type": "code",
      "source": [
        "a = np.arange(24).reshape(2,3,4)\n",
        "print(a, a.shape)"
      ],
      "metadata": {
        "id": "YGnXT9NDoOhs",
        "colab": {
          "base_uri": "https://localhost:8080/"
        },
        "outputId": "0384865a-0678-4dc6-f6fe-7199028c929e"
      },
      "execution_count": 122,
      "outputs": [
        {
          "output_type": "stream",
          "name": "stdout",
          "text": [
            "[[[ 0  1  2  3]\n",
            "  [ 4  5  6  7]\n",
            "  [ 8  9 10 11]]\n",
            "\n",
            " [[12 13 14 15]\n",
            "  [16 17 18 19]\n",
            "  [20 21 22 23]]] (2, 3, 4)\n"
          ]
        }
      ]
    },
    {
      "cell_type": "code",
      "source": [
        "# -1 = 6\n",
        "a = a.reshape(4, -1)\n",
        "print(a, a.shape)"
      ],
      "metadata": {
        "colab": {
          "base_uri": "https://localhost:8080/"
        },
        "id": "vid-4VKqHM5X",
        "outputId": "e903645e-badb-4d59-b58a-4f175e31d89b"
      },
      "execution_count": 123,
      "outputs": [
        {
          "output_type": "stream",
          "name": "stdout",
          "text": [
            "[[ 0  1  2  3  4  5]\n",
            " [ 6  7  8  9 10 11]\n",
            " [12 13 14 15 16 17]\n",
            " [18 19 20 21 22 23]] (4, 6)\n"
          ]
        }
      ]
    },
    {
      "cell_type": "code",
      "source": [
        "a = a[..., np.newaxis]\n",
        "print(a, a.shape)"
      ],
      "metadata": {
        "colab": {
          "base_uri": "https://localhost:8080/"
        },
        "id": "sgyB29vMHNBR",
        "outputId": "5346b5ee-ccf7-41c2-b1a2-9b6c6324e869"
      },
      "execution_count": 124,
      "outputs": [
        {
          "output_type": "stream",
          "name": "stdout",
          "text": [
            "[[[ 0]\n",
            "  [ 1]\n",
            "  [ 2]\n",
            "  [ 3]\n",
            "  [ 4]\n",
            "  [ 5]]\n",
            "\n",
            " [[ 6]\n",
            "  [ 7]\n",
            "  [ 8]\n",
            "  [ 9]\n",
            "  [10]\n",
            "  [11]]\n",
            "\n",
            " [[12]\n",
            "  [13]\n",
            "  [14]\n",
            "  [15]\n",
            "  [16]\n",
            "  [17]]\n",
            "\n",
            " [[18]\n",
            "  [19]\n",
            "  [20]\n",
            "  [21]\n",
            "  [22]\n",
            "  [23]]] (4, 6, 1)\n"
          ]
        }
      ]
    },
    {
      "cell_type": "code",
      "source": [
        "a = a.reshape(4, 6)\n",
        "a = np.expand_dims(a, axis=0)\n",
        "print(a, a.shape)"
      ],
      "metadata": {
        "colab": {
          "base_uri": "https://localhost:8080/"
        },
        "id": "9eyJf_EtHNIC",
        "outputId": "06049a45-9947-410f-d2d9-a067457a580b"
      },
      "execution_count": 125,
      "outputs": [
        {
          "output_type": "stream",
          "name": "stdout",
          "text": [
            "[[[ 0  1  2  3  4  5]\n",
            "  [ 6  7  8  9 10 11]\n",
            "  [12 13 14 15 16 17]\n",
            "  [18 19 20 21 22 23]]] (1, 4, 6)\n"
          ]
        }
      ]
    },
    {
      "cell_type": "code",
      "source": [
        "b = a.copy()\n",
        "print(b, b.shape)"
      ],
      "metadata": {
        "colab": {
          "base_uri": "https://localhost:8080/"
        },
        "id": "DoLPrju-HNOk",
        "outputId": "69f6d8b9-8bb8-4f67-e2fe-946a6e857df9"
      },
      "execution_count": 126,
      "outputs": [
        {
          "output_type": "stream",
          "name": "stdout",
          "text": [
            "[[[ 0  1  2  3  4  5]\n",
            "  [ 6  7  8  9 10 11]\n",
            "  [12 13 14 15 16 17]\n",
            "  [18 19 20 21 22 23]]] (1, 4, 6)\n"
          ]
        }
      ]
    },
    {
      "cell_type": "code",
      "source": [
        "# 축 지정해서 합침\n",
        "c = np.concatenate((a, b), axis=-1)\n",
        "print(c, c.shape)"
      ],
      "metadata": {
        "colab": {
          "base_uri": "https://localhost:8080/"
        },
        "id": "4FcTeOaOHNVS",
        "outputId": "78dacfc0-444f-4759-f83f-22dd97c3621b"
      },
      "execution_count": 127,
      "outputs": [
        {
          "output_type": "stream",
          "name": "stdout",
          "text": [
            "[[[ 0  1  2  3  4  5  0  1  2  3  4  5]\n",
            "  [ 6  7  8  9 10 11  6  7  8  9 10 11]\n",
            "  [12 13 14 15 16 17 12 13 14 15 16 17]\n",
            "  [18 19 20 21 22 23 18 19 20 21 22 23]]] (1, 4, 12)\n"
          ]
        }
      ]
    },
    {
      "cell_type": "code",
      "source": [
        "c = np.concatenate((a, b), axis=0)\n",
        "print(c, c.shape)"
      ],
      "metadata": {
        "colab": {
          "base_uri": "https://localhost:8080/"
        },
        "id": "gVC5S-_oHNbn",
        "outputId": "1c29cfeb-a341-47af-853d-480b6d510acb"
      },
      "execution_count": 128,
      "outputs": [
        {
          "output_type": "stream",
          "name": "stdout",
          "text": [
            "[[[ 0  1  2  3  4  5]\n",
            "  [ 6  7  8  9 10 11]\n",
            "  [12 13 14 15 16 17]\n",
            "  [18 19 20 21 22 23]]\n",
            "\n",
            " [[ 0  1  2  3  4  5]\n",
            "  [ 6  7  8  9 10 11]\n",
            "  [12 13 14 15 16 17]\n",
            "  [18 19 20 21 22 23]]] (2, 4, 6)\n"
          ]
        }
      ]
    },
    {
      "cell_type": "code",
      "source": [
        "# stack concatenate차이\n",
        "#stack = 새로운 차원을 만들어 갖다 붙임 차원이 늘어남\n",
        "\n",
        "d = np.stack((a, b), axis=-1)\n",
        "print(d, d.shape)"
      ],
      "metadata": {
        "colab": {
          "base_uri": "https://localhost:8080/"
        },
        "id": "67azeAuVHNg_",
        "outputId": "f65ebc93-a649-4637-99f0-eb423e9c2172"
      },
      "execution_count": 129,
      "outputs": [
        {
          "output_type": "stream",
          "name": "stdout",
          "text": [
            "[[[[ 0  0]\n",
            "   [ 1  1]\n",
            "   [ 2  2]\n",
            "   [ 3  3]\n",
            "   [ 4  4]\n",
            "   [ 5  5]]\n",
            "\n",
            "  [[ 6  6]\n",
            "   [ 7  7]\n",
            "   [ 8  8]\n",
            "   [ 9  9]\n",
            "   [10 10]\n",
            "   [11 11]]\n",
            "\n",
            "  [[12 12]\n",
            "   [13 13]\n",
            "   [14 14]\n",
            "   [15 15]\n",
            "   [16 16]\n",
            "   [17 17]]\n",
            "\n",
            "  [[18 18]\n",
            "   [19 19]\n",
            "   [20 20]\n",
            "   [21 21]\n",
            "   [22 22]\n",
            "   [23 23]]]] (1, 4, 6, 2)\n"
          ]
        }
      ]
    },
    {
      "cell_type": "code",
      "source": [
        "d = np.stack((a, b), axis=0)\n",
        "print(d, d.shape)"
      ],
      "metadata": {
        "colab": {
          "base_uri": "https://localhost:8080/"
        },
        "id": "nkS2o6wgHWK5",
        "outputId": "16231413-1fd3-4a6f-e1db-57529fb476ca"
      },
      "execution_count": 131,
      "outputs": [
        {
          "output_type": "stream",
          "name": "stdout",
          "text": [
            "[[[[ 0  1  2  3  4  5]\n",
            "   [ 6  7  8  9 10 11]\n",
            "   [12 13 14 15 16 17]\n",
            "   [18 19 20 21 22 23]]]\n",
            "\n",
            "\n",
            " [[[ 0  1  2  3  4  5]\n",
            "   [ 6  7  8  9 10 11]\n",
            "   [12 13 14 15 16 17]\n",
            "   [18 19 20 21 22 23]]]] (2, 1, 4, 6)\n"
          ]
        }
      ]
    }
  ]
}