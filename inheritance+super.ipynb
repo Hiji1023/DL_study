{
  "nbformat": 4,
  "nbformat_minor": 0,
  "metadata": {
    "colab": {
      "name": "inheritance+super.ipynb",
      "provenance": [],
      "collapsed_sections": [],
      "authorship_tag": "ABX9TyOAdeMRCw55Cdg0zr0+CbVD",
      "include_colab_link": true
    },
    "kernelspec": {
      "name": "python3",
      "display_name": "Python 3"
    },
    "language_info": {
      "name": "python"
    }
  },
  "cells": [
    {
      "cell_type": "markdown",
      "metadata": {
        "id": "view-in-github",
        "colab_type": "text"
      },
      "source": [
        "<a href=\"https://colab.research.google.com/github/Hiji1023/dl_network_cla_/blob/main/inheritance%2Bsuper.ipynb\" target=\"_parent\"><img src=\"https://colab.research.google.com/assets/colab-badge.svg\" alt=\"Open In Colab\"/></a>"
      ]
    },
    {
      "cell_type": "markdown",
      "source": [
        "#**super이해하기**#"
      ],
      "metadata": {
        "id": "d4t0vtUL5kFs"
      }
    },
    {
      "cell_type": "markdown",
      "source": [
        "##**상속**##"
      ],
      "metadata": {
        "id": "WnkTyJ6957FT"
      }
    },
    {
      "cell_type": "code",
      "source": [
        "class A(object):\n",
        "    def __init__(self):\n",
        "        print(\"A\")\n",
        "        \n",
        "    def hello(self):\n",
        "        print(\"hello\")"
      ],
      "metadata": {
        "id": "Iqwh5tYR61Zm"
      },
      "execution_count": 8,
      "outputs": []
    },
    {
      "cell_type": "code",
      "source": [
        "class B(A):\n",
        "    def __init__(self):\n",
        "        print(\"B\")\n",
        "        \n",
        "    def hi(self):\n",
        "        print(\"hi\")\n",
        "\n",
        "b = B()\n",
        "b.hello()\n"
      ],
      "metadata": {
        "colab": {
          "base_uri": "https://localhost:8080/"
        },
        "id": "ZXPwRAMZ5p5a",
        "outputId": "bad37e54-2a38-4be5-87c0-d69075538798"
      },
      "execution_count": 9,
      "outputs": [
        {
          "output_type": "stream",
          "name": "stdout",
          "text": [
            "B\n",
            "hello\n"
          ]
        }
      ]
    },
    {
      "cell_type": "markdown",
      "source": [
        "##**super**##"
      ],
      "metadata": {
        "id": "d_q3y0Jj596X"
      }
    },
    {
      "cell_type": "code",
      "source": [
        "#super(B,b).__init__()\n",
        "\n",
        "class B(A):\n",
        "    def __init__(self):\n",
        "        super().__init__()\n",
        "        print(\"B\")\n",
        "        \n",
        "    def hi(self):\n",
        "        print(\"hi\")\n",
        "\n",
        "b = B()"
      ],
      "metadata": {
        "colab": {
          "base_uri": "https://localhost:8080/"
        },
        "id": "JazkT4k76AdI",
        "outputId": "92604476-47d4-410c-ad6d-096af48f1551"
      },
      "execution_count": 10,
      "outputs": [
        {
          "output_type": "stream",
          "name": "stdout",
          "text": [
            "A\n",
            "B\n"
          ]
        }
      ]
    },
    {
      "cell_type": "code",
      "source": [
        "class B(A):\n",
        "    def __init__(self):\n",
        "        super(B, self).__init__()\n",
        "        print(\"B\")\n",
        "        \n",
        "    def hi(self):\n",
        "        print(\"hi\")\n",
        "\n",
        "b = B()"
      ],
      "metadata": {
        "colab": {
          "base_uri": "https://localhost:8080/"
        },
        "id": "ZEM8SsgC7UhE",
        "outputId": "2f8b9f60-c364-4983-d325-ad5434d6359d"
      },
      "execution_count": 12,
      "outputs": [
        {
          "output_type": "stream",
          "name": "stdout",
          "text": [
            "A\n",
            "B\n"
          ]
        }
      ]
    },
    {
      "cell_type": "code",
      "source": [
        "class C(B):\n",
        "    def __init__(self):\n",
        "        super(C, self).__init__() # C의 부모 클래스 호출\n",
        "        print(\"C\")\n",
        "\n",
        "c = C()  "
      ],
      "metadata": {
        "colab": {
          "base_uri": "https://localhost:8080/"
        },
        "id": "MUNuVS3HAZL5",
        "outputId": "e720640e-24bc-4986-dba3-4745446bf87d"
      },
      "execution_count": 14,
      "outputs": [
        {
          "output_type": "stream",
          "name": "stdout",
          "text": [
            "A\n",
            "B\n",
            "C\n"
          ]
        }
      ]
    },
    {
      "cell_type": "code",
      "source": [
        "class C(B):\n",
        "    def __init__(self):\n",
        "        super(B, self).__init__() # B의 부모 클래스 호출\n",
        "        print(\"C\")\n",
        "\n",
        "# B는 건너뛰고 A 호출\n",
        "c = C()  "
      ],
      "metadata": {
        "colab": {
          "base_uri": "https://localhost:8080/"
        },
        "id": "FAH9zYDT6mip",
        "outputId": "7cb73300-6bcc-40ea-8b7d-39ba9dc64e62"
      },
      "execution_count": 7,
      "outputs": [
        {
          "output_type": "stream",
          "name": "stdout",
          "text": [
            "A\n",
            "C\n"
          ]
        }
      ]
    }
  ]
}